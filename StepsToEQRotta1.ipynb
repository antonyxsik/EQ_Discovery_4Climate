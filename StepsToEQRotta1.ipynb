{
 "cells": [
  {
   "cell_type": "markdown",
   "metadata": {},
   "source": [
    "# Steps to EQ-Rotta"
   ]
  },
  {
   "cell_type": "code",
   "execution_count": 1,
   "metadata": {},
   "outputs": [],
   "source": [
    "# import necessities\n",
    "import numpy as np\n",
    "import matplotlib.pyplot as plt\n",
    "import netCDF4 as nc\n",
    "import xarray as xr\n",
    "\n",
    "# from pdfs import *\n",
    "from netCDF4 import Dataset\n",
    "import os"
   ]
  },
  {
   "cell_type": "code",
   "execution_count": 2,
   "metadata": {},
   "outputs": [],
   "source": [
    "def list_directories(path):\n",
    "    try:\n",
    "        # List all items in the given path\n",
    "        items = os.listdir(path)\n",
    "        print (path, items)\n",
    "        # Filter out the directories\n",
    "        \n",
    "        directories = [item for item in items if os.path.isdir(os.path.join(path, item)) and item.startswith('Ug')]\n",
    "        items = [item for item in items if item.startswith('Ug')]\n",
    "        \n",
    "        return  directories , items\n",
    "    except Exception as e:\n",
    "        print(f\"An error occurred: {e}\")\n",
    "        return []"
   ]
  },
  {
   "cell_type": "code",
   "execution_count": 3,
   "metadata": {},
   "outputs": [
    {
     "name": "stdout",
     "output_type": "stream",
     "text": [
      "/Users/gretavanzetten/Desktop/LEAPSummer2024/les_sim_2 ['Ug16Q006_I.nc', 'Ug8Q006_IV.nc', 'Ug8Q003_IV.nc', 'Ug16Q010_IV.nc', 'Ug2Q024_I.nc', 'Ug8Q003_III.nc', 'Ug16Q001_IV.nc', 'Ug2Q01_III.nc', 'Ug16Q003_IV.nc', 'Ug2Q010_I.nc', 'Ug1Q01_II.nc', 'Ug8Q003_II.nc', 'Ug16Q000_IV.nc', 'Ug2Q010_IV.nc', 'Ug16Q006_IV.nc']\n"
     ]
    },
    {
     "data": {
      "text/plain": [
       "([],\n",
       " ['Ug16Q006_I.nc',\n",
       "  'Ug8Q006_IV.nc',\n",
       "  'Ug8Q003_IV.nc',\n",
       "  'Ug16Q010_IV.nc',\n",
       "  'Ug2Q024_I.nc',\n",
       "  'Ug8Q003_III.nc',\n",
       "  'Ug16Q001_IV.nc',\n",
       "  'Ug2Q01_III.nc',\n",
       "  'Ug16Q003_IV.nc',\n",
       "  'Ug2Q010_I.nc',\n",
       "  'Ug1Q01_II.nc',\n",
       "  'Ug8Q003_II.nc',\n",
       "  'Ug16Q000_IV.nc',\n",
       "  'Ug2Q010_IV.nc',\n",
       "  'Ug16Q006_IV.nc'])"
      ]
     },
     "execution_count": 3,
     "metadata": {},
     "output_type": "execute_result"
    }
   ],
   "source": [
    "# list directories using above function\n",
    "searchpath = '/Users/gretavanzetten/Desktop/LEAPSummer2024/les_sim_2'\n",
    "filenames = list_directories(searchpath)\n",
    "filenames"
   ]
  },
  {
   "cell_type": "code",
   "execution_count": 4,
   "metadata": {},
   "outputs": [],
   "source": [
    "def time_average(data, timeavg):\n",
    "    \"\"\"\n",
    "    Averages an array over specified number of time steps.\n",
    "\n",
    "    Parameters:\n",
    "    - data (numpy.ndarray): The input data array with shape (ntime, nz).\n",
    "    - timeavg (int): The number of time steps over which to average.\n",
    "\n",
    "    Returns:\n",
    "    - numpy.ndarray: The averaged data array.\n",
    "    \"\"\"\n",
    "    ntime, nz = data.shape\n",
    "    # Calculate how many complete chunks we can have\n",
    "    nchunks = ntime // timeavg\n",
    "    # Truncate the array to make sure it can be reshaped properly\n",
    "    truncated_data = data[:nchunks * timeavg]\n",
    "    # Reshape the data to separate each chunk\n",
    "    reshaped_data = truncated_data.reshape(nchunks, timeavg, nz)\n",
    "    # Compute the mean along the new time axis (axis=1)\n",
    "    averaged_data = reshaped_data.mean(axis=1)\n",
    "\n",
    "    return averaged_data"
   ]
  },
  {
   "cell_type": "code",
   "execution_count": 5,
   "metadata": {},
   "outputs": [
    {
     "name": "stdout",
     "output_type": "stream",
     "text": [
      "/Users/gretavanzetten/Desktop/LEAPSummer2024/les_sim_2/ ['Ug16Q006_I.nc', 'Ug8Q006_IV.nc', 'Ug8Q003_IV.nc', 'Ug16Q010_IV.nc', 'Ug2Q024_I.nc', 'Ug8Q003_III.nc', 'Ug16Q001_IV.nc', 'Ug2Q01_III.nc', 'Ug16Q003_IV.nc', 'Ug2Q010_I.nc', 'Ug1Q01_II.nc', 'Ug8Q003_II.nc', 'Ug16Q000_IV.nc', 'Ug2Q010_IV.nc', 'Ug16Q006_IV.nc']\n",
      "budegt is in Ug16Q006_I.nc\n"
     ]
    }
   ],
   "source": [
    "time_avg = 15\n",
    "paths = ['/Users/gretavanzetten/Desktop/LEAPSummer2024/les_sim_2/']\n",
    "for path in paths:\n",
    "    directories, items = list_directories(path)\n",
    "    for i, item in enumerate(items[:1]):\n",
    "        ds_stat = Dataset( path+item )\n",
    "        if 'budget' in ds_stat.groups:\n",
    "            \n",
    "            print (\"budegt is in\", item)\n",
    "            sigma_th = time_average(ds_stat.groups['thermo']['th_2'][:],time_avg) # covariance of theta\n",
    "            sigma_2 = time_average( ds_stat.groups['default']['w_2'][:] ,time_avg) # covarianve of w \n",
    "            Theta  = time_average( ds_stat.groups['thermo']['th'][:],time_avg) # domain mean theta\n",
    "            wtheta = time_average( ds_stat.groups['thermo']['th_flux'][:],time_avg) # heat flux\n",
    "            wwtheta = time_average( ds_stat.groups['budget']['wwtheta'][:],time_avg) # third moment, covarince between wtheta and w\n",
    "        else:\n",
    "            print (item)"
   ]
  },
  {
   "cell_type": "markdown",
   "metadata": {},
   "source": [
    "## Diagnosing Constants \n",
    "Often we use conventional constant to normzalize profiles. here are some of the typically used in the PBL"
   ]
  },
  {
   "cell_type": "code",
   "execution_count": 6,
   "metadata": {},
   "outputs": [],
   "source": [
    "wtheta_surface = ds_stat.groups[\"thermo\"]['th_flux'][:,0]\n",
    "pbl_height = ds_stat.groups['thermo'].variables['zi'][:]# this is a time dependent variable\n",
    "grr = 9.8\n",
    "T_0 = 300\n",
    "wstar  = np.power( grr/T_0 * (wtheta_surface) * pbl_height , 1/3)\n",
    "theta_star = wtheta_surface / wstar\n",
    "scaling = wstar**2 * theta_star / pbl_height\n",
    "betta = grr/T_0\n",
    "ustar = ds_stat.groups['default'].variables['ustar'][:]"
   ]
  },
  {
   "cell_type": "markdown",
   "metadata": {},
   "source": [
    "## From Paper: \"The non-local character of turbulence asymmetry in the convective atmospheric boundary layer\"\n",
    "\n",
    "The heat-flux budget in the convective boundary layer (utilizing Boussinesq approximiation) reduces to:\n",
    "$$ \\frac{\\partial (w \\theta)}{\\partial t} = 0 = \\sigma^2_w \\frac{d\\theta}{dz} - \\frac{d \\overline{(w w \\theta)}}{dz} - \\frac{1}{p_0} \\overline{\\left( \\theta \\frac{dp}{dz} \\right)} + \\beta \\overline{\\theta^2} $$\n",
    "\n",
    "Where, assuming the left hand side is smaller compared to terms on the right hand side: \n",
    "$$0 = -M-T-P+B$$\n",
    "- $M = \\sigma^2_w \\frac{d\\theta}{dz}$ $\\rightarrow$ Mean-gradient production \n",
    "- $T = \\frac{d \\overline{(w w \\theta)}}{dz}$ $\\rightarrow$ Turbulent flux transport\n",
    "- $P = \\frac{1}{p_0} \\overline{\\left( \\theta \\frac{dp}{dz} \\right)}$ $\\rightarrow$ Pressure gradient-potential temperature covarience\n",
    "- $B = \\beta \\overline{\\theta^2}$ $\\rightarrow$ buoyancy production\n",
    "\n",
    "Additionally,\n",
    "- $p_0 =$ reference state air density\n",
    "- $p =$ pressure fluctuation referenced to the hydrostatic state (finite value attributed to turbulence)"
   ]
  },
  {
   "cell_type": "code",
   "execution_count": 7,
   "metadata": {},
   "outputs": [
    {
     "name": "stdout",
     "output_type": "stream",
     "text": [
      "Group: default\n",
      "Variable: iter, Long Name: Iteration number, Dimensions: ('time',)\n",
      "Variable: area, Long Name: Fractional area contained in mask, Dimensions: ('time', 'z')\n",
      "Variable: areah, Long Name: Fractional area contained in mask, Dimensions: ('time', 'zh')\n",
      "Variable: eft, Long Name: eft, Dimensions: ('time', 'z')\n",
      "Variable: eft_3, Long Name: Moment 3 of the eft, Dimensions: ('time', 'z')\n",
      "Variable: eft_4, Long Name: Moment 4 of the eft, Dimensions: ('time', 'z')\n",
      "Variable: eft_diff, Long Name: Diffusive flux of the eft, Dimensions: ('time', 'zh')\n",
      "Variable: eft_w, Long Name: Turbulent flux of the eft, Dimensions: ('time', 'zh')\n",
      "Variable: eft_grad, Long Name: Gradient of the eft, Dimensions: ('time', 'zh')\n",
      "Variable: eft_2, Long Name: Moment 2 of the eft, Dimensions: ('time', 'z')\n",
      "Variable: eft_path, Long Name: eft path, Dimensions: ('time',)\n",
      "Variable: eft_flux, Long Name: Total flux of the eft, Dimensions: ('time', 'zh')\n",
      "Variable: sft, Long Name: sft, Dimensions: ('time', 'z')\n",
      "Variable: sft_3, Long Name: Moment 3 of the sft, Dimensions: ('time', 'z')\n",
      "Variable: sft_4, Long Name: Moment 4 of the sft, Dimensions: ('time', 'z')\n",
      "Variable: sft_diff, Long Name: Diffusive flux of the sft, Dimensions: ('time', 'zh')\n",
      "Variable: sft_w, Long Name: Turbulent flux of the sft, Dimensions: ('time', 'zh')\n",
      "Variable: sft_grad, Long Name: Gradient of the sft, Dimensions: ('time', 'zh')\n",
      "Variable: sft_2, Long Name: Moment 2 of the sft, Dimensions: ('time', 'z')\n",
      "Variable: sft_path, Long Name: sft path, Dimensions: ('time',)\n",
      "Variable: sft_flux, Long Name: Total flux of the sft, Dimensions: ('time', 'zh')\n",
      "Variable: sft2, Long Name: sft2, Dimensions: ('time', 'z')\n",
      "Variable: sft2_3, Long Name: Moment 3 of the sft2, Dimensions: ('time', 'z')\n",
      "Variable: sft2_4, Long Name: Moment 4 of the sft2, Dimensions: ('time', 'z')\n",
      "Variable: sft2_diff, Long Name: Diffusive flux of the sft2, Dimensions: ('time', 'zh')\n",
      "Variable: sft2_w, Long Name: Turbulent flux of the sft2, Dimensions: ('time', 'zh')\n",
      "Variable: sft2_grad, Long Name: Gradient of the sft2, Dimensions: ('time', 'zh')\n",
      "Variable: sft2_2, Long Name: Moment 2 of the sft2, Dimensions: ('time', 'z')\n",
      "Variable: sft2_path, Long Name: sft2 path, Dimensions: ('time',)\n",
      "Variable: sft2_flux, Long Name: Total flux of the sft2, Dimensions: ('time', 'zh')\n",
      "Variable: u, Long Name: U velocity, Dimensions: ('time', 'z')\n",
      "Variable: u_3, Long Name: Moment 3 of the U velocity, Dimensions: ('time', 'z')\n",
      "Variable: u_4, Long Name: Moment 4 of the U velocity, Dimensions: ('time', 'z')\n",
      "Variable: u_diff, Long Name: Diffusive flux of the U velocity, Dimensions: ('time', 'zh')\n",
      "Variable: u_w, Long Name: Turbulent flux of the U velocity, Dimensions: ('time', 'zh')\n",
      "Variable: u_grad, Long Name: Gradient of the U velocity, Dimensions: ('time', 'zh')\n",
      "Variable: u_2, Long Name: Moment 2 of the U velocity, Dimensions: ('time', 'z')\n",
      "Variable: u_path, Long Name: U velocity path, Dimensions: ('time',)\n",
      "Variable: u_flux, Long Name: Total flux of the U velocity, Dimensions: ('time', 'zh')\n",
      "Variable: v, Long Name: V velocity, Dimensions: ('time', 'z')\n",
      "Variable: v_3, Long Name: Moment 3 of the V velocity, Dimensions: ('time', 'z')\n",
      "Variable: v_4, Long Name: Moment 4 of the V velocity, Dimensions: ('time', 'z')\n",
      "Variable: v_diff, Long Name: Diffusive flux of the V velocity, Dimensions: ('time', 'zh')\n",
      "Variable: v_w, Long Name: Turbulent flux of the V velocity, Dimensions: ('time', 'zh')\n",
      "Variable: v_grad, Long Name: Gradient of the V velocity, Dimensions: ('time', 'zh')\n",
      "Variable: v_2, Long Name: Moment 2 of the V velocity, Dimensions: ('time', 'z')\n",
      "Variable: v_path, Long Name: V velocity path, Dimensions: ('time',)\n",
      "Variable: v_flux, Long Name: Total flux of the V velocity, Dimensions: ('time', 'zh')\n",
      "Variable: w, Long Name: Vertical velocity, Dimensions: ('time', 'zh')\n",
      "Variable: w_3, Long Name: Moment 3 of the Vertical velocity, Dimensions: ('time', 'zh')\n",
      "Variable: w_4, Long Name: Moment 4 of the Vertical velocity, Dimensions: ('time', 'zh')\n",
      "Variable: w_2, Long Name: Moment 2 of the Vertical velocity, Dimensions: ('time', 'zh')\n",
      "Variable: p, Long Name: Pressure, Dimensions: ('time', 'z')\n",
      "Variable: p_grad, Long Name: Gradient of the Pressure, Dimensions: ('time', 'zh')\n",
      "Variable: p_2, Long Name: Moment 2 of the Pressure, Dimensions: ('time', 'z')\n",
      "Variable: p_w, Long Name: Turbulent flux of the Pressure, Dimensions: ('time', 'zh')\n",
      "Variable: eft_bot, Long Name: Surface eft, Dimensions: ('time',)\n",
      "Variable: sft_bot, Long Name: Surface sft, Dimensions: ('time',)\n",
      "Variable: sft2_bot, Long Name: Surface sft2, Dimensions: ('time',)\n",
      "Variable: ustar, Long Name: Surface friction velocity, Dimensions: ('time',)\n",
      "Variable: obuk, Long Name: Obukhov length, Dimensions: ('time',)\n",
      "Variable: evisc, Long Name: Eddy viscosity, Dimensions: ('time', 'z')\n",
      "Variable: evisc_2, Long Name: Moment 2 of the Eddy viscosity, Dimensions: ('time', 'z')\n",
      "\n",
      "\n",
      "Group: thermo\n",
      "Variable: th, Long Name: Potential Temperature, Dimensions: ('time', 'z')\n",
      "Variable: th_3, Long Name: Moment 3 of the Potential Temperature, Dimensions: ('time', 'z')\n",
      "Variable: th_4, Long Name: Moment 4 of the Potential Temperature, Dimensions: ('time', 'z')\n",
      "Variable: th_diff, Long Name: Diffusive flux of the Potential Temperature, Dimensions: ('time', 'zh')\n",
      "Variable: th_w, Long Name: Turbulent flux of the Potential Temperature, Dimensions: ('time', 'zh')\n",
      "Variable: th_grad, Long Name: Gradient of the Potential Temperature, Dimensions: ('time', 'zh')\n",
      "Variable: th_2, Long Name: Moment 2 of the Potential Temperature, Dimensions: ('time', 'z')\n",
      "Variable: th_path, Long Name: Potential Temperature path, Dimensions: ('time',)\n",
      "Variable: th_flux, Long Name: Total flux of the Potential Temperature, Dimensions: ('time', 'zh')\n",
      "Variable: th_bot, Long Name: Surface Potential Temperature, Dimensions: ('time',)\n",
      "Variable: rhoref, Long Name: Full level basic state density, Dimensions: ('z',)\n",
      "Variable: rhorefh, Long Name: Half level basic state density, Dimensions: ('zh',)\n",
      "Variable: thref, Long Name: Full level basic state potential temperature, Dimensions: ('z',)\n",
      "Variable: threfh, Long Name: Half level basic state potential temperature, Dimensions: ('zh',)\n",
      "Variable: b, Long Name: Buoyancy, Dimensions: ('time', 'z')\n",
      "Variable: b_3, Long Name: Moment 3 of the Buoyancy, Dimensions: ('time', 'z')\n",
      "Variable: b_4, Long Name: Moment 4 of the Buoyancy, Dimensions: ('time', 'z')\n",
      "Variable: b_diff, Long Name: Diffusive flux of the Buoyancy, Dimensions: ('time', 'zh')\n",
      "Variable: b_w, Long Name: Turbulent flux of the Buoyancy, Dimensions: ('time', 'zh')\n",
      "Variable: b_grad, Long Name: Gradient of the Buoyancy, Dimensions: ('time', 'zh')\n",
      "Variable: b_2, Long Name: Moment 2 of the Buoyancy, Dimensions: ('time', 'z')\n",
      "Variable: b_flux, Long Name: Total flux of the Buoyancy, Dimensions: ('time', 'zh')\n",
      "Variable: zi, Long Name: Boundary Layer Depth, Dimensions: ('time',)\n",
      "\n",
      "\n",
      "Group: budget\n",
      "Variable: ke, Long Name: Kinetic energy, Dimensions: ('time', 'z')\n",
      "Variable: tke, Long Name: Turbulent kinetic energy, Dimensions: ('time', 'z')\n",
      "Variable: u2_shear, Long Name: Shear production term in U2 budget, Dimensions: ('time', 'z')\n",
      "Variable: v2_shear, Long Name: Shear production term in V2 budget, Dimensions: ('time', 'z')\n",
      "Variable: tke_shear, Long Name: Shear production term in TKE budget, Dimensions: ('time', 'z')\n",
      "Variable: uw_shear, Long Name: Shear production term in UW budget, Dimensions: ('time', 'zh')\n",
      "Variable: vw_shear, Long Name: Shear production term in VW budget, Dimensions: ('time', 'zh')\n",
      "Variable: u2_turb, Long Name: Turbulent transport term in U2 budget, Dimensions: ('time', 'z')\n",
      "Variable: v2_turb, Long Name: Turbulent transport term in V2 budget, Dimensions: ('time', 'z')\n",
      "Variable: w2_turb, Long Name: Turbulent transport term in W2 budget, Dimensions: ('time', 'zh')\n",
      "Variable: tke_turb, Long Name: Turbulent transport term in TKE budget, Dimensions: ('time', 'z')\n",
      "Variable: uw_turb, Long Name: Turbulent transport term in UW budget, Dimensions: ('time', 'zh')\n",
      "Variable: vw_turb, Long Name: Turbulent transport term in VW budget, Dimensions: ('time', 'zh')\n",
      "Variable: w2_pres, Long Name: Pressure transport term in W2 budget, Dimensions: ('time', 'zh')\n",
      "Variable: tke_pres, Long Name: Pressure transport term in TKE budget, Dimensions: ('time', 'z')\n",
      "Variable: uw_pres, Long Name: Pressure transport term in UW budget, Dimensions: ('time', 'zh')\n",
      "Variable: vw_pres, Long Name: Pressure transport term in VW budget, Dimensions: ('time', 'zh')\n",
      "Variable: u2_rdstr, Long Name: Pressure redistribution term in U2 budget, Dimensions: ('time', 'z')\n",
      "Variable: v2_rdstr, Long Name: Pressure redistribution term in V2 budget, Dimensions: ('time', 'z')\n",
      "Variable: w2_rdstr, Long Name: Pressure redistribution term in W2 budget, Dimensions: ('time', 'zh')\n",
      "Variable: uw_rdstr, Long Name: Pressure redistribution term in UW budget, Dimensions: ('time', 'zh')\n",
      "Variable: vw_rdstr, Long Name: Pressure redistribution term in VW budget, Dimensions: ('time', 'zh')\n",
      "Variable: u2_cor, Long Name: Coriolis term in U2 budget, Dimensions: ('time', 'z')\n",
      "Variable: v2_cor, Long Name: Coriolis term in V2 budget, Dimensions: ('time', 'z')\n",
      "Variable: uw_cor, Long Name: Coriolis term in UW budget, Dimensions: ('time', 'zh')\n",
      "Variable: vw_cor, Long Name: Coriolis term in VW budget, Dimensions: ('time', 'zh')\n",
      "Variable: u2_diff, Long Name: Total diffusive term in U2 budget, Dimensions: ('time', 'z')\n",
      "Variable: v2_diff, Long Name: Total diffusive term in V2 budget, Dimensions: ('time', 'z')\n",
      "Variable: w2_diff, Long Name: Total diffusive term in W2 budget, Dimensions: ('time', 'zh')\n",
      "Variable: tke_diff, Long Name: Total diffusive term in TKE budget, Dimensions: ('time', 'z')\n",
      "Variable: uw_diff, Long Name: Total diffusive term in UW budget, Dimensions: ('time', 'zh')\n",
      "Variable: vw_diff, Long Name: Total diffusive term in VW budget, Dimensions: ('time', 'zh')\n",
      "Variable: w2_buoy, Long Name: Buoyancy production/destruction term in W2 budget, Dimensions: ('time', 'zh')\n",
      "Variable: tke_buoy, Long Name: Buoyancy production/destruction term in TKE budget, Dimensions: ('time', 'z')\n",
      "Variable: uw_buoy, Long Name: Buoyancy production/destruction term in UW budget, Dimensions: ('time', 'zh')\n",
      "Variable: vw_buoy, Long Name: Buoyancy production/destruction term in VW budget, Dimensions: ('time', 'zh')\n",
      "Variable: b2_shear, Long Name: Shear production term in B2 budget, Dimensions: ('time', 'z')\n",
      "Variable: b2_turb, Long Name: Turbulent transport term in B2 budget, Dimensions: ('time', 'z')\n",
      "Variable: bw_shear, Long Name: Shear production term in B2 budget, Dimensions: ('time', 'zh')\n",
      "Variable: bw_turb, Long Name: Turbulent transport term in B2 budget, Dimensions: ('time', 'zh')\n",
      "Variable: b2_visc, Long Name: Viscous transport term in B2 budget, Dimensions: ('time', 'z')\n",
      "Variable: b2_diss, Long Name: Dissipation term in B2 budget, Dimensions: ('time', 'z')\n",
      "Variable: bw_visc, Long Name: Viscous transport term in BW budget, Dimensions: ('time', 'zh')\n",
      "Variable: bw_diss, Long Name: Dissipation term in BW budget, Dimensions: ('time', 'zh')\n",
      "Variable: bw_rdstr, Long Name: Redistribution term in BW budget, Dimensions: ('time', 'zh')\n",
      "Variable: bw_buoy, Long Name: Buoyancy term in BW budget, Dimensions: ('time', 'zh')\n",
      "Variable: bw_pres, Long Name: Pressure transport term in BW budget, Dimensions: ('time', 'zh')\n",
      "Variable: wwtheta, Long Name: No long name, Dimensions: ('time', 'zh')\n",
      "\n",
      "\n"
     ]
    }
   ],
   "source": [
    "# print short and long names of variables within each group \n",
    "### default - velocity terms\n",
    "### Thermo - buoyancy or theta\n",
    "### budget - TKE or heat budget terms\n",
    "\n",
    "file_path = searchpath+'/Ug2Q010_I.nc'\n",
    "df = nc.Dataset(file_path, mode='r')\n",
    "for group_name, group in df.groups.items():\n",
    "    print(f\"Group: {group_name}\")\n",
    "    for var_name, var in group.variables.items():\n",
    "        long_name = var.getncattr('long_name') if 'long_name' in var.ncattrs() else 'No long name'\n",
    "        dimensions = var.dimensions if hasattr(var, 'dimensions') else 'No dimensions attribute'\n",
    "        print(f\"Variable: {var_name}, Long Name: {long_name}, Dimensions: {dimensions}\")\n",
    "    print(\"\\n\")\n",
    "df.close()"
   ]
  },
  {
   "cell_type": "markdown",
   "metadata": {},
   "source": [
    "## Compute the P term as residual\n",
    "Utilizing the above equation, assuming that the left hand side is smaller compared to terms on the right hand side."
   ]
  },
  {
   "cell_type": "code",
   "execution_count": 8,
   "metadata": {},
   "outputs": [],
   "source": [
    "# calculating the P term for Ug2Q010_I.nc\n",
    "\n",
    "df = nc.Dataset(file_path, mode='r')\n",
    "default = df.groups['default']\n",
    "thermo = df.groups['thermo']\n",
    "budget = df.groups['budget']\n",
    "\n",
    "#extract variables\n",
    "b = thermo.variables['b'][:] #buoyancy (z)\n",
    "th = thermo.variables['th'][:] #potential temperature (z)\n",
    "th_2 = thermo.variables['th_2'][:] #second moment of potential temperature (z)\n",
    "w = default.variables['w'][:] #vertical velocity (zh)\n",
    "w_2 = default.variables['w_2'][:] #second moment of vertical velocity (zh)\n",
    "\n",
    "#calculate varience of vertical velocity (sigma_w^2) --> for M term\n",
    "w_mean = np.mean(w, axis=0)\n",
    "sigma_w_sq = w_2 - (w_mean ** 2)\n",
    "\n",
    "#check/store height levels for future interpolation\n",
    "zh_levels = w.shape[1]\n",
    "z_levels = th.shape[1]"
   ]
  },
  {
   "cell_type": "code",
   "execution_count": 9,
   "metadata": {},
   "outputs": [],
   "source": [
    "#w and th/b have different heght dimensions, interpolate variables to w\n",
    "th_interp = np.zeros_like(w)\n",
    "for t in range(w.shape[0]):\n",
    "    th_interp[t, :] = np.interp(np.arange(zh_levels), np.arange(z_levels), th[t, :])\n",
    "th_2_interp = np.zeros_like(w)\n",
    "for t in range(w.shape[0]):\n",
    "    th_interp[t, :] = np.interp(np.arange(zh_levels), np.arange(z_levels), th_2[t, :])\n",
    "b_interp = np.zeros_like(w)\n",
    "for t in range(w.shape[0]):\n",
    "    th_interp[t, :] = np.interp(np.arange(zh_levels), np.arange(z_levels), b[t, :])\n",
    "\n",
    "#calculate product of w*th at every time step\n",
    "w_theta_prod = w * th_interp\n",
    "ww_theta_prod = w * w_theta_prod\n",
    "\n",
    "#calculate mean of ww_theta_prod to get flux (/overline{wwtheta}) --> for T term\n",
    "ww_theta_flux = np.mean(ww_theta_prod, axis=0)\n",
    "\n",
    "#calculate varience of potential temperature (/overline{theta^2}) --> for B term\n",
    "th_mean = np.mean(th_interp, axis=0)\n",
    "th_sq = th_2_interp - th_mean ** 2"
   ]
  },
  {
   "cell_type": "code",
   "execution_count": 10,
   "metadata": {},
   "outputs": [
    {
     "name": "stdout",
     "output_type": "stream",
     "text": [
      "M (120, 257)\n",
      "T (257,)\n",
      "B (120, 257)\n"
     ]
    }
   ],
   "source": [
    "# calculating terms\n",
    "M = sigma_w_sq * np.gradient(th_interp, axis=1) \n",
    "T = np.gradient(ww_theta_flux, axis=None) \n",
    "B = b_interp * th_sq\n",
    "\n",
    "print(\"M\", M.shape)\n",
    "print(\"T\",T.shape)\n",
    "print(\"B\",B.shape)"
   ]
  },
  {
   "cell_type": "code",
   "execution_count": 11,
   "metadata": {},
   "outputs": [
    {
     "name": "stdout",
     "output_type": "stream",
     "text": [
      "[[-2.4574857500459562e-33 0.00011589168435329406 0.00020622801508267852\n",
      "  ... -1.0259589543443311e-08 -1.2270136035204914e-09\n",
      "  8.643319447644454e-35]\n",
      " [-2.4574857500459562e-33 0.0001161284698534734 0.0002055281426723174 ...\n",
      "  -1.0131355110558015e-08 -1.213221361106684e-09 8.643319447644454e-35]\n",
      " [-2.4574857500459562e-33 0.00011670923777264405 0.00020594137183249983\n",
      "  ... -1.0703017214797686e-08 -1.2829473089642863e-09\n",
      "  8.643319447644454e-35]\n",
      " ...\n",
      " [-2.4574857500459562e-33 0.00011507512012385748 0.00020407200605076925\n",
      "  ... -7.453111754246157e-09 -8.971583972388781e-10 8.643319447644454e-35]\n",
      " [-2.4574857500459562e-33 0.00011475179350060253 0.00020372245925767829\n",
      "  ... -7.396495260923234e-09 -8.907979928358375e-10 8.643319447644454e-35]\n",
      " [-2.4574857500459562e-33 0.00011449326664193339 0.00020323849168995327\n",
      "  ... -7.488175798968286e-09 -9.024246371184729e-10 8.643319447644454e-35]]\n"
     ]
    }
   ],
   "source": [
    "# computing P\n",
    "P = -M-T+B\n",
    "print(P)"
   ]
  },
  {
   "cell_type": "markdown",
   "metadata": {},
   "source": [
    "## Comparing P term and original rotta model plot\n",
    "Lets reproduce plot 6 of the turbulece asymmetry paper to make sure we have all terms looking \"somewhat\" similar. \"somewhat\" because the rotta model may not be very accurate."
   ]
  },
  {
   "cell_type": "markdown",
   "metadata": {},
   "source": [
    "## Cutting out near surface part\n",
    "Some of the assumptions we make when computing P as a residual may not hold near the surface. Therefore, before preparing data for EQ, we remove the near-surface part of the profile, typically the top 7-10 layers"
   ]
  }
 ],
 "metadata": {
  "kernelspec": {
   "display_name": "Python 3",
   "language": "python",
   "name": "python3"
  },
  "language_info": {
   "codemirror_mode": {
    "name": "ipython",
    "version": 3
   },
   "file_extension": ".py",
   "mimetype": "text/x-python",
   "name": "python",
   "nbconvert_exporter": "python",
   "pygments_lexer": "ipython3",
   "version": "3.12.1"
  }
 },
 "nbformat": 4,
 "nbformat_minor": 2
}
