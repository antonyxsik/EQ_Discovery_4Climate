{
 "cells": [
  {
   "cell_type": "markdown",
   "id": "770837a2",
   "metadata": {},
   "source": [
    "# Steps to EQ Rotta\n",
    "\n",
    "*Authors: Antony Sikorski, Sara Shamekh*\n",
    "\n",
    "My modifications to the original EQ-Rotta notebook. Significant changes: \n",
    "\n",
    "- slightly different file finding function\n",
    "- time average function now works for 1d and 2d data. \n",
    "- Using multiple files at once (this means quite a bit more work for variables, constants, etc) "
   ]
  },
  {
   "cell_type": "code",
   "execution_count": 1,
   "id": "3489d55e-59c3-4129-be0a-6c5923186507",
   "metadata": {},
   "outputs": [],
   "source": [
    "# from pdfs import *\n",
    "import os\n",
    "\n",
    "import xarray as xr\n",
    "import netCDF4 as nc\n",
    "import h5netcdf\n",
    "\n",
    "import numpy as np\n",
    "import matplotlib.pyplot as plt\n",
    "from IPython.display import display"
   ]
  },
  {
   "cell_type": "markdown",
   "id": "f9f98f68",
   "metadata": {},
   "source": [
    "Should return all files and folders that start with 'Ug', although in our case right now it should just be files: "
   ]
  },
  {
   "cell_type": "code",
   "execution_count": 2,
   "id": "ca3f5ec4-060f-46c6-8676-5553505315ba",
   "metadata": {},
   "outputs": [],
   "source": [
    "def list_directories_files(path):\n",
    "    # all items in the given path\n",
    "    items = os.listdir(path)\n",
    "    \n",
    "    # find the directories starting with 'Ug'\n",
    "    directories = [item for item in items if os.path.isdir(os.path.join(path, item)) and item.startswith('Ug')]\n",
    "    # find the files starting with 'Ug'\n",
    "    files = [item for item in items if os.path.isfile(os.path.join(path, item)) and item.startswith('Ug')]\n",
    "    \n",
    "    return directories, files\n"
   ]
  },
  {
   "cell_type": "markdown",
   "id": "964ddaf8",
   "metadata": {},
   "source": [
    "This lists all of our files. **All that needs to be changed is the path.** "
   ]
  },
  {
   "cell_type": "code",
   "execution_count": 3,
   "id": "3dd722e7",
   "metadata": {},
   "outputs": [
    {
     "name": "stdout",
     "output_type": "stream",
     "text": [
      "Directories starting with 'Ug': []\n",
      "Files starting with 'Ug': ['Ug16Q000_IV.nc', 'Ug16Q001_IV.nc', 'Ug16Q003_IV.nc', 'Ug16Q006_I.nc', 'Ug16Q006_IV.nc', 'Ug16Q010_IV.nc', 'Ug1Q01_II.nc', 'Ug2Q010_I.nc', 'Ug2Q010_IV.nc', 'Ug2Q01_III.nc', 'Ug2Q024_I.nc', 'Ug8Q003_II.nc', 'Ug8Q003_III.nc', 'Ug8Q003_IV.nc', 'Ug8Q006_IV.nc']\n"
     ]
    }
   ],
   "source": [
    "path = 'C:/Users/anton/Desktop/Career/LEAP_nyc_Summer2024/les_sim_2/'\n",
    "\n",
    "\n",
    "directories, files = list_directories_files(path)\n",
    "print(\"Directories starting with 'Ug':\", directories)\n",
    "print(\"Files starting with 'Ug':\", files)"
   ]
  },
  {
   "cell_type": "code",
   "execution_count": 4,
   "id": "f6cbcb27",
   "metadata": {},
   "outputs": [],
   "source": [
    "# nc_test1 = nc.Dataset(os.path.join('C:/Users/anton/Desktop/Career/LEAP_nyc_Summer2024/les_sim_2/', 'Ug2Q010_I.nc'), mode='r')\n",
    "\n",
    "# z_256 = nc_test1.variables['z'][:]\n",
    "# zh_257 = nc_test1.variables['zh'][:]\n",
    "# t_120 = nc_test1.variables['time'][:]\n",
    "\n",
    "# #rewrite this code but using 'Ug2Q010_IV.nc' instead\n",
    "# nc_test2 = nc.Dataset(os.path.join('C:/Users/anton/Desktop/Career/LEAP_nyc_Summer2024/les_sim_2/', 'Ug2Q010_IV.nc'), mode='r')\n",
    "\n",
    "# z_384 = nc_test2.variables['z'][:]\n",
    "# zh_385 = nc_test2.variables['zh'][:]\n",
    "# t_90 = nc_test2.variables['time'][:]\n",
    "\n",
    "# # print(len(z_256), len(zh_257), len(t_120), len(z_384), len(zh_385), len(t_90))"
   ]
  },
  {
   "cell_type": "code",
   "execution_count": 5,
   "id": "76ffc386-7bd0-4b80-a561-4a21edd093a5",
   "metadata": {},
   "outputs": [],
   "source": [
    "def time_average(data, timeavg):\n",
    "    \"\"\"\n",
    "    Averages an array over specified number of time steps. Works for both 1D and higher-dimensional arrays.\n",
    "\n",
    "    Parameters:\n",
    "    - data (numpy.ndarray): The input data array. Expected shapes are either (ntime,) or (ntime, nz).\n",
    "    - timeavg (int): The number of time steps over which to average.\n",
    "\n",
    "    Returns:\n",
    "    - numpy.ndarray: The averaged data array.\n",
    "    \"\"\"\n",
    "    ntime = data.shape[0]\n",
    "    nchunks = ntime // timeavg\n",
    "    truncated_data = data[:nchunks * timeavg]\n",
    "\n",
    "    if data.ndim == 1:\n",
    "        # for 1D arrays, reshape to (nchunks, timeavg)\n",
    "        reshaped_data = truncated_data.reshape(nchunks, timeavg)\n",
    "    else:\n",
    "        # for 2D arrays, old method with reshaping\n",
    "        nz = data.shape[1]\n",
    "        reshaped_data = truncated_data.reshape(nchunks, timeavg, nz)\n",
    "\n",
    "    # compute the mean along the new time axis \n",
    "    averaged_data = reshaped_data.mean(axis=1)\n",
    "\n",
    "    return averaged_data\n"
   ]
  },
  {
   "cell_type": "code",
   "execution_count": 6,
   "id": "7ddaec8f-52de-4632-9cfa-237ebb5ace53",
   "metadata": {},
   "outputs": [
    {
     "name": "stdout",
     "output_type": "stream",
     "text": [
      "budget is not in Ug16Q000_IV.nc\n",
      "budget is in Ug16Q001_IV.nc\n",
      "budget is in Ug16Q003_IV.nc\n",
      "budget is in Ug16Q006_I.nc\n",
      "budget is in Ug16Q006_IV.nc\n",
      "budget is in Ug16Q010_IV.nc\n",
      "budget is in Ug1Q01_II.nc\n",
      "budget is in Ug2Q010_I.nc\n",
      "budget is in Ug2Q010_IV.nc\n",
      "budget is in Ug2Q01_III.nc\n",
      "budget is in Ug2Q024_I.nc\n",
      "budget is in Ug8Q003_II.nc\n",
      "budget is in Ug8Q003_III.nc\n",
      "budget is in Ug8Q003_IV.nc\n",
      "budget is in Ug8Q006_IV.nc\n"
     ]
    }
   ],
   "source": [
    "items = files\n",
    "\n",
    "time_avg = 15\n",
    "\n",
    "for item in items:\n",
    "    ds_stat = nc.Dataset( os.path.join(path, item), mode='r')\n",
    "    if 'budget' in ds_stat.groups:\n",
    "        print (\"budget is in\", item)\n",
    "    else:\n",
    "        print (\"budget is not in\", item)\n",
    "    "
   ]
  },
  {
   "cell_type": "markdown",
   "id": "c7966436",
   "metadata": {},
   "source": [
    "It appears that we can use all files except the very first (000) file. Going to print out all of the viable files so we can see dimension sizes and groups: "
   ]
  },
  {
   "cell_type": "code",
   "execution_count": 7,
   "id": "255a09a8",
   "metadata": {},
   "outputs": [
    {
     "name": "stdout",
     "output_type": "stream",
     "text": [
      "Ug16Q001_IV.nc\n",
      "<class 'netCDF4._netCDF4.Dataset'>\n",
      "root group (NETCDF4 data model, file format HDF5):\n",
      "    dimensions(sizes): z(384), zh(385), time(120)\n",
      "    variables(dimensions): float64 time(time), float64 z(z), float64 zh(zh)\n",
      "    groups: default, thermo, budget\n",
      "Ug16Q003_IV.nc\n",
      "<class 'netCDF4._netCDF4.Dataset'>\n",
      "root group (NETCDF4 data model, file format HDF5):\n",
      "    dimensions(sizes): z(384), zh(385), time(120)\n",
      "    variables(dimensions): float64 time(time), float64 z(z), float64 zh(zh)\n",
      "    groups: default, thermo, budget\n",
      "Ug16Q006_I.nc\n",
      "<class 'netCDF4._netCDF4.Dataset'>\n",
      "root group (NETCDF4 data model, file format HDF5):\n",
      "    dimensions(sizes): z(256), zh(257), time(120)\n",
      "    variables(dimensions): float64 time(time), float64 z(z), float64 zh(zh)\n",
      "    groups: default, thermo, budget\n",
      "Ug16Q006_IV.nc\n",
      "<class 'netCDF4._netCDF4.Dataset'>\n",
      "root group (NETCDF4 data model, file format HDF5):\n",
      "    dimensions(sizes): z(384), zh(385), time(90)\n",
      "    variables(dimensions): float64 time(time), float64 z(z), float64 zh(zh)\n",
      "    groups: default, thermo, budget\n",
      "Ug16Q010_IV.nc\n",
      "<class 'netCDF4._netCDF4.Dataset'>\n",
      "root group (NETCDF4 data model, file format HDF5):\n",
      "    dimensions(sizes): z(384), zh(385), time(90)\n",
      "    variables(dimensions): float64 time(time), float64 z(z), float64 zh(zh)\n",
      "    groups: default, thermo, budget\n",
      "Ug1Q01_II.nc\n",
      "<class 'netCDF4._netCDF4.Dataset'>\n",
      "root group (NETCDF4 data model, file format HDF5):\n",
      "    dimensions(sizes): z(384), zh(385), time(120)\n",
      "    variables(dimensions): float64 time(time), float64 z(z), float64 zh(zh)\n",
      "    groups: default, thermo, budget\n",
      "Ug2Q010_I.nc\n",
      "<class 'netCDF4._netCDF4.Dataset'>\n",
      "root group (NETCDF4 data model, file format HDF5):\n",
      "    dimensions(sizes): z(256), zh(257), time(120)\n",
      "    variables(dimensions): float64 time(time), float64 z(z), float64 zh(zh)\n",
      "    groups: default, thermo, budget\n",
      "Ug2Q010_IV.nc\n",
      "<class 'netCDF4._netCDF4.Dataset'>\n",
      "root group (NETCDF4 data model, file format HDF5):\n",
      "    dimensions(sizes): z(384), zh(385), time(90)\n",
      "    variables(dimensions): float64 time(time), float64 z(z), float64 zh(zh)\n",
      "    groups: default, thermo, budget\n",
      "Ug2Q01_III.nc\n",
      "<class 'netCDF4._netCDF4.Dataset'>\n",
      "root group (NETCDF4 data model, file format HDF5):\n",
      "    dimensions(sizes): z(384), zh(385), time(120)\n",
      "    variables(dimensions): float64 time(time), float64 z(z), float64 zh(zh)\n",
      "    groups: default, thermo, budget\n",
      "Ug2Q024_I.nc\n",
      "<class 'netCDF4._netCDF4.Dataset'>\n",
      "root group (NETCDF4 data model, file format HDF5):\n",
      "    dimensions(sizes): z(256), zh(257), time(120)\n",
      "    variables(dimensions): float64 time(time), float64 z(z), float64 zh(zh)\n",
      "    groups: default, thermo, budget\n",
      "Ug8Q003_II.nc\n",
      "<class 'netCDF4._netCDF4.Dataset'>\n",
      "root group (NETCDF4 data model, file format HDF5):\n",
      "    dimensions(sizes): z(384), zh(385), time(120)\n",
      "    variables(dimensions): float64 time(time), float64 z(z), float64 zh(zh)\n",
      "    groups: default, thermo, budget\n",
      "Ug8Q003_III.nc\n",
      "<class 'netCDF4._netCDF4.Dataset'>\n",
      "root group (NETCDF4 data model, file format HDF5):\n",
      "    dimensions(sizes): z(384), zh(385), time(120)\n",
      "    variables(dimensions): float64 time(time), float64 z(z), float64 zh(zh)\n",
      "    groups: default, thermo, budget\n",
      "Ug8Q003_IV.nc\n",
      "<class 'netCDF4._netCDF4.Dataset'>\n",
      "root group (NETCDF4 data model, file format HDF5):\n",
      "    dimensions(sizes): z(384), zh(385), time(120)\n",
      "    variables(dimensions): float64 time(time), float64 z(z), float64 zh(zh)\n",
      "    groups: default, thermo, budget\n",
      "Ug8Q006_IV.nc\n",
      "<class 'netCDF4._netCDF4.Dataset'>\n",
      "root group (NETCDF4 data model, file format HDF5):\n",
      "    dimensions(sizes): z(384), zh(385), time(120)\n",
      "    variables(dimensions): float64 time(time), float64 z(z), float64 zh(zh)\n",
      "    groups: default, thermo, budget\n"
     ]
    }
   ],
   "source": [
    "for item in items[1:]:\n",
    "    print(item)\n",
    "    df = nc.Dataset(path + '/' + item, mode='r')\n",
    "    print(df)"
   ]
  },
  {
   "cell_type": "markdown",
   "id": "a8073b60",
   "metadata": {},
   "source": [
    "This function should create variables for a given list of `items`. In my case, my `selected_files` constitutes a group of similar (I think) simulations that I can append together for the sake of having more data.  "
   ]
  },
  {
   "cell_type": "code",
   "execution_count": 8,
   "id": "e6a31a11",
   "metadata": {},
   "outputs": [],
   "source": [
    "selected_files = [items[1], items[2], items[4], items[5]]\n",
    "# selected_files = [items[1]]"
   ]
  },
  {
   "cell_type": "code",
   "execution_count": 9,
   "id": "352d12f6",
   "metadata": {},
   "outputs": [],
   "source": [
    "def make_variables(path, items, time_avg):\n",
    "    # Initialize empty lists to accumulate results\n",
    "    sigma_th = []\n",
    "    sigma_2 = []\n",
    "    Theta = []\n",
    "    wtheta = []\n",
    "    wwtheta = []\n",
    "    rdstr = []\n",
    "    transport = []\n",
    "\n",
    "    for item in items:\n",
    "        ds_stat = nc.Dataset(os.path.join(path, item), mode='r')\n",
    "        \n",
    "        sigma_th_temp = time_average(ds_stat.groups['thermo']['th_2'][:], time_avg)  # covariance of theta\n",
    "        sigma_2_temp = time_average(ds_stat.groups['default']['w_2'][:], time_avg)   # covariance of w\n",
    "        Theta_temp = time_average(ds_stat.groups['thermo']['th'][:], time_avg)       # domain mean theta\n",
    "        wtheta_temp = time_average(ds_stat.groups['thermo']['th_flux'][:], time_avg) # heat flux\n",
    "        wwtheta_temp = time_average(ds_stat.groups['budget']['wwtheta'][:], time_avg) # third moment, covariance between wtheta and w\n",
    "        rdstr_temp = time_average(ds_stat.groups['budget']['bw_rdstr'][:], time_avg)\n",
    "        transport_temp = time_average(ds_stat.groups['budget']['bw_pres'][:], time_avg)\n",
    "\n",
    "        # Append the results to the respective lists\n",
    "        sigma_th.append(sigma_th_temp)\n",
    "        sigma_2.append(sigma_2_temp)\n",
    "        Theta.append(Theta_temp)\n",
    "        wtheta.append(wtheta_temp)\n",
    "        wwtheta.append(wwtheta_temp)\n",
    "        rdstr.append(rdstr_temp)\n",
    "        transport.append(transport_temp)\n",
    "\n",
    "    # Concatenate the results along the time axis\n",
    "    sigma_th = np.concatenate(sigma_th, axis=0)\n",
    "    sigma_2 = np.concatenate(sigma_2, axis=0)\n",
    "    Theta = np.concatenate(Theta, axis=0)\n",
    "    wtheta = np.concatenate(wtheta, axis=0)\n",
    "    wwtheta = np.concatenate(wwtheta, axis=0)\n",
    "    rdstr = np.concatenate(rdstr, axis=0)\n",
    "    transport = np.concatenate(transport, axis=0)\n",
    "\n",
    "    return sigma_th, sigma_2, Theta, wtheta, wwtheta, rdstr, transport"
   ]
  },
  {
   "cell_type": "code",
   "execution_count": 10,
   "id": "f1346672",
   "metadata": {},
   "outputs": [
    {
     "name": "stdout",
     "output_type": "stream",
     "text": [
      "(385,) (384,) (120,)\n"
     ]
    }
   ],
   "source": [
    "sigma_th, sigma_2, Theta, wtheta, wwtheta, rdstr, transport = make_variables(path, selected_files, time_avg)\n",
    "\n",
    "# z = np.arange(0, 384)\n",
    "# zh = np.arange(0, 385)\n",
    "# t = np.arange(0, 120)\n",
    "\n",
    "z = ds_stat.variables['z'][:]\n",
    "zh = ds_stat.variables['zh'][:]\n",
    "t = ds_stat.variables['time'][:]\n",
    "\n",
    "\n",
    "dTheta_dz = np.gradient(Theta, z, axis = 1)\n",
    "dwwtheta_dz = np.gradient(wwtheta, zh, axis = 1)\n",
    "\n",
    "print(zh.shape, z.shape, t.shape)"
   ]
  },
  {
   "cell_type": "markdown",
   "id": "f4c4eea2",
   "metadata": {},
   "source": [
    "Let's take a look at all of the variables (including gradients) that we create> We print their:\n",
    "\n",
    "Name, shape, mean, and standard deviation"
   ]
  },
  {
   "cell_type": "code",
   "execution_count": 11,
   "id": "15890a1b",
   "metadata": {},
   "outputs": [
    {
     "name": "stdout",
     "output_type": "stream",
     "text": [
      "dTheta_dz (28, 384) 0.0030314636318719093 0.0030829971488603295\n",
      "sigma_th (28, 384) 0.012444759205988804 0.019345171885376777\n",
      "sigma_2 (28, 385) 0.2186071548482508 0.2719143169874343\n",
      "Theta (28, 384) 302.9677230539196 2.4932242069071053\n",
      "wtheta (28, 385) 0.005174151995554143 0.018592449543324292\n",
      "wwtheta (28, 385) 0.0068160878 0.018759899\n",
      "dwwtheta_dz (28, 385) 1.1788919595707768e-08 0.00012012300681359305\n",
      "rdtsr (28, 385) -5.9081866084689566e-06 1.9059345351241784e-05\n",
      "transport (28, 385) -8.502757699630559e-07 1.799674840107782e-05\n"
     ]
    }
   ],
   "source": [
    "print(\"dTheta_dz\", dTheta_dz.shape, np.mean(dTheta_dz), np.std(dTheta_dz))\n",
    "print(\"sigma_th\", sigma_th.shape, np.mean(sigma_th), np.std(sigma_th))\n",
    "print(\"sigma_2\", sigma_2.shape, np.mean(sigma_2), np.std(sigma_2))\n",
    "print(\"Theta\", Theta.shape, np.mean(Theta), np.std(Theta))\n",
    "print(\"wtheta\", wtheta.shape, np.mean(wtheta), np.std(wtheta))\n",
    "print(\"wwtheta\", wwtheta.shape, np.mean(wwtheta), np.std(wwtheta))\n",
    "print(\"dwwtheta_dz\", dwwtheta_dz.shape, np.mean(dwwtheta_dz), np.std(dwwtheta_dz))\n",
    "print(\"rdtsr\", rdstr.shape, np.mean(rdstr), np.std(rdstr))\n",
    "print(\"transport\", transport.shape, np.mean(transport), np.std(transport))"
   ]
  },
  {
   "cell_type": "code",
   "execution_count": 12,
   "id": "a7349d69",
   "metadata": {},
   "outputs": [
    {
     "name": "stdout",
     "output_type": "stream",
     "text": [
      "[ 0.0000000e+00 -3.1880256e-05 -1.0963364e-04]\n",
      "-1.594012792338617e-05 -7.075694884406403e-05\n"
     ]
    }
   ],
   "source": [
    "print(wwtheta[1,0:3])\n",
    "print((wwtheta[1,0]+wwtheta[1,1])/2, (wwtheta[1,1]+wwtheta[1,2])/2)"
   ]
  },
  {
   "cell_type": "markdown",
   "id": "cbc1956f",
   "metadata": {},
   "source": [
    "Variables that have a second dimension of 385 are calculated at zh values of 0, 6, 12, and so on. Variables with 384 are staggered and calculated in between there, at values of 3, 9, 15, and so on. We reshape the 385's to be 384's by taking the average of each consecutive pair. \n",
    "\n",
    "We test if this works above and below with old and new values of `wwtheta` (just a sanity check)"
   ]
  },
  {
   "cell_type": "code",
   "execution_count": 13,
   "id": "17e1977f",
   "metadata": {},
   "outputs": [],
   "source": [
    "def reshape_variables(variable):\n",
    "    reshaped = (variable[:, :-1] + variable[:, 1:]) / 2.0\n",
    "    return reshaped"
   ]
  },
  {
   "cell_type": "code",
   "execution_count": 14,
   "id": "f926192e",
   "metadata": {},
   "outputs": [],
   "source": [
    "sigma_2 = reshape_variables(sigma_2)\n",
    "wtheta = reshape_variables(wtheta)\n",
    "wwtheta = reshape_variables(wwtheta)\n",
    "dwwtheta_dz = reshape_variables(dwwtheta_dz)\n",
    "rdstr = reshape_variables(rdstr)\n",
    "transport = reshape_variables(transport)"
   ]
  },
  {
   "cell_type": "code",
   "execution_count": 15,
   "id": "71224502",
   "metadata": {},
   "outputs": [
    {
     "name": "stdout",
     "output_type": "stream",
     "text": [
      "dTheta_dz (28, 384) 0.0030314636318719093 0.0030829971488603295\n",
      "sigma_th (28, 384) 0.012444759205988804 0.019345171885376777\n",
      "sigma_2 (28, 384) 0.21917644431400146 0.27201662125737475\n",
      "Theta (28, 384) 302.9677230539196 2.4932242069071053\n",
      "wtheta (28, 384) 0.005128102540185422 0.018518388108091755\n",
      "wwtheta (28, 384) 0.006833837855429877 0.01877758606482776\n",
      "dwwtheta_dz (28, 384) -2.5444197013885493e-13 0.00011980481075705457\n"
     ]
    }
   ],
   "source": [
    "print(\"dTheta_dz\", dTheta_dz.shape, np.mean(dTheta_dz), np.std(dTheta_dz))\n",
    "print(\"sigma_th\", sigma_th.shape, np.mean(sigma_th), np.std(sigma_th))\n",
    "print(\"sigma_2\", sigma_2.shape, np.mean(sigma_2), np.std(sigma_2))\n",
    "print(\"Theta\", Theta.shape, np.mean(Theta), np.std(Theta))\n",
    "print(\"wtheta\", wtheta.shape, np.mean(wtheta), np.std(wtheta))\n",
    "print(\"wwtheta\", wwtheta.shape, np.mean(wwtheta), np.std(wwtheta))\n",
    "print(\"dwwtheta_dz\", dwwtheta_dz.shape, np.mean(dwwtheta_dz), np.std(dwwtheta_dz))"
   ]
  },
  {
   "cell_type": "code",
   "execution_count": 16,
   "id": "7c540d85",
   "metadata": {},
   "outputs": [
    {
     "name": "stdout",
     "output_type": "stream",
     "text": [
      "[-1.594012792338617e-05 -7.075694884406403e-05]\n"
     ]
    }
   ],
   "source": [
    "print(wwtheta[1,0:2])"
   ]
  },
  {
   "cell_type": "markdown",
   "id": "bd68b161",
   "metadata": {},
   "source": [
    "Plotting all variables at a given timestep just for a sanity check: "
   ]
  },
  {
   "cell_type": "code",
   "execution_count": 17,
   "id": "48b8ec3a",
   "metadata": {},
   "outputs": [
    {
     "data": {
      "text/plain": [
       "Text(0.5, 1.0, '(dwwtheta_dz)')"
      ]
     },
     "execution_count": 17,
     "metadata": {},
     "output_type": "execute_result"
    },
    {
     "data": {
      "image/png": "[encoded data removed]",
      "text/plain": [
       "<Figure size 1000x600 with 3 Axes>"
      ]
     },
     "metadata": {},
     "output_type": "display_data"
    },
    {
     "data": {
      "image/png": "[encoded data removed]",
      "text/plain": [
       "<Figure size 1200x600 with 4 Axes>"
      ]
     },
     "metadata": {},
     "output_type": "display_data"
    }
   ],
   "source": [
    "timeStep = 6\n",
    "\n",
    "plt.figure(figsize = (10, 6))\n",
    "\n",
    "# Plot potentialTemp\n",
    "plt.subplot(1, 3, 1)\n",
    "#plt.plot(Theta[timeStep], np.arange(0, len(Theta[timeStep,:])))\n",
    "plt.plot(Theta[timeStep], z)\n",
    "plt.title('Theta(th)')\n",
    "# plt.xlabel('Value')\n",
    "plt.ylabel('Depth')\n",
    "\n",
    "# Plot th_diff\n",
    "plt.subplot(1, 3, 2)\n",
    "# plt.plot(dTheta_dz[timeStep], np.arange(0, len(dTheta_dz[timeStep,:])))\n",
    "plt.plot(dTheta_dz[timeStep], z)\n",
    "plt.title('dTheta_dz')\n",
    "plt.xlabel('Value')\n",
    "# plt.ylabel('Depth')\n",
    "\n",
    "# Plot th_flux\n",
    "plt.subplot(1, 3, 3)\n",
    "# plt.plot(wtheta[timeStep], np.arange(0, len(wtheta[timeStep,:])))\n",
    "plt.plot(wtheta[timeStep], z)\n",
    "plt.title('wtheta (th_flux)')\n",
    "# plt.xlabel('Value')\n",
    "# plt.ylabel('Depth')\n",
    "\n",
    "\n",
    "plt.figure(figsize = (12, 6))\n",
    "\n",
    "# Plot potentialTemp\n",
    "plt.subplot(1, 4, 1)\n",
    "# plt.plot(sigma_th[timeStep], np.arange(0, len(sigma_th[timeStep,:])))\n",
    "plt.plot(sigma_th[timeStep], z)\n",
    "plt.title('theta2bar (sigma_th)')\n",
    "# plt.xlabel('Value')\n",
    "plt.ylabel('Depth')\n",
    "\n",
    "# Plot th_diff\n",
    "plt.subplot(1, 4, 2)\n",
    "# plt.plot(sigma_2[timeStep], np.arange(0, len(sigma_2[timeStep,:])))\n",
    "plt.plot(sigma_2[timeStep], z)\n",
    "plt.title('sigma_w^2 (sigma_2)')\n",
    "plt.xlabel('Value')\n",
    "# plt.ylabel('Depth')\n",
    "\n",
    "# Plot th_flux\n",
    "plt.subplot(1, 4, 3)\n",
    "# plt.plot(wwtheta[timeStep], np.arange(0, len(wwtheta[timeStep,:])))\n",
    "plt.plot(wwtheta[timeStep], z)\n",
    "plt.title('(wwtheta)')\n",
    "# plt.xlabel('Value')\n",
    "# plt.ylabel('Depth')\n",
    "\n",
    "plt.subplot(1, 4, 4)\n",
    "# plt.plot(dwwtheta_dz[timeStep], np.arange(0, len(dwwtheta_dz[timeStep,:])))\n",
    "plt.plot(dwwtheta_dz[timeStep], z)\n",
    "plt.title('(dwwtheta_dz)')\n",
    "# plt.xlabel('Value')\n",
    "# plt.ylabel('Depth')"
   ]
  },
  {
   "cell_type": "markdown",
   "id": "3a555b34-426c-46ef-821f-9e391137ac98",
   "metadata": {},
   "source": [
    "## Diagnosing constants: \n",
    "Often we use conventional constant to normalize profiles. Here are some of the typical ones used in the PBL. \n",
    "\n",
    "AS added note: This modified function calculates the constants once again for a list of different simulations. "
   ]
  },
  {
   "cell_type": "code",
   "execution_count": 18,
   "id": "9fddbe7d-ba9d-41ef-b3ca-bca28eb48541",
   "metadata": {},
   "outputs": [],
   "source": [
    "grr = 9.8\n",
    "T_0 = 300\n",
    "beta = grr/T_0\n",
    "\n",
    "def make_constants(path, items, time_avg):\n",
    "    wtheta_surface = []\n",
    "    pbl_height = []\n",
    "    wstar = []\n",
    "    theta_star = []\n",
    "    scaling = []\n",
    "    ustar = []\n",
    "\n",
    "    for item in items:\n",
    "        ds_stat = nc.Dataset(os.path.join(path, item), mode='r')\n",
    "\n",
    "        wtheta_surface_raw = ds_stat.groups['thermo']['th_flux'][:,0] \n",
    "        wtheta_surface_temp = time_average(wtheta_surface_raw, time_avg)\n",
    "\n",
    "        pbl_height_raw = ds_stat.groups['thermo'].variables['zi'][:] \n",
    "        pbl_height_temp = time_average(pbl_height_raw, time_avg)\n",
    "\n",
    "        wstar_raw = np.power( beta * (wtheta_surface_raw) * pbl_height_raw , 1/3) \n",
    "        wstar_temp = time_average(wstar_raw, time_avg)\n",
    "\n",
    "        theta_star_raw = wtheta_surface_raw / wstar_raw\n",
    "        theta_star_temp = time_average(theta_star_raw, time_avg)\n",
    "\n",
    "        scaling_raw = wstar_raw**2 * theta_star_raw / pbl_height_raw\n",
    "        scaling_temp = time_average(scaling_raw, time_avg)\n",
    "\n",
    "        ustar_temp = time_average(ds_stat.groups['default'].variables['ustar'][:], time_avg)\n",
    "\n",
    "        wtheta_surface.append(wtheta_surface_temp)\n",
    "        pbl_height.append(pbl_height_temp)\n",
    "        wstar.append(wstar_temp)\n",
    "        theta_star.append(theta_star_temp)\n",
    "        scaling.append(scaling_temp)\n",
    "        ustar.append(ustar_temp)\n",
    "\n",
    "    wtheta_surface = np.concatenate(wtheta_surface, axis=0)\n",
    "    pbl_height = np.concatenate(pbl_height, axis=0)\n",
    "    wstar = np.concatenate(wstar, axis=0)\n",
    "    theta_star = np.concatenate(theta_star, axis=0)\n",
    "    scaling = np.concatenate(scaling, axis=0)\n",
    "    ustar = np.concatenate(ustar, axis=0)\n",
    "\n",
    "    wtheta_surface = wtheta_surface[:,np.newaxis]\n",
    "    pbl_height = pbl_height[:,np.newaxis]\n",
    "    wstar = wstar[:,np.newaxis]\n",
    "    theta_star = theta_star[:,np.newaxis]\n",
    "    scaling = scaling[:,np.newaxis]\n",
    "    ustar = ustar[:,np.newaxis]\n",
    "\n",
    "    return wtheta_surface, pbl_height, wstar, theta_star, scaling, ustar"
   ]
  },
  {
   "cell_type": "code",
   "execution_count": 19,
   "id": "ba3710ed",
   "metadata": {},
   "outputs": [],
   "source": [
    "wtheta_surface, pbl_height, wstar, theta_star, scaling, ustar = make_constants(path, selected_files, time_avg)"
   ]
  },
  {
   "cell_type": "markdown",
   "id": "bffd90e7",
   "metadata": {},
   "source": [
    "Once again printing \n",
    "\n",
    "Name, shape, mean, and standard deviation\n",
    "\n",
    "of the constants (if they are time dependent). "
   ]
  },
  {
   "cell_type": "code",
   "execution_count": 20,
   "id": "c0f789ac",
   "metadata": {},
   "outputs": [
    {
     "name": "stdout",
     "output_type": "stream",
     "text": [
      "wtheta_surface (28, 1) 0.04571428571428573 0.03331972511340172\n",
      "pbl_height (28, 1) 1062.7857142857142 95.67429761691379\n",
      "wstar (28, 1) 1.0951109534773777 0.3285708633112884\n",
      "theta_star (28, 1) 0.036334221047992846 0.018176987805097276\n",
      "scaling (28, 1) 5.391947016099851e-05 4.70345197903405e-05\n",
      "ustar (28, 1) 0.6342496824822691 0.04272436845471656\n",
      "grr 9.8\n",
      "T_0 300\n",
      "beta 0.03266666666666667\n"
     ]
    }
   ],
   "source": [
    "print(\"wtheta_surface\", wtheta_surface.shape, np.mean(wtheta_surface), np.std(wtheta_surface))\n",
    "print(\"pbl_height\", pbl_height.shape, np.mean(pbl_height), np.std(pbl_height))\n",
    "print(\"wstar\", wstar.shape, np.mean(wstar), np.std(wstar))\n",
    "print(\"theta_star\", theta_star.shape, np.mean(theta_star), np.std(theta_star))\n",
    "print(\"scaling\", scaling.shape, np.mean(scaling), np.std(scaling))\n",
    "print(\"ustar\", ustar.shape, np.mean(ustar), np.std(ustar))\n",
    "print(\"grr\", grr)\n",
    "print(\"T_0\", T_0)\n",
    "print(\"beta\", beta)"
   ]
  },
  {
   "cell_type": "markdown",
   "id": "dc101d6b-7730-4c39-9297-721f7c7090dd",
   "metadata": {},
   "source": [
    "## Compute the P term as residual\n",
    "Equation 11 in the paper suggest that, assuming that the left hand side is smaller compared to terms on the right hnd side. \n",
    "\n",
    "AS added note: I compute the equation up to 384 as not all variables go up to 385. \n",
    "\n",
    "\n",
    "\n",
    "**Long description:** \n",
    "\n",
    "The equation in question is the heat flux budget in the convective boundary layer, which is written as: \n",
    "\n",
    "$$\n",
    "\\frac{\\partial \\overline{w \\theta}}{\\partial t}=0=\\underbrace{-\\sigma_w^2 \\frac{\\mathrm{d} \\Theta}{\\mathrm{d} z}}_M \\underbrace{-\\frac{\\mathrm{d} \\overline{w w \\theta}}{\\mathrm{d} z}}_T \\underbrace{-\\frac{1}{\\rho_0} \\theta \\frac{\\mathrm{d} p}{\\mathrm{~d} z}}_P \\underbrace{+\\beta \\overline{\\theta^2}}_B\n",
    "$$\n",
    "\n",
    "Production terms: Mean gradient production ($M$), and bouyancy production ($B$). Destruction terms: turbulent flux transport ($T$) and the the pressure gradient–potential temperature covariance ($P$). \n",
    "\n",
    "$P$ acts as a destruction/sink term for the heat flux $\\overline{w \\theta}$. The general form for the parametrization of $P$ is\n",
    "\n",
    "$$\n",
    "P=-\\frac{1}{\\rho_0} \\overline{\\theta \\frac{\\mathrm{d} p}{\\mathrm{~d} z}}=-C_1 \\frac{\\overline{w \\theta}}{\\tau_1} - C_2 \\beta \\overline{\\theta^2} + C_3 \\sigma_w^2 \\frac{\\mathrm{d} \\Theta}{\\mathrm{d} z}\n",
    "$$\n",
    "\n",
    "The first term $-C_1 \\frac{\\overline{w \\theta}}{\\tau_1}$ is the \"slow\" term. It is Rotta's return to isotropy part. Is inversely proportional to time scale $\\tau_1$. I think it may also be called the \"turbulence-turbulence\" interaction. The last two terms are the \"rapid\" part, with $C_2 \\beta \\overline{\\theta^2}$ being the bouyancy term, and $C_3 \\sigma_w^2 \\frac{\\mathrm{d} \\Theta}{\\mathrm{d} z}$ being the shear-turbulence term. "
   ]
  },
  {
   "cell_type": "code",
   "execution_count": 21,
   "id": "09df8ff7-e9c6-4eb0-a38b-1319081112d8",
   "metadata": {},
   "outputs": [
    {
     "data": {
      "text/plain": [
       "(28, 384)"
      ]
     },
     "execution_count": 21,
     "metadata": {},
     "output_type": "execute_result"
    }
   ],
   "source": [
    "M = (sigma_2 * dTheta_dz)\n",
    "T = dwwtheta_dz\n",
    "B = (beta * sigma_th)\n",
    "\n",
    "P = M + T - B\n",
    "P.shape"
   ]
  },
  {
   "cell_type": "code",
   "execution_count": 22,
   "id": "eacf3cc8",
   "metadata": {},
   "outputs": [
    {
     "name": "stdout",
     "output_type": "stream",
     "text": [
      "0.0004065, 0.0006319\n",
      "0.0001853, 0.0004001\n",
      "-0.0000000, 0.0001198\n",
      "-0.0002212, 0.0003477\n"
     ]
    }
   ],
   "source": [
    "print(f\"{np.mean(B):.7f}, {np.std(B):.7f}\")\n",
    "print(f\"{np.mean(M):.7f}, {np.std(M):.7f}\")\n",
    "print(f\"{np.mean(T):.7f}, {np.std(T):.7f}\")\n",
    "print(f\"{np.mean(P):.7f}, {np.std(P):.7f}\")"
   ]
  },
  {
   "cell_type": "code",
   "execution_count": 23,
   "id": "c0ae39a3",
   "metadata": {},
   "outputs": [
    {
     "data": {
      "text/plain": [
       "-74.19401168248785"
      ]
     },
     "execution_count": 23,
     "metadata": {},
     "output_type": "execute_result"
    }
   ],
   "source": [
    "max(P[6])\n",
    "min(P[6])\n",
    "\n",
    "min(P[6])/max(P[6])"
   ]
  },
  {
   "cell_type": "markdown",
   "id": "97f896e0-ada0-4cb1-95f4-efca73d5c968",
   "metadata": {},
   "source": [
    "## Comparing P term and original rotta model plot\n",
    "Lets reproduce plot 6 of the turbulece asymmetry paper to make sure we have all terms looking \"somewhat\" similar. \"somewhat\" because the rotta model may not be very accurate. "
   ]
  },
  {
   "cell_type": "code",
   "execution_count": 24,
   "id": "83af949e-2e3b-428e-beca-892ca458455a",
   "metadata": {},
   "outputs": [
    {
     "data": {
      "text/plain": [
       "Text(0, 0.5, 'Depth')"
      ]
     },
     "execution_count": 24,
     "metadata": {},
     "output_type": "execute_result"
    },
    {
     "data": {
      "image/png": "[encoded data removed]",
      "text/plain": [
       "<Figure size 1000x600 with 1 Axes>"
      ]
     },
     "metadata": {},
     "output_type": "display_data"
    }
   ],
   "source": [
    "plt.figure(figsize = (10, 6))\n",
    "plt.plot(P[timeStep] * pbl_height[timeStep] / (wstar[timeStep] * theta_star[timeStep]), z)\n",
    "plt.ylim(0,960)\n",
    "plt.title('P')\n",
    "plt.xlabel('Value')\n",
    "plt.ylabel('Depth')"
   ]
  },
  {
   "cell_type": "markdown",
   "id": "a8ad862d-9b08-4599-8a6f-11b5e1f9a38c",
   "metadata": {},
   "source": [
    "# Cutting out near surface part\n",
    "Some of the assumptions we make when computing P as a residual may not hold near the surface. Therefore, before preparing data for EQ, we remove the near-surface part of the profile, typically the top 7-10 layers"
   ]
  },
  {
   "cell_type": "code",
   "execution_count": 25,
   "id": "c40ffd7b-203a-4d11-b704-042df4192c28",
   "metadata": {},
   "outputs": [
    {
     "data": {
      "text/plain": [
       "Text(0, 0.5, 'Depth')"
      ]
     },
     "execution_count": 25,
     "metadata": {},
     "output_type": "execute_result"
    },
    {
     "data": {
      "image/png": "[encoded data removed]",
      "text/plain": [
       "<Figure size 1000x600 with 1 Axes>"
      ]
     },
     "metadata": {},
     "output_type": "display_data"
    }
   ],
   "source": [
    "P_trim = P[:, 8:155]\n",
    "P_trim.shape\n",
    "\n",
    "plt.figure(figsize = (10, 6))\n",
    "plt.plot(P_trim[timeStep], z[8:155])\n",
    "plt.title('P (surface removed)')\n",
    "plt.xlabel('Value')\n",
    "plt.ylabel('Depth')"
   ]
  },
  {
   "cell_type": "markdown",
   "id": "3474a340",
   "metadata": {},
   "source": [
    "## Comparing P to alternative method for calculating it\n",
    "\n",
    "Here we calculate P directly rather than as a residual, and compare the plots. "
   ]
  },
  {
   "cell_type": "code",
   "execution_count": 26,
   "id": "37ba7f9a",
   "metadata": {},
   "outputs": [
    {
     "data": {
      "text/plain": [
       "Text(0, 0.5, 'Depth')"
      ]
     },
     "execution_count": 26,
     "metadata": {},
     "output_type": "execute_result"
    },
    {
     "data": {
      "image/png": "[encoded data removed]",
      "text/plain": [
       "<Figure size 1400x600 with 3 Axes>"
      ]
     },
     "metadata": {},
     "output_type": "display_data"
    }
   ],
   "source": [
    "P_subtract = rdstr - transport\n",
    "\n",
    "tau1 = 1000 #unsure about this one at the moment, huge number makes it look correct though\n",
    "\n",
    "P_direct = - (3 * wtheta/tau1) - (5/12 * beta * sigma_th) + (2/5 * sigma_2 * dTheta_dz)\n",
    "\n",
    "plt.figure(figsize = (14, 6))\n",
    "\n",
    "plt.subplot(1,3,1)\n",
    "plt.plot(P_subtract[timeStep] * pbl_height[timeStep] / (wstar[timeStep] * theta_star[timeStep]), z)\n",
    "plt.ylim(45,1000)\n",
    "plt.title('P (rdstr - transport)')\n",
    "plt.xlabel('Value')\n",
    "plt.ylabel('Depth')\n",
    "\n",
    "plt.subplot(1,3,2)\n",
    "plt.plot(P_direct[timeStep] * pbl_height[timeStep] / (wstar[timeStep] * theta_star[timeStep]), z)\n",
    "plt.title('P (using eq 12, tau = 700)')\n",
    "plt.ylim(45,1000)\n",
    "plt.xlabel('Value')\n",
    "plt.ylabel('Depth')\n",
    "\n",
    "plt.subplot(1,3,3)\n",
    "plt.plot(P[timeStep] * pbl_height[timeStep] / (wstar[timeStep] * theta_star[timeStep]), z)\n",
    "plt.title('P (residual)')\n",
    "plt.ylim(45,1000)\n",
    "plt.xlabel('Value')\n",
    "plt.ylabel('Depth')"
   ]
  },
  {
   "cell_type": "markdown",
   "id": "d2de8f82",
   "metadata": {},
   "source": [
    "Looking at `rdtsr` and `transport` alone is a good sanity check before we abandon their use entirely"
   ]
  },
  {
   "cell_type": "code",
   "execution_count": 27,
   "id": "028a69dd",
   "metadata": {},
   "outputs": [
    {
     "data": {
      "text/plain": [
       "Text(0, 0.5, 'Depth')"
      ]
     },
     "execution_count": 27,
     "metadata": {},
     "output_type": "execute_result"
    },
    {
     "data": {
      "image/png": "[encoded data removed]",
      "text/plain": [
       "<Figure size 1400x600 with 3 Axes>"
      ]
     },
     "metadata": {},
     "output_type": "display_data"
    }
   ],
   "source": [
    "plt.figure(figsize = (14, 6))\n",
    "\n",
    "plt.subplot(1,3,1)\n",
    "plt.plot(rdstr[timeStep] * pbl_height[timeStep] / (wstar[timeStep] * theta_star[timeStep]), z)\n",
    "# plt.ylim(45,1000)\n",
    "plt.title('rdstr alone')\n",
    "plt.xlabel('Value')\n",
    "plt.ylabel('Depth')\n",
    "\n",
    "plt.subplot(1,3,2)\n",
    "plt.plot(transport[timeStep] * pbl_height[timeStep] / (wstar[timeStep] * theta_star[timeStep]), z)\n",
    "plt.title('transport alone')\n",
    "# plt.ylim(45,1000)\n",
    "plt.xlabel('Value')\n",
    "plt.ylabel('Depth')\n",
    "\n",
    "plt.subplot(1,3,3)\n",
    "plt.plot(P[timeStep] * pbl_height[timeStep] / (wstar[timeStep] * theta_star[timeStep]), z)\n",
    "plt.title('P (residual)')\n",
    "# plt.ylim(45,1000)\n",
    "plt.xlabel('Value')\n",
    "plt.ylabel('Depth')"
   ]
  },
  {
   "cell_type": "markdown",
   "id": "0a0dd1b1",
   "metadata": {},
   "source": [
    "Let's put all 3 P's on the same plot: "
   ]
  },
  {
   "cell_type": "code",
   "execution_count": 28,
   "id": "783b3f7c",
   "metadata": {},
   "outputs": [
    {
     "data": {
      "image/png": "[encoded data removed]",
      "text/plain": [
       "<Figure size 1000x600 with 1 Axes>"
      ]
     },
     "metadata": {},
     "output_type": "display_data"
    }
   ],
   "source": [
    "plt.figure(figsize=(10, 6))\n",
    "\n",
    "# Plot P_subtract\n",
    "plt.plot(P_subtract[timeStep] * pbl_height[timeStep] / (wstar[timeStep] * theta_star[timeStep]), z, label='P (rdstr - transport)')\n",
    "\n",
    "# Plot P_direct\n",
    "plt.plot(P_direct[timeStep] * pbl_height[timeStep] / (wstar[timeStep] * theta_star[timeStep]), z, label='P (using eq 12, tau = 700)')\n",
    "\n",
    "# Plot P residual\n",
    "plt.plot(P[timeStep] * pbl_height[timeStep] / (wstar[timeStep] * theta_star[timeStep]), z, label='P (residual)')\n",
    "\n",
    "plt.ylim(45, 1000)\n",
    "plt.title('Comparison of P values')\n",
    "plt.xlabel('Value')\n",
    "plt.ylabel('Depth')\n",
    "plt.legend()\n",
    "plt.grid(True)\n",
    "\n",
    "plt.show()"
   ]
  },
  {
   "cell_type": "markdown",
   "id": "acd22b8d",
   "metadata": {},
   "source": [
    "## Equation Discovery\n",
    "\n",
    "We do this with the `PySR` package for symbolic regression. As stated by their github, this is \"a machine learning task where the goal is to find an interpretable symbolic expression that optimizes some objective.\"\n",
    "\n",
    "We import the library down here because sometimes it takes an annoyingly long number of seconds. "
   ]
  },
  {
   "cell_type": "code",
   "execution_count": 29,
   "id": "acef7d69",
   "metadata": {},
   "outputs": [
    {
     "name": "stdout",
     "output_type": "stream",
     "text": [
      "Detected IPython. Loading juliacall extension. See https://juliapy.github.io/PythonCall.jl/stable/compat/#IPython\n"
     ]
    }
   ],
   "source": [
    "import pysr\n",
    "from pysr import PySRRegressor"
   ]
  },
  {
   "cell_type": "markdown",
   "id": "f307fcb0",
   "metadata": {},
   "source": [
    "### Step 1: All moments in time, one layer\n",
    "\n",
    "Here we take a single layer, at perhaps the 60th index of z, like `z[60] = 363` across all 120 minutes of time. We will do this for all different versions of $P$. "
   ]
  },
  {
   "cell_type": "code",
   "execution_count": 30,
   "id": "811b50f3",
   "metadata": {},
   "outputs": [],
   "source": [
    "z[60]\n",
    "\n",
    "indices = np.s_[:, 60]"
   ]
  },
  {
   "cell_type": "code",
   "execution_count": 31,
   "id": "5d4d847e",
   "metadata": {},
   "outputs": [
    {
     "name": "stdout",
     "output_type": "stream",
     "text": [
      "(28,) (28,) (28, 4)\n"
     ]
    }
   ],
   "source": [
    "y0 = P[indices]\n",
    "y1 = P_direct[indices]\n",
    "# y2 = P_subtract[:,60]\n",
    "\n",
    "x0 = wtheta[indices]\n",
    "x1 = sigma_th[indices]\n",
    "x2 = sigma_2[indices]\n",
    "x3 = dTheta_dz[indices]\n",
    "\n",
    "X = np.column_stack([x0, x1, x2, x3])\n",
    "print(y0.shape, y1.shape, X.shape)#, y2.shape)"
   ]
  },
  {
   "cell_type": "markdown",
   "id": "e0e71aad",
   "metadata": {},
   "source": [
    "Setting up our model with just basic unitary operators "
   ]
  },
  {
   "cell_type": "code",
   "execution_count": 32,
   "id": "6867bba3",
   "metadata": {},
   "outputs": [],
   "source": [
    "model0 = PySRRegressor(\n",
    "    niterations=100,  # < Increase me for better results\n",
    "    binary_operators=[\"+\", \"*\", \"-\", \"/\"],\n",
    "    # unary_operators=[\n",
    "    #     \"cos\",\n",
    "    #     \"exp\",\n",
    "    #     \"sin\",\n",
    "    #     \"inv(x) = 1/x\",\n",
    "    #     \"square\",\n",
    "    #     \"cube\",\n",
    "    #     # ^ Custom operator (julia syntax)\n",
    "    # ],\n",
    "    extra_sympy_mappings={\"inv\": lambda x: 1 / x},\n",
    "    # ^ Define operator for SymPy as well\n",
    "    elementwise_loss=\"loss(prediction, target) = (prediction - target)^2\",\n",
    "    # ^ Custom loss function (julia syntax)\n",
    "    # batching = True,\n",
    "    # batch_size = 1000,\n",
    ")\n",
    "\n",
    "model1 = PySRRegressor(\n",
    "    niterations=100,  # < Increase me for better results\n",
    "    binary_operators=[\"+\", \"*\", \"-\", \"/\"],\n",
    "    # unary_operators=[\n",
    "    #     \"cos\",\n",
    "    #     \"exp\",\n",
    "    #     \"sin\",\n",
    "    #     \"inv(x) = 1/x\",\n",
    "    #     \"square\",\n",
    "    #     \"cube\",\n",
    "    #     # ^ Custom operator (julia syntax)\n",
    "    # ],\n",
    "    extra_sympy_mappings={\"inv\": lambda x: 1 / x},\n",
    "    # ^ Define operator for SymPy as well\n",
    "    elementwise_loss=\"loss(prediction, target) = (prediction - target)^2\",\n",
    "    # ^ Custom loss function (julia syntax)\n",
    "    # batching = True,\n",
    "    # batch_size = 1000,\n",
    ")\n",
    "\n",
    "# model2 = PySRRegressor(\n",
    "#     niterations=100,  # < Increase me for better results\n",
    "#     binary_operators=[\"+\", \"*\", \"-\", \"/\"],\n",
    "#     # unary_operators=[\n",
    "#     #     \"cos\",\n",
    "#     #     \"exp\",\n",
    "#     #     \"sin\",\n",
    "#     #     \"inv(x) = 1/x\",\n",
    "#     #     \"square\",\n",
    "#     #     \"cube\",\n",
    "#     #     # ^ Custom operator (julia syntax)\n",
    "#     # ],\n",
    "#     extra_sympy_mappings={\"inv\": lambda x: 1 / x},\n",
    "#     # ^ Define operator for SymPy as well\n",
    "#     elementwise_loss=\"loss(prediction, target) = (prediction - target)^2\",\n",
    "#     # ^ Custom loss function (julia syntax)\n",
    "#     # batching = True,\n",
    "#     # batch_size = 1000,\n",
    "# )"
   ]
  },
  {
   "cell_type": "code",
   "execution_count": 33,
   "id": "2fb34c53",
   "metadata": {},
   "outputs": [
    {
     "name": "stdout",
     "output_type": "stream",
     "text": [
      "Compiling Julia backend...\n"
     ]
    },
    {
     "name": "stderr",
     "output_type": "stream",
     "text": [
      "c:\\Python\\Python_3_11\\Lib\\site-packages\\pysr\\sr.py:1307: UserWarning: Note: it looks like you are running in Jupyter. The progress bar will be turned off.\n",
      "  warnings.warn(\n",
      "[ Info: Started!\n"
     ]
    },
    {
     "name": "stdout",
     "output_type": "stream",
     "text": [
      "\n",
      "Expressions evaluated per second: 1.600e+05\n",
      "Head worker occupation: 37.1%\n",
      "Progress: 396 / 1500 total iterations (26.400%)\n",
      "====================================================================================================\n",
      "Hall of Fame:\n",
      "---------------------------------------------------------------------------------------------------\n",
      "Complexity  Loss       Score     Equation\n",
      "1           2.237e-08  1.594e+01  y = -0.00015442\n",
      "3           2.567e-10  2.234e+00  y = -0.055338 * x₁\n",
      "5           2.417e-10  3.018e-02  y = -0.055163 * (x₁ + 6.6761e-05)\n",
      "9           1.824e-10  7.031e-02  y = ((1.1682 + x₀) - 1.6483) * (0.12818 * x₁)\n",
      "15          1.721e-10  9.695e-03  y = (0.056179 * x₁) * (((1.178 + 1.412) * (x₀ + x₁)) - (1.178 ...\n",
      "                                  - x₀))\n",
      "19          1.672e-10  7.261e-03  y = (0.040678 * x₁) * ((x₁ * (((-2.0505 / 0.022203) * x₂) * -0...\n",
      "                                  .26095)) - ((0.84387 * 1.8741) - x₀))\n",
      "---------------------------------------------------------------------------------------------------\n",
      "====================================================================================================\n",
      "Press 'q' and then <enter> to stop execution early.\n",
      "\n",
      "Expressions evaluated per second: 2.060e+05\n",
      "Head worker occupation: 25.5%\n",
      "Progress: 1039 / 1500 total iterations (69.267%)\n",
      "====================================================================================================\n",
      "Hall of Fame:\n",
      "---------------------------------------------------------------------------------------------------\n",
      "Complexity  Loss       Score     Equation\n",
      "1           2.237e-08  1.594e+01  y = -0.00015442\n",
      "3           2.567e-10  2.234e+00  y = -0.055338 * x₁\n",
      "5           1.779e-10  1.834e-01  y = (-0.062027 + x₁) * x₁\n",
      "7           1.667e-10  3.255e-02  y = (-0.062027 + x₁) * (x₁ - x₃)\n",
      "9           1.529e-10  4.310e-02  y = (-0.062027 + (x₁ * x₂)) * (x₁ - x₃)\n",
      "---------------------------------------------------------------------------------------------------\n",
      "====================================================================================================\n",
      "Press 'q' and then <enter> to stop execution early.\n"
     ]
    },
    {
     "name": "stderr",
     "output_type": "stream",
     "text": [
      "c:\\Python\\Python_3_11\\Lib\\site-packages\\pysr\\sr.py:1307: UserWarning: Note: it looks like you are running in Jupyter. The progress bar will be turned off.\n",
      "  warnings.warn(\n",
      "[ Info: Started!\n"
     ]
    },
    {
     "name": "stdout",
     "output_type": "stream",
     "text": [
      "\n",
      "Expressions evaluated per second: 3.120e+05\n",
      "Head worker occupation: 18.9%\n",
      "Progress: 723 / 1500 total iterations (48.200%)\n",
      "====================================================================================================\n",
      "Hall of Fame:\n",
      "---------------------------------------------------------------------------------------------------\n",
      "Complexity  Loss       Score     Equation\n",
      "1           1.030e-08  1.594e+01  y = -0.00010382\n",
      "3           7.424e-11  2.466e+00  y = -0.03741 * x₁\n",
      "5           7.329e-11  6.449e-03  y = (x₃ - 0.037384) * x₁\n",
      "7           5.632e-11  1.317e-01  y = ((x₃ / x₀) - 0.037384) * x₁\n",
      "11          4.162e-11  7.564e-02  y = 0.38255 * ((-0.049411 * x₀) * ((x₀ + 0.068885) - -0.14879)...\n",
      "                                  )\n",
      "17          4.030e-11  5.334e-03  y = (((x₃ / x₁) + -0.86884) + x₀) * ((-0.064816 * 0.66955) * (...\n",
      "                                  (x₃ / 0.13628) - x₁))\n",
      "---------------------------------------------------------------------------------------------------\n",
      "====================================================================================================\n",
      "Press 'q' and then <enter> to stop execution early.\n",
      "\n",
      "Expressions evaluated per second: 2.960e+05\n",
      "Head worker occupation: 18.8%\n",
      "Progress: 1385 / 1500 total iterations (92.333%)\n",
      "====================================================================================================\n",
      "Hall of Fame:\n",
      "---------------------------------------------------------------------------------------------------\n",
      "Complexity  Loss       Score     Equation\n",
      "1           1.030e-08  1.594e+01  y = -0.00010382\n",
      "3           7.424e-11  2.466e+00  y = -0.03741 * x₁\n",
      "5           7.329e-11  6.449e-03  y = (x₃ - 0.037384) * x₁\n",
      "7           5.632e-11  1.317e-01  y = ((x₃ / x₀) - 0.037384) * x₁\n",
      "9           4.422e-11  1.209e-01  y = 0.51996 * ((-0.049411 * x₀) * (x₀ - -0.14879))\n",
      "11          4.162e-11  3.035e-02  y = 0.38255 * ((-0.049411 * x₀) * ((x₀ + 0.068885) - -0.14879)...\n",
      "                                  )\n",
      "17          1.847e-11  1.354e-01  y = (((-0.00010382 / x₁) + -0.86884) + x₀) * ((-0.064816 * 0.6...\n",
      "                                  6955) * ((x₃ / 0.13628) - x₁))\n",
      "19          1.846e-11  3.780e-04  y = ((((-0.00010382 / x₁) + x₃) + -0.86884) + x₀) * ((-0.06481...\n",
      "                                  6 * 0.66955) * ((x₃ / 0.13628) - x₁))\n",
      "---------------------------------------------------------------------------------------------------\n",
      "====================================================================================================\n",
      "Press 'q' and then <enter> to stop execution early.\n"
     ]
    },
    {
     "data": {
      "text/html": [
       "<style>#sk-container-id-1 {color: black;}#sk-container-id-1 pre{padding: 0;}#sk-container-id-1 div.sk-toggleable {background-color: white;}#sk-container-id-1 label.sk-toggleable__label {cursor: pointer;display: block;width: 100%;margin-bottom: 0;padding: 0.3em;box-sizing: border-box;text-align: center;}#sk-container-id-1 label.sk-toggleable__label-arrow:before {content: \"▸\";float: left;margin-right: 0.25em;color: #696969;}#sk-container-id-1 label.sk-toggleable__label-arrow:hover:before {color: black;}#sk-container-id-1 div.sk-estimator:hover label.sk-toggleable__label-arrow:before {color: black;}#sk-container-id-1 div.sk-toggleable__content {max-height: 0;max-width: 0;overflow: hidden;text-align: left;background-color: #f0f8ff;}#sk-container-id-1 div.sk-toggleable__content pre {margin: 0.2em;color: black;border-radius: 0.25em;background-color: #f0f8ff;}#sk-container-id-1 input.sk-toggleable__control:checked~div.sk-toggleable__content {max-height: 200px;max-width: 100%;overflow: auto;}#sk-container-id-1 input.sk-toggleable__control:checked~label.sk-toggleable__label-arrow:before {content: \"▾\";}#sk-container-id-1 div.sk-estimator input.sk-toggleable__control:checked~label.sk-toggleable__label {background-color: #d4ebff;}#sk-container-id-1 div.sk-label input.sk-toggleable__control:checked~label.sk-toggleable__label {background-color: #d4ebff;}#sk-container-id-1 input.sk-hidden--visually {border: 0;clip: rect(1px 1px 1px 1px);clip: rect(1px, 1px, 1px, 1px);height: 1px;margin: -1px;overflow: hidden;padding: 0;position: absolute;width: 1px;}#sk-container-id-1 div.sk-estimator {font-family: monospace;background-color: #f0f8ff;border: 1px dotted black;border-radius: 0.25em;box-sizing: border-box;margin-bottom: 0.5em;}#sk-container-id-1 div.sk-estimator:hover {background-color: #d4ebff;}#sk-container-id-1 div.sk-parallel-item::after {content: \"\";width: 100%;border-bottom: 1px solid gray;flex-grow: 1;}#sk-container-id-1 div.sk-label:hover label.sk-toggleable__label {background-color: #d4ebff;}#sk-container-id-1 div.sk-serial::before {content: \"\";position: absolute;border-left: 1px solid gray;box-sizing: border-box;top: 0;bottom: 0;left: 50%;z-index: 0;}#sk-container-id-1 div.sk-serial {display: flex;flex-direction: column;align-items: center;background-color: white;padding-right: 0.2em;padding-left: 0.2em;position: relative;}#sk-container-id-1 div.sk-item {position: relative;z-index: 1;}#sk-container-id-1 div.sk-parallel {display: flex;align-items: stretch;justify-content: center;background-color: white;position: relative;}#sk-container-id-1 div.sk-item::before, #sk-container-id-1 div.sk-parallel-item::before {content: \"\";position: absolute;border-left: 1px solid gray;box-sizing: border-box;top: 0;bottom: 0;left: 50%;z-index: -1;}#sk-container-id-1 div.sk-parallel-item {display: flex;flex-direction: column;z-index: 1;position: relative;background-color: white;}#sk-container-id-1 div.sk-parallel-item:first-child::after {align-self: flex-end;width: 50%;}#sk-container-id-1 div.sk-parallel-item:last-child::after {align-self: flex-start;width: 50%;}#sk-container-id-1 div.sk-parallel-item:only-child::after {width: 0;}#sk-container-id-1 div.sk-dashed-wrapped {border: 1px dashed gray;margin: 0 0.4em 0.5em 0.4em;box-sizing: border-box;padding-bottom: 0.4em;background-color: white;}#sk-container-id-1 div.sk-label label {font-family: monospace;font-weight: bold;display: inline-block;line-height: 1.2em;}#sk-container-id-1 div.sk-label-container {text-align: center;}#sk-container-id-1 div.sk-container {/* jupyter's `normalize.less` sets `[hidden] { display: none; }` but bootstrap.min.css set `[hidden] { display: none !important; }` so we also need the `!important` here to be able to override the default hidden behavior on the sphinx rendered scikit-learn.org. See: https://github.com/scikit-learn/scikit-learn/issues/21755 */display: inline-block !important;position: relative;}#sk-container-id-1 div.sk-text-repr-fallback {display: none;}</style><div id=\"sk-container-id-1\" class=\"sk-top-container\"><div class=\"sk-text-repr-fallback\"><pre>PySRRegressor.equations_ = [\n",
       "\t   pick     score                                           equation  \\\n",
       "\t0        0.000000                                     -0.00010382061   \n",
       "\t1        2.466251                                  -0.037410434 * x1   \n",
       "\t2        0.006449                            (x3 - 0.037383795) * x1   \n",
       "\t3        0.131667                     ((x3 / x0) - 0.037383795) * x1   \n",
       "\t4        0.120935  0.51996166 * ((-0.049410626 * x0) * (x0 - -0.1...   \n",
       "\t5        0.030346  0.3825523 * ((-0.049410626 * x0) * ((x0 + 0.06...   \n",
       "\t6  &gt;&gt;&gt;&gt;  0.135370  (((-0.000103820545 / x1) + -0.8688355) + x0) *...   \n",
       "\t7        0.000378  ((((-0.000103820545 / x1) + x3) + -0.8688355) ...   \n",
       "\t\n",
       "\t           loss  complexity  \n",
       "\t0  1.029858e-08           1  \n",
       "\t1  7.423676e-11           3  \n",
       "\t2  7.328539e-11           5  \n",
       "\t3  5.631871e-11           7  \n",
       "\t4  4.421910e-11           9  \n",
       "\t5  4.161516e-11          11  \n",
       "\t6  1.847180e-11          17  \n",
       "\t7  1.845784e-11          19  \n",
       "]</pre><b>In a Jupyter environment, please rerun this cell to show the HTML representation or trust the notebook. <br />On GitHub, the HTML representation is unable to render, please try loading this page with nbviewer.org.</b></div><div class=\"sk-container\" hidden><div class=\"sk-item\"><div class=\"sk-estimator sk-toggleable\"><input class=\"sk-toggleable__control sk-hidden--visually\" id=\"sk-estimator-id-1\" type=\"checkbox\" checked><label for=\"sk-estimator-id-1\" class=\"sk-toggleable__label sk-toggleable__label-arrow\">PySRRegressor</label><div class=\"sk-toggleable__content\"><pre>PySRRegressor.equations_ = [\n",
       "\t   pick     score                                           equation  \\\n",
       "\t0        0.000000                                     -0.00010382061   \n",
       "\t1        2.466251                                  -0.037410434 * x1   \n",
       "\t2        0.006449                            (x3 - 0.037383795) * x1   \n",
       "\t3        0.131667                     ((x3 / x0) - 0.037383795) * x1   \n",
       "\t4        0.120935  0.51996166 * ((-0.049410626 * x0) * (x0 - -0.1...   \n",
       "\t5        0.030346  0.3825523 * ((-0.049410626 * x0) * ((x0 + 0.06...   \n",
       "\t6  &gt;&gt;&gt;&gt;  0.135370  (((-0.000103820545 / x1) + -0.8688355) + x0) *...   \n",
       "\t7        0.000378  ((((-0.000103820545 / x1) + x3) + -0.8688355) ...   \n",
       "\t\n",
       "\t           loss  complexity  \n",
       "\t0  1.029858e-08           1  \n",
       "\t1  7.423676e-11           3  \n",
       "\t2  7.328539e-11           5  \n",
       "\t3  5.631871e-11           7  \n",
       "\t4  4.421910e-11           9  \n",
       "\t5  4.161516e-11          11  \n",
       "\t6  1.847180e-11          17  \n",
       "\t7  1.845784e-11          19  \n",
       "]</pre></div></div></div></div></div>"
      ],
      "text/plain": [
       "PySRRegressor.equations_ = [\n",
       "\t   pick     score                                           equation  \\\n",
       "\t0        0.000000                                     -0.00010382061   \n",
       "\t1        2.466251                                  -0.037410434 * x1   \n",
       "\t2        0.006449                            (x3 - 0.037383795) * x1   \n",
       "\t3        0.131667                     ((x3 / x0) - 0.037383795) * x1   \n",
       "\t4        0.120935  0.51996166 * ((-0.049410626 * x0) * (x0 - -0.1...   \n",
       "\t5        0.030346  0.3825523 * ((-0.049410626 * x0) * ((x0 + 0.06...   \n",
       "\t6  >>>>  0.135370  (((-0.000103820545 / x1) + -0.8688355) + x0) *...   \n",
       "\t7        0.000378  ((((-0.000103820545 / x1) + x3) + -0.8688355) ...   \n",
       "\t\n",
       "\t           loss  complexity  \n",
       "\t0  1.029858e-08           1  \n",
       "\t1  7.423676e-11           3  \n",
       "\t2  7.328539e-11           5  \n",
       "\t3  5.631871e-11           7  \n",
       "\t4  4.421910e-11           9  \n",
       "\t5  4.161516e-11          11  \n",
       "\t6  1.847180e-11          17  \n",
       "\t7  1.845784e-11          19  \n",
       "]"
      ]
     },
     "execution_count": 33,
     "metadata": {},
     "output_type": "execute_result"
    }
   ],
   "source": [
    "model0.fit(X,y0)\n",
    "model1.fit(X,y1)\n",
    "# model2.fit(X,y2)"
   ]
  },
  {
   "cell_type": "markdown",
   "id": "2016beaa",
   "metadata": {},
   "source": [
    "Looking at last equation:"
   ]
  },
  {
   "cell_type": "code",
   "execution_count": 34,
   "id": "080dfbf5",
   "metadata": {},
   "outputs": [
    {
     "name": "stdout",
     "output_type": "stream",
     "text": [
      "(5, 6)\n"
     ]
    },
    {
     "data": {
      "text/html": [
       "<div>\n",
       "<style scoped>\n",
       "    .dataframe tbody tr th:only-of-type {\n",
       "        vertical-align: middle;\n",
       "    }\n",
       "\n",
       "    .dataframe tbody tr th {\n",
       "        vertical-align: top;\n",
       "    }\n",
       "\n",
       "    .dataframe thead th {\n",
       "        text-align: right;\n",
       "    }\n",
       "</style>\n",
       "<table border=\"1\" class=\"dataframe\">\n",
       "  <thead>\n",
       "    <tr style=\"text-align: right;\">\n",
       "      <th></th>\n",
       "      <th>complexity</th>\n",
       "      <th>loss</th>\n",
       "      <th>score</th>\n",
       "      <th>equation</th>\n",
       "      <th>sympy_format</th>\n",
       "      <th>lambda_format</th>\n",
       "    </tr>\n",
       "  </thead>\n",
       "  <tbody>\n",
       "    <tr>\n",
       "      <th>0</th>\n",
       "      <td>1</td>\n",
       "      <td>2.236534e-08</td>\n",
       "      <td>0.000000</td>\n",
       "      <td>-0.00015442484</td>\n",
       "      <td>-0.000154424840000000</td>\n",
       "      <td>PySRFunction(X=&gt;-0.000154424840000000)</td>\n",
       "    </tr>\n",
       "    <tr>\n",
       "      <th>1</th>\n",
       "      <td>3</td>\n",
       "      <td>2.567047e-10</td>\n",
       "      <td>2.233671</td>\n",
       "      <td>-0.055337816 * x1</td>\n",
       "      <td>-0.055337816*x1</td>\n",
       "      <td>PySRFunction(X=&gt;-0.055337816*x1)</td>\n",
       "    </tr>\n",
       "    <tr>\n",
       "      <th>2</th>\n",
       "      <td>5</td>\n",
       "      <td>1.778876e-10</td>\n",
       "      <td>0.183387</td>\n",
       "      <td>(-0.062027328 + x1) * x1</td>\n",
       "      <td>x1*(x1 - 0.062027328)</td>\n",
       "      <td>PySRFunction(X=&gt;x1*(x1 - 0.062027328))</td>\n",
       "    </tr>\n",
       "    <tr>\n",
       "      <th>3</th>\n",
       "      <td>7</td>\n",
       "      <td>1.666768e-10</td>\n",
       "      <td>0.032548</td>\n",
       "      <td>(-0.062027328 + x1) * (x1 - x3)</td>\n",
       "      <td>(x1 - 0.062027328)*(x1 - x3)</td>\n",
       "      <td>PySRFunction(X=&gt;(x1 - 0.062027328)*(x1 - x3))</td>\n",
       "    </tr>\n",
       "    <tr>\n",
       "      <th>4</th>\n",
       "      <td>9</td>\n",
       "      <td>1.529121e-10</td>\n",
       "      <td>0.043097</td>\n",
       "      <td>(-0.062027328 + (x1 * x2)) * (x1 - x3)</td>\n",
       "      <td>(x1 - x3)*(x1*x2 - 0.062027328)</td>\n",
       "      <td>PySRFunction(X=&gt;(x1 - x3)*(x1*x2 - 0.062027328))</td>\n",
       "    </tr>\n",
       "  </tbody>\n",
       "</table>\n",
       "</div>"
      ],
      "text/plain": [
       "   complexity          loss     score                                equation  \\\n",
       "0           1  2.236534e-08  0.000000                          -0.00015442484   \n",
       "1           3  2.567047e-10  2.233671                       -0.055337816 * x1   \n",
       "2           5  1.778876e-10  0.183387                (-0.062027328 + x1) * x1   \n",
       "3           7  1.666768e-10  0.032548         (-0.062027328 + x1) * (x1 - x3)   \n",
       "4           9  1.529121e-10  0.043097  (-0.062027328 + (x1 * x2)) * (x1 - x3)   \n",
       "\n",
       "                      sympy_format  \\\n",
       "0            -0.000154424840000000   \n",
       "1                  -0.055337816*x1   \n",
       "2            x1*(x1 - 0.062027328)   \n",
       "3     (x1 - 0.062027328)*(x1 - x3)   \n",
       "4  (x1 - x3)*(x1*x2 - 0.062027328)   \n",
       "\n",
       "                                      lambda_format  \n",
       "0            PySRFunction(X=>-0.000154424840000000)  \n",
       "1                  PySRFunction(X=>-0.055337816*x1)  \n",
       "2            PySRFunction(X=>x1*(x1 - 0.062027328))  \n",
       "3     PySRFunction(X=>(x1 - 0.062027328)*(x1 - x3))  \n",
       "4  PySRFunction(X=>(x1 - x3)*(x1*x2 - 0.062027328))  "
      ]
     },
     "metadata": {},
     "output_type": "display_data"
    },
    {
     "name": "stdout",
     "output_type": "stream",
     "text": [
      "PySRRegressor.equations_ = [\n",
      "\t   pick     score                                equation          loss  \\\n",
      "\t0        0.000000                          -0.00015442484  2.236534e-08   \n",
      "\t1        2.233671                       -0.055337816 * x1  2.567047e-10   \n",
      "\t2  >>>>  0.183387                (-0.062027328 + x1) * x1  1.778876e-10   \n",
      "\t3        0.032548         (-0.062027328 + x1) * (x1 - x3)  1.666768e-10   \n",
      "\t4        0.043097  (-0.062027328 + (x1 * x2)) * (x1 - x3)  1.529121e-10   \n",
      "\t\n",
      "\t   complexity  \n",
      "\t0           1  \n",
      "\t1           3  \n",
      "\t2           5  \n",
      "\t3           7  \n",
      "\t4           9  \n",
      "] Final Equation: \n"
     ]
    },
    {
     "data": {
      "text/latex": [
       "$\\displaystyle \\left(x_{1} - x_{3}\\right) \\left(x_{1} x_{2} - 0.062027328\\right)$"
      ],
      "text/plain": [
       "(x1 - x3)*(x1*x2 - 0.062027328)"
      ]
     },
     "metadata": {},
     "output_type": "display_data"
    },
    {
     "name": "stdout",
     "output_type": "stream",
     "text": [
      "(8, 6)\n"
     ]
    },
    {
     "data": {
      "text/html": [
       "<div>\n",
       "<style scoped>\n",
       "    .dataframe tbody tr th:only-of-type {\n",
       "        vertical-align: middle;\n",
       "    }\n",
       "\n",
       "    .dataframe tbody tr th {\n",
       "        vertical-align: top;\n",
       "    }\n",
       "\n",
       "    .dataframe thead th {\n",
       "        text-align: right;\n",
       "    }\n",
       "</style>\n",
       "<table border=\"1\" class=\"dataframe\">\n",
       "  <thead>\n",
       "    <tr style=\"text-align: right;\">\n",
       "      <th></th>\n",
       "      <th>complexity</th>\n",
       "      <th>loss</th>\n",
       "      <th>score</th>\n",
       "      <th>equation</th>\n",
       "      <th>sympy_format</th>\n",
       "      <th>lambda_format</th>\n",
       "    </tr>\n",
       "  </thead>\n",
       "  <tbody>\n",
       "    <tr>\n",
       "      <th>0</th>\n",
       "      <td>1</td>\n",
       "      <td>1.029858e-08</td>\n",
       "      <td>0.000000</td>\n",
       "      <td>-0.00010382061</td>\n",
       "      <td>-0.000103820610000000</td>\n",
       "      <td>PySRFunction(X=&gt;-0.000103820610000000)</td>\n",
       "    </tr>\n",
       "    <tr>\n",
       "      <th>1</th>\n",
       "      <td>3</td>\n",
       "      <td>7.423676e-11</td>\n",
       "      <td>2.466251</td>\n",
       "      <td>-0.037410434 * x1</td>\n",
       "      <td>-0.037410434*x1</td>\n",
       "      <td>PySRFunction(X=&gt;-0.037410434*x1)</td>\n",
       "    </tr>\n",
       "    <tr>\n",
       "      <th>2</th>\n",
       "      <td>5</td>\n",
       "      <td>7.328539e-11</td>\n",
       "      <td>0.006449</td>\n",
       "      <td>(x3 - 0.037383795) * x1</td>\n",
       "      <td>x1*(x3 - 0.037383795)</td>\n",
       "      <td>PySRFunction(X=&gt;x1*(x3 - 0.037383795))</td>\n",
       "    </tr>\n",
       "    <tr>\n",
       "      <th>3</th>\n",
       "      <td>7</td>\n",
       "      <td>5.631871e-11</td>\n",
       "      <td>0.131667</td>\n",
       "      <td>((x3 / x0) - 0.037383795) * x1</td>\n",
       "      <td>x1*(-0.037383795 + x3/x0)</td>\n",
       "      <td>PySRFunction(X=&gt;x1*(-0.037383795 + x3/x0))</td>\n",
       "    </tr>\n",
       "    <tr>\n",
       "      <th>4</th>\n",
       "      <td>9</td>\n",
       "      <td>4.421910e-11</td>\n",
       "      <td>0.120935</td>\n",
       "      <td>0.51996166 * ((-0.049410626 * x0) * (x0 - -0.1...</td>\n",
       "      <td>-0.0256916311165992*x0*(x0 + 0.14878935)</td>\n",
       "      <td>PySRFunction(X=&gt;-0.0256916311165992*x0*(x0 + 0...</td>\n",
       "    </tr>\n",
       "    <tr>\n",
       "      <th>5</th>\n",
       "      <td>11</td>\n",
       "      <td>4.161516e-11</td>\n",
       "      <td>0.030346</td>\n",
       "      <td>0.3825523 * ((-0.049410626 * x0) * ((x0 + 0.06...</td>\n",
       "      <td>-0.0189021486207398*x0*(x0 + 0.217674356)</td>\n",
       "      <td>PySRFunction(X=&gt;-0.0189021486207398*x0*(x0 + 0...</td>\n",
       "    </tr>\n",
       "    <tr>\n",
       "      <th>6</th>\n",
       "      <td>17</td>\n",
       "      <td>1.847180e-11</td>\n",
       "      <td>0.135370</td>\n",
       "      <td>(((-0.000103820545 / x1) + -0.8688355) + x0) *...</td>\n",
       "      <td>(0.0433979574020824*x1 - 0.318436323364284*x3)...</td>\n",
       "      <td>PySRFunction(X=&gt;(0.0433979574020824*x1 - 0.318...</td>\n",
       "    </tr>\n",
       "    <tr>\n",
       "      <th>7</th>\n",
       "      <td>19</td>\n",
       "      <td>1.845784e-11</td>\n",
       "      <td>0.000378</td>\n",
       "      <td>((((-0.000103820545 / x1) + x3) + -0.8688355) ...</td>\n",
       "      <td>(0.0433979574020824*x1 - 0.318436323364284*x3)...</td>\n",
       "      <td>PySRFunction(X=&gt;(0.0433979574020824*x1 - 0.318...</td>\n",
       "    </tr>\n",
       "  </tbody>\n",
       "</table>\n",
       "</div>"
      ],
      "text/plain": [
       "   complexity          loss     score  \\\n",
       "0           1  1.029858e-08  0.000000   \n",
       "1           3  7.423676e-11  2.466251   \n",
       "2           5  7.328539e-11  0.006449   \n",
       "3           7  5.631871e-11  0.131667   \n",
       "4           9  4.421910e-11  0.120935   \n",
       "5          11  4.161516e-11  0.030346   \n",
       "6          17  1.847180e-11  0.135370   \n",
       "7          19  1.845784e-11  0.000378   \n",
       "\n",
       "                                            equation  \\\n",
       "0                                     -0.00010382061   \n",
       "1                                  -0.037410434 * x1   \n",
       "2                            (x3 - 0.037383795) * x1   \n",
       "3                     ((x3 / x0) - 0.037383795) * x1   \n",
       "4  0.51996166 * ((-0.049410626 * x0) * (x0 - -0.1...   \n",
       "5  0.3825523 * ((-0.049410626 * x0) * ((x0 + 0.06...   \n",
       "6  (((-0.000103820545 / x1) + -0.8688355) + x0) *...   \n",
       "7  ((((-0.000103820545 / x1) + x3) + -0.8688355) ...   \n",
       "\n",
       "                                        sympy_format  \\\n",
       "0                              -0.000103820610000000   \n",
       "1                                    -0.037410434*x1   \n",
       "2                              x1*(x3 - 0.037383795)   \n",
       "3                          x1*(-0.037383795 + x3/x0)   \n",
       "4           -0.0256916311165992*x0*(x0 + 0.14878935)   \n",
       "5          -0.0189021486207398*x0*(x0 + 0.217674356)   \n",
       "6  (0.0433979574020824*x1 - 0.318436323364284*x3)...   \n",
       "7  (0.0433979574020824*x1 - 0.318436323364284*x3)...   \n",
       "\n",
       "                                       lambda_format  \n",
       "0             PySRFunction(X=>-0.000103820610000000)  \n",
       "1                   PySRFunction(X=>-0.037410434*x1)  \n",
       "2             PySRFunction(X=>x1*(x3 - 0.037383795))  \n",
       "3         PySRFunction(X=>x1*(-0.037383795 + x3/x0))  \n",
       "4  PySRFunction(X=>-0.0256916311165992*x0*(x0 + 0...  \n",
       "5  PySRFunction(X=>-0.0189021486207398*x0*(x0 + 0...  \n",
       "6  PySRFunction(X=>(0.0433979574020824*x1 - 0.318...  \n",
       "7  PySRFunction(X=>(0.0433979574020824*x1 - 0.318...  "
      ]
     },
     "metadata": {},
     "output_type": "display_data"
    },
    {
     "name": "stdout",
     "output_type": "stream",
     "text": [
      "PySRRegressor.equations_ = [\n",
      "\t   pick     score                                           equation  \\\n",
      "\t0        0.000000                                     -0.00010382061   \n",
      "\t1        2.466251                                  -0.037410434 * x1   \n",
      "\t2        0.006449                            (x3 - 0.037383795) * x1   \n",
      "\t3        0.131667                     ((x3 / x0) - 0.037383795) * x1   \n",
      "\t4        0.120935  0.51996166 * ((-0.049410626 * x0) * (x0 - -0.1...   \n",
      "\t5        0.030346  0.3825523 * ((-0.049410626 * x0) * ((x0 + 0.06...   \n",
      "\t6  >>>>  0.135370  (((-0.000103820545 / x1) + -0.8688355) + x0) *...   \n",
      "\t7        0.000378  ((((-0.000103820545 / x1) + x3) + -0.8688355) ...   \n",
      "\t\n",
      "\t           loss  complexity  \n",
      "\t0  1.029858e-08           1  \n",
      "\t1  7.423676e-11           3  \n",
      "\t2  7.328539e-11           5  \n",
      "\t3  5.631871e-11           7  \n",
      "\t4  4.421910e-11           9  \n",
      "\t5  4.161516e-11          11  \n",
      "\t6  1.847180e-11          17  \n",
      "\t7  1.845784e-11          19  \n",
      "] Final Equation: \n"
     ]
    },
    {
     "data": {
      "text/latex": [
       "$\\displaystyle \\left(0.0433979574020824 x_{1} - 0.318436323364284 x_{3}\\right) \\left(x_{0} + x_{3} - 0.8688355 - \\frac{0.000103820545}{x_{1}}\\right)$"
      ],
      "text/plain": [
       "(0.0433979574020824*x1 - 0.318436323364284*x3)*(x0 + x3 - 0.8688355 - 0.000103820545/x1)"
      ]
     },
     "metadata": {},
     "output_type": "display_data"
    }
   ],
   "source": [
    "for model in (model0, model1): #, model2):\n",
    "    equations = model.equations_\n",
    "    print(equations.shape)\n",
    "    display(equations)\n",
    "    print(model, \"Final Equation: \")\n",
    "    display(equations.iloc[-1, 4])"
   ]
  },
  {
   "cell_type": "markdown",
   "id": "bbb743a6",
   "metadata": {},
   "source": [
    "### Step 2: One moment in time, a few layers\n",
    "\n",
    "This is probably too simple, but we'll see. Just going to take z from 60 to 80, at one point in time, and see what we get. "
   ]
  },
  {
   "cell_type": "code",
   "execution_count": 35,
   "id": "bd026f60",
   "metadata": {},
   "outputs": [],
   "source": [
    "wtheta[14,60:80]\n",
    "\n",
    "indices = np.s_[14, 60:80]"
   ]
  },
  {
   "cell_type": "code",
   "execution_count": 36,
   "id": "ff0a5d63",
   "metadata": {},
   "outputs": [
    {
     "name": "stdout",
     "output_type": "stream",
     "text": [
      "(20,) (20,) (20, 4)\n"
     ]
    }
   ],
   "source": [
    "y0 = P[indices]\n",
    "y1 = P_direct[indices]\n",
    "# y2 = P_subtract[:,60]\n",
    "\n",
    "x0 = wtheta[indices]\n",
    "x1 = sigma_th[indices]\n",
    "x2 = sigma_2[indices]\n",
    "x3 = dTheta_dz[indices]\n",
    "\n",
    "X = np.column_stack([x0, x1, x2, x3])\n",
    "print(y0.shape, y1.shape, X.shape)#, y2.shape)"
   ]
  },
  {
   "cell_type": "code",
   "execution_count": 37,
   "id": "86694566",
   "metadata": {},
   "outputs": [],
   "source": [
    "model3 = PySRRegressor(\n",
    "    niterations=100,  # < Increase me for better results\n",
    "    binary_operators=[\"+\", \"*\", \"-\", \"/\"],\n",
    "    # unary_operators=[\n",
    "    #     \"cos\",\n",
    "    #     \"exp\",\n",
    "    #     \"sin\",\n",
    "    #     \"inv(x) = 1/x\",\n",
    "    #     \"square\",\n",
    "    #     \"cube\",\n",
    "    #     # ^ Custom operator (julia syntax)\n",
    "    # ],\n",
    "    extra_sympy_mappings={\"inv\": lambda x: 1 / x},\n",
    "    # ^ Define operator for SymPy as well\n",
    "    elementwise_loss=\"loss(prediction, target) = (prediction - target)^2\",\n",
    "    # ^ Custom loss function (julia syntax)\n",
    "    # batching = True,\n",
    "    # batch_size = 1000,\n",
    ")\n",
    "\n",
    "model4 = PySRRegressor(\n",
    "    niterations=100,  # < Increase me for better results\n",
    "    binary_operators=[\"+\", \"*\", \"-\", \"/\"],\n",
    "    # unary_operators=[\n",
    "    #     \"cos\",\n",
    "    #     \"exp\",\n",
    "    #     \"sin\",\n",
    "    #     \"inv(x) = 1/x\",\n",
    "    #     \"square\",\n",
    "    #     \"cube\",\n",
    "    #     # ^ Custom operator (julia syntax)\n",
    "    # ],\n",
    "    extra_sympy_mappings={\"inv\": lambda x: 1 / x},\n",
    "    # ^ Define operator for SymPy as well\n",
    "    elementwise_loss=\"loss(prediction, target) = (prediction - target)^2\",\n",
    "    # ^ Custom loss function (julia syntax)\n",
    "    # batching = True,\n",
    "    # batch_size = 1000,\n",
    ")"
   ]
  },
  {
   "cell_type": "code",
   "execution_count": 38,
   "id": "2351b228",
   "metadata": {},
   "outputs": [
    {
     "name": "stderr",
     "output_type": "stream",
     "text": [
      "c:\\Python\\Python_3_11\\Lib\\site-packages\\pysr\\sr.py:1307: UserWarning: Note: it looks like you are running in Jupyter. The progress bar will be turned off.\n",
      "  warnings.warn(\n",
      "[ Info: Started!\n"
     ]
    },
    {
     "name": "stdout",
     "output_type": "stream",
     "text": [
      "\n",
      "Expressions evaluated per second: 2.980e+05\n",
      "Head worker occupation: 21.3%\n",
      "Progress: 679 / 1500 total iterations (45.267%)\n",
      "====================================================================================================\n",
      "Hall of Fame:\n",
      "---------------------------------------------------------------------------------------------------\n",
      "Complexity  Loss       Score     Equation\n",
      "1           7.170e-11  1.594e+01  y = -5.9954e-05\n",
      "3           1.176e-12  2.055e+00  y = -0.069674 * x₁\n",
      "---------------------------------------------------------------------------------------------------\n",
      "====================================================================================================\n",
      "Press 'q' and then <enter> to stop execution early.\n",
      "\n",
      "Expressions evaluated per second: 2.910e+05\n",
      "Head worker occupation: 21.7%\n",
      "Progress: 1341 / 1500 total iterations (89.400%)\n",
      "====================================================================================================\n",
      "Hall of Fame:\n",
      "---------------------------------------------------------------------------------------------------\n",
      "Complexity  Loss       Score     Equation\n",
      "1           7.170e-11  1.594e+01  y = -5.9954e-05\n",
      "3           1.176e-12  2.055e+00  y = -0.069674 * x₁\n",
      "---------------------------------------------------------------------------------------------------\n",
      "====================================================================================================\n",
      "Press 'q' and then <enter> to stop execution early.\n"
     ]
    },
    {
     "name": "stderr",
     "output_type": "stream",
     "text": [
      "c:\\Python\\Python_3_11\\Lib\\site-packages\\pysr\\sr.py:1307: UserWarning: Note: it looks like you are running in Jupyter. The progress bar will be turned off.\n",
      "  warnings.warn(\n",
      "[ Info: Started!\n"
     ]
    },
    {
     "name": "stdout",
     "output_type": "stream",
     "text": [
      "\n",
      "Expressions evaluated per second: 3.050e+05\n",
      "Head worker occupation: 16.1%\n",
      "Progress: 708 / 1500 total iterations (47.200%)\n",
      "====================================================================================================\n",
      "Hall of Fame:\n",
      "---------------------------------------------------------------------------------------------------\n",
      "Complexity  Loss       Score     Equation\n",
      "3           2.946e-12  5.314e+00  y = -0.0042979 * x₀\n",
      "11          1.544e-13  3.685e-01  y = (x₀ / ((-0.056806 - x₂) * 0.82194)) * (x₁ + 0.00083817)\n",
      "---------------------------------------------------------------------------------------------------\n",
      "====================================================================================================\n",
      "Press 'q' and then <enter> to stop execution early.\n",
      "\n",
      "Expressions evaluated per second: 3.010e+05\n",
      "Head worker occupation: 17.8%\n",
      "Progress: 1407 / 1500 total iterations (93.800%)\n",
      "====================================================================================================\n",
      "Hall of Fame:\n",
      "---------------------------------------------------------------------------------------------------\n",
      "Complexity  Loss       Score     Equation\n",
      "1           8.988e-01  1.594e+01  y = 0.948\n",
      "3           2.946e-12  7.971e+00  y = -0.0042979 * x₀\n",
      "11          1.544e-13  3.685e-01  y = (x₀ / ((-0.056806 - x₂) * 0.82194)) * (x₁ + 0.00083817)\n",
      "---------------------------------------------------------------------------------------------------\n",
      "====================================================================================================\n",
      "Press 'q' and then <enter> to stop execution early.\n"
     ]
    },
    {
     "data": {
      "text/html": [
       "<style>#sk-container-id-2 {color: black;}#sk-container-id-2 pre{padding: 0;}#sk-container-id-2 div.sk-toggleable {background-color: white;}#sk-container-id-2 label.sk-toggleable__label {cursor: pointer;display: block;width: 100%;margin-bottom: 0;padding: 0.3em;box-sizing: border-box;text-align: center;}#sk-container-id-2 label.sk-toggleable__label-arrow:before {content: \"▸\";float: left;margin-right: 0.25em;color: #696969;}#sk-container-id-2 label.sk-toggleable__label-arrow:hover:before {color: black;}#sk-container-id-2 div.sk-estimator:hover label.sk-toggleable__label-arrow:before {color: black;}#sk-container-id-2 div.sk-toggleable__content {max-height: 0;max-width: 0;overflow: hidden;text-align: left;background-color: #f0f8ff;}#sk-container-id-2 div.sk-toggleable__content pre {margin: 0.2em;color: black;border-radius: 0.25em;background-color: #f0f8ff;}#sk-container-id-2 input.sk-toggleable__control:checked~div.sk-toggleable__content {max-height: 200px;max-width: 100%;overflow: auto;}#sk-container-id-2 input.sk-toggleable__control:checked~label.sk-toggleable__label-arrow:before {content: \"▾\";}#sk-container-id-2 div.sk-estimator input.sk-toggleable__control:checked~label.sk-toggleable__label {background-color: #d4ebff;}#sk-container-id-2 div.sk-label input.sk-toggleable__control:checked~label.sk-toggleable__label {background-color: #d4ebff;}#sk-container-id-2 input.sk-hidden--visually {border: 0;clip: rect(1px 1px 1px 1px);clip: rect(1px, 1px, 1px, 1px);height: 1px;margin: -1px;overflow: hidden;padding: 0;position: absolute;width: 1px;}#sk-container-id-2 div.sk-estimator {font-family: monospace;background-color: #f0f8ff;border: 1px dotted black;border-radius: 0.25em;box-sizing: border-box;margin-bottom: 0.5em;}#sk-container-id-2 div.sk-estimator:hover {background-color: #d4ebff;}#sk-container-id-2 div.sk-parallel-item::after {content: \"\";width: 100%;border-bottom: 1px solid gray;flex-grow: 1;}#sk-container-id-2 div.sk-label:hover label.sk-toggleable__label {background-color: #d4ebff;}#sk-container-id-2 div.sk-serial::before {content: \"\";position: absolute;border-left: 1px solid gray;box-sizing: border-box;top: 0;bottom: 0;left: 50%;z-index: 0;}#sk-container-id-2 div.sk-serial {display: flex;flex-direction: column;align-items: center;background-color: white;padding-right: 0.2em;padding-left: 0.2em;position: relative;}#sk-container-id-2 div.sk-item {position: relative;z-index: 1;}#sk-container-id-2 div.sk-parallel {display: flex;align-items: stretch;justify-content: center;background-color: white;position: relative;}#sk-container-id-2 div.sk-item::before, #sk-container-id-2 div.sk-parallel-item::before {content: \"\";position: absolute;border-left: 1px solid gray;box-sizing: border-box;top: 0;bottom: 0;left: 50%;z-index: -1;}#sk-container-id-2 div.sk-parallel-item {display: flex;flex-direction: column;z-index: 1;position: relative;background-color: white;}#sk-container-id-2 div.sk-parallel-item:first-child::after {align-self: flex-end;width: 50%;}#sk-container-id-2 div.sk-parallel-item:last-child::after {align-self: flex-start;width: 50%;}#sk-container-id-2 div.sk-parallel-item:only-child::after {width: 0;}#sk-container-id-2 div.sk-dashed-wrapped {border: 1px dashed gray;margin: 0 0.4em 0.5em 0.4em;box-sizing: border-box;padding-bottom: 0.4em;background-color: white;}#sk-container-id-2 div.sk-label label {font-family: monospace;font-weight: bold;display: inline-block;line-height: 1.2em;}#sk-container-id-2 div.sk-label-container {text-align: center;}#sk-container-id-2 div.sk-container {/* jupyter's `normalize.less` sets `[hidden] { display: none; }` but bootstrap.min.css set `[hidden] { display: none !important; }` so we also need the `!important` here to be able to override the default hidden behavior on the sphinx rendered scikit-learn.org. See: https://github.com/scikit-learn/scikit-learn/issues/21755 */display: inline-block !important;position: relative;}#sk-container-id-2 div.sk-text-repr-fallback {display: none;}</style><div id=\"sk-container-id-2\" class=\"sk-top-container\"><div class=\"sk-text-repr-fallback\"><pre>PySRRegressor.equations_ = [\n",
       "\t   pick      score                                           equation  \\\n",
       "\t0         0.000000                                         0.94800407   \n",
       "\t1        13.221982                                  -0.004297942 * x0   \n",
       "\t2  &gt;&gt;&gt;&gt;   0.368538  (x0 / ((-0.056806415 - x2) * 0.821944)) * (x1 ...   \n",
       "\t\n",
       "\t           loss  complexity  \n",
       "\t0  8.987848e-01           1  \n",
       "\t1  2.945698e-12           3  \n",
       "\t2  1.544382e-13          11  \n",
       "]</pre><b>In a Jupyter environment, please rerun this cell to show the HTML representation or trust the notebook. <br />On GitHub, the HTML representation is unable to render, please try loading this page with nbviewer.org.</b></div><div class=\"sk-container\" hidden><div class=\"sk-item\"><div class=\"sk-estimator sk-toggleable\"><input class=\"sk-toggleable__control sk-hidden--visually\" id=\"sk-estimator-id-2\" type=\"checkbox\" checked><label for=\"sk-estimator-id-2\" class=\"sk-toggleable__label sk-toggleable__label-arrow\">PySRRegressor</label><div class=\"sk-toggleable__content\"><pre>PySRRegressor.equations_ = [\n",
       "\t   pick      score                                           equation  \\\n",
       "\t0         0.000000                                         0.94800407   \n",
       "\t1        13.221982                                  -0.004297942 * x0   \n",
       "\t2  &gt;&gt;&gt;&gt;   0.368538  (x0 / ((-0.056806415 - x2) * 0.821944)) * (x1 ...   \n",
       "\t\n",
       "\t           loss  complexity  \n",
       "\t0  8.987848e-01           1  \n",
       "\t1  2.945698e-12           3  \n",
       "\t2  1.544382e-13          11  \n",
       "]</pre></div></div></div></div></div>"
      ],
      "text/plain": [
       "PySRRegressor.equations_ = [\n",
       "\t   pick      score                                           equation  \\\n",
       "\t0         0.000000                                         0.94800407   \n",
       "\t1        13.221982                                  -0.004297942 * x0   \n",
       "\t2  >>>>   0.368538  (x0 / ((-0.056806415 - x2) * 0.821944)) * (x1 ...   \n",
       "\t\n",
       "\t           loss  complexity  \n",
       "\t0  8.987848e-01           1  \n",
       "\t1  2.945698e-12           3  \n",
       "\t2  1.544382e-13          11  \n",
       "]"
      ]
     },
     "execution_count": 38,
     "metadata": {},
     "output_type": "execute_result"
    }
   ],
   "source": [
    "model3.fit(X,y0)\n",
    "model4.fit(X,y1)"
   ]
  },
  {
   "cell_type": "code",
   "execution_count": 39,
   "id": "d0995ba2",
   "metadata": {},
   "outputs": [
    {
     "name": "stdout",
     "output_type": "stream",
     "text": [
      "(2, 6)\n"
     ]
    },
    {
     "data": {
      "text/html": [
       "<div>\n",
       "<style scoped>\n",
       "    .dataframe tbody tr th:only-of-type {\n",
       "        vertical-align: middle;\n",
       "    }\n",
       "\n",
       "    .dataframe tbody tr th {\n",
       "        vertical-align: top;\n",
       "    }\n",
       "\n",
       "    .dataframe thead th {\n",
       "        text-align: right;\n",
       "    }\n",
       "</style>\n",
       "<table border=\"1\" class=\"dataframe\">\n",
       "  <thead>\n",
       "    <tr style=\"text-align: right;\">\n",
       "      <th></th>\n",
       "      <th>complexity</th>\n",
       "      <th>loss</th>\n",
       "      <th>score</th>\n",
       "      <th>equation</th>\n",
       "      <th>sympy_format</th>\n",
       "      <th>lambda_format</th>\n",
       "    </tr>\n",
       "  </thead>\n",
       "  <tbody>\n",
       "    <tr>\n",
       "      <th>0</th>\n",
       "      <td>1</td>\n",
       "      <td>7.169808e-11</td>\n",
       "      <td>0.000000</td>\n",
       "      <td>-5.995403e-5</td>\n",
       "      <td>-5.99540300000000e-5</td>\n",
       "      <td>PySRFunction(X=&gt;-0.0000599540300000000)</td>\n",
       "    </tr>\n",
       "    <tr>\n",
       "      <th>1</th>\n",
       "      <td>3</td>\n",
       "      <td>1.175909e-12</td>\n",
       "      <td>2.055211</td>\n",
       "      <td>-0.069674134 * x1</td>\n",
       "      <td>-0.069674134*x1</td>\n",
       "      <td>PySRFunction(X=&gt;-0.069674134*x1)</td>\n",
       "    </tr>\n",
       "  </tbody>\n",
       "</table>\n",
       "</div>"
      ],
      "text/plain": [
       "   complexity          loss     score           equation  \\\n",
       "0           1  7.169808e-11  0.000000       -5.995403e-5   \n",
       "1           3  1.175909e-12  2.055211  -0.069674134 * x1   \n",
       "\n",
       "           sympy_format                            lambda_format  \n",
       "0  -5.99540300000000e-5  PySRFunction(X=>-0.0000599540300000000)  \n",
       "1       -0.069674134*x1         PySRFunction(X=>-0.069674134*x1)  "
      ]
     },
     "metadata": {},
     "output_type": "display_data"
    },
    {
     "name": "stdout",
     "output_type": "stream",
     "text": [
      "PySRRegressor.equations_ = [\n",
      "\t   pick     score           equation          loss  complexity\n",
      "\t0        0.000000       -5.995403e-5  7.169808e-11           1\n",
      "\t1  >>>>  2.055211  -0.069674134 * x1  1.175909e-12           3\n",
      "] Final Equation: \n"
     ]
    },
    {
     "data": {
      "text/latex": [
       "$\\displaystyle - 0.069674134 x_{1}$"
      ],
      "text/plain": [
       "-0.069674134*x1"
      ]
     },
     "metadata": {},
     "output_type": "display_data"
    },
    {
     "name": "stdout",
     "output_type": "stream",
     "text": [
      "(3, 6)\n"
     ]
    },
    {
     "data": {
      "text/html": [
       "<div>\n",
       "<style scoped>\n",
       "    .dataframe tbody tr th:only-of-type {\n",
       "        vertical-align: middle;\n",
       "    }\n",
       "\n",
       "    .dataframe tbody tr th {\n",
       "        vertical-align: top;\n",
       "    }\n",
       "\n",
       "    .dataframe thead th {\n",
       "        text-align: right;\n",
       "    }\n",
       "</style>\n",
       "<table border=\"1\" class=\"dataframe\">\n",
       "  <thead>\n",
       "    <tr style=\"text-align: right;\">\n",
       "      <th></th>\n",
       "      <th>complexity</th>\n",
       "      <th>loss</th>\n",
       "      <th>score</th>\n",
       "      <th>equation</th>\n",
       "      <th>sympy_format</th>\n",
       "      <th>lambda_format</th>\n",
       "    </tr>\n",
       "  </thead>\n",
       "  <tbody>\n",
       "    <tr>\n",
       "      <th>0</th>\n",
       "      <td>1</td>\n",
       "      <td>8.987848e-01</td>\n",
       "      <td>0.000000</td>\n",
       "      <td>0.94800407</td>\n",
       "      <td>0.948004070000000</td>\n",
       "      <td>PySRFunction(X=&gt;0.948004070000000)</td>\n",
       "    </tr>\n",
       "    <tr>\n",
       "      <th>1</th>\n",
       "      <td>3</td>\n",
       "      <td>2.945698e-12</td>\n",
       "      <td>13.221982</td>\n",
       "      <td>-0.004297942 * x0</td>\n",
       "      <td>-0.004297942*x0</td>\n",
       "      <td>PySRFunction(X=&gt;-0.004297942*x0)</td>\n",
       "    </tr>\n",
       "    <tr>\n",
       "      <th>2</th>\n",
       "      <td>11</td>\n",
       "      <td>1.544382e-13</td>\n",
       "      <td>0.368538</td>\n",
       "      <td>(x0 / ((-0.056806415 - x2) * 0.821944)) * (x1 ...</td>\n",
       "      <td>x0*(x1 + 0.0008381717)/(-0.821944*x2 - 0.04669...</td>\n",
       "      <td>PySRFunction(X=&gt;x0*(x1 + 0.0008381717)/(-0.821...</td>\n",
       "    </tr>\n",
       "  </tbody>\n",
       "</table>\n",
       "</div>"
      ],
      "text/plain": [
       "   complexity          loss      score  \\\n",
       "0           1  8.987848e-01   0.000000   \n",
       "1           3  2.945698e-12  13.221982   \n",
       "2          11  1.544382e-13   0.368538   \n",
       "\n",
       "                                            equation  \\\n",
       "0                                         0.94800407   \n",
       "1                                  -0.004297942 * x0   \n",
       "2  (x0 / ((-0.056806415 - x2) * 0.821944)) * (x1 ...   \n",
       "\n",
       "                                        sympy_format  \\\n",
       "0                                  0.948004070000000   \n",
       "1                                    -0.004297942*x0   \n",
       "2  x0*(x1 + 0.0008381717)/(-0.821944*x2 - 0.04669...   \n",
       "\n",
       "                                       lambda_format  \n",
       "0                 PySRFunction(X=>0.948004070000000)  \n",
       "1                   PySRFunction(X=>-0.004297942*x0)  \n",
       "2  PySRFunction(X=>x0*(x1 + 0.0008381717)/(-0.821...  "
      ]
     },
     "metadata": {},
     "output_type": "display_data"
    },
    {
     "name": "stdout",
     "output_type": "stream",
     "text": [
      "PySRRegressor.equations_ = [\n",
      "\t   pick      score                                           equation  \\\n",
      "\t0         0.000000                                         0.94800407   \n",
      "\t1        13.221982                                  -0.004297942 * x0   \n",
      "\t2  >>>>   0.368538  (x0 / ((-0.056806415 - x2) * 0.821944)) * (x1 ...   \n",
      "\t\n",
      "\t           loss  complexity  \n",
      "\t0  8.987848e-01           1  \n",
      "\t1  2.945698e-12           3  \n",
      "\t2  1.544382e-13          11  \n",
      "] Final Equation: \n"
     ]
    },
    {
     "data": {
      "text/latex": [
       "$\\displaystyle \\frac{x_{0} \\left(x_{1} + 0.0008381717\\right)}{- 0.821944 x_{2} - 0.04669169197076}$"
      ],
      "text/plain": [
       "x0*(x1 + 0.0008381717)/(-0.821944*x2 - 0.04669169197076)"
      ]
     },
     "metadata": {},
     "output_type": "display_data"
    }
   ],
   "source": [
    "for model in (model3, model4):\n",
    "    equations = model.equations_\n",
    "    print(equations.shape)\n",
    "    display(equations)\n",
    "    print(model, \"Final Equation: \")\n",
    "    display(equations.iloc[-1, 4])"
   ]
  },
  {
   "cell_type": "markdown",
   "id": "c7ab4670",
   "metadata": {},
   "source": [
    "### Step 3: All moments in time, a few layers\n",
    "\n",
    "This is my current best bet. Might have to start using batching here. I think in the others we have too little data. Will take heights 60 to 80 and all instances in time"
   ]
  },
  {
   "cell_type": "code",
   "execution_count": 40,
   "id": "389ffbbb",
   "metadata": {},
   "outputs": [
    {
     "name": "stdout",
     "output_type": "stream",
     "text": [
      "(28, 20) (560,)\n"
     ]
    }
   ],
   "source": [
    "print(dTheta_dz[:, 60:80].shape, dTheta_dz[:, 60:80].ravel().shape)\n",
    "\n",
    "indices = np.s_[:, 60:80]"
   ]
  },
  {
   "cell_type": "code",
   "execution_count": 41,
   "id": "99eabd58",
   "metadata": {},
   "outputs": [
    {
     "name": "stdout",
     "output_type": "stream",
     "text": [
      "(560,) (560,) (560, 4)\n"
     ]
    }
   ],
   "source": [
    "y0 = P[indices].ravel()\n",
    "y1 = P_direct[indices].ravel()\n",
    "# y2 = P_subtract[:,60]\n",
    "\n",
    "x0 = wtheta[indices].ravel()\n",
    "x1 = sigma_th[indices].ravel()\n",
    "x2 = sigma_2[indices].ravel()\n",
    "x3 = dTheta_dz[indices].ravel()\n",
    "\n",
    "\n",
    "\n",
    "X = np.column_stack([x0, x1, x2, x3])\n",
    "print(y0.shape, y1.shape, X.shape)#, y2.shape)"
   ]
  },
  {
   "cell_type": "code",
   "execution_count": 42,
   "id": "b9370e87",
   "metadata": {},
   "outputs": [],
   "source": [
    "model5 = PySRRegressor(\n",
    "    niterations=100,  # < Increase me for better results\n",
    "    binary_operators=[\"+\", \"*\", \"-\", \"/\"],\n",
    "    # unary_operators=[\n",
    "    #     \"cos\",\n",
    "    #     \"exp\",\n",
    "    #     \"sin\",\n",
    "    #     \"inv(x) = 1/x\",\n",
    "    #     \"square\",\n",
    "    #     \"cube\",\n",
    "    #     # ^ Custom operator (julia syntax)\n",
    "    # ],\n",
    "    extra_sympy_mappings={\"inv\": lambda x: 1 / x},\n",
    "    # ^ Define operator for SymPy as well\n",
    "    elementwise_loss=\"loss(prediction, target) = (prediction - target)^2\",\n",
    "    # ^ Custom loss function (julia syntax)\n",
    "    # batching = True,\n",
    "    # batch_size = 1000,\n",
    ")\n",
    "\n",
    "model6 = PySRRegressor(\n",
    "    niterations=100,  # < Increase me for better results\n",
    "    binary_operators=[\"+\", \"*\", \"-\", \"/\"],\n",
    "    # unary_operators=[\n",
    "    #     \"cos\",\n",
    "    #     \"exp\",\n",
    "    #     \"sin\",\n",
    "    #     \"inv(x) = 1/x\",\n",
    "    #     \"square\",\n",
    "    #     \"cube\",\n",
    "    #     # ^ Custom operator (julia syntax)\n",
    "    # ],\n",
    "    extra_sympy_mappings={\"inv\": lambda x: 1 / x},\n",
    "    # ^ Define operator for SymPy as well\n",
    "    elementwise_loss=\"loss(prediction, target) = (prediction - target)^2\",\n",
    "    # ^ Custom loss function (julia syntax)\n",
    "    # batching = True,\n",
    "    # batch_size = 1000,\n",
    ")"
   ]
  },
  {
   "cell_type": "code",
   "execution_count": 43,
   "id": "cab3591b",
   "metadata": {},
   "outputs": [
    {
     "name": "stderr",
     "output_type": "stream",
     "text": [
      "c:\\Python\\Python_3_11\\Lib\\site-packages\\pysr\\sr.py:1307: UserWarning: Note: it looks like you are running in Jupyter. The progress bar will be turned off.\n",
      "  warnings.warn(\n",
      "[ Info: Started!\n",
      "c:\\Python\\Python_3_11\\Lib\\site-packages\\pysr\\sr.py:1307: UserWarning: Note: it looks like you are running in Jupyter. The progress bar will be turned off.\n",
      "  warnings.warn(\n"
     ]
    },
    {
     "name": "stdout",
     "output_type": "stream",
     "text": [
      "\n",
      "Expressions evaluated per second: 1.830e+05\n",
      "Head worker occupation: 34.3%\n",
      "Progress: 419 / 1500 total iterations (27.933%)\n",
      "====================================================================================================\n",
      "Hall of Fame:\n",
      "---------------------------------------------------------------------------------------------------\n",
      "Complexity  Loss       Score     Equation\n",
      "3           2.056e-10  5.314e+00  y = -0.0072118 * x₀\n",
      "5           1.885e-10  4.336e-02  y = (x₁ + x₀) * -0.0064027\n",
      "9           1.730e-10  2.148e-02  y = ((x₁ / 0.23469) + x₀) * (-0.5122 * 0.0091075)\n",
      "---------------------------------------------------------------------------------------------------\n",
      "====================================================================================================\n",
      "Press 'q' and then <enter> to stop execution early.\n",
      "\n",
      "Expressions evaluated per second: 1.830e+05\n",
      "Head worker occupation: 28.6%\n",
      "Progress: 852 / 1500 total iterations (56.800%)\n",
      "====================================================================================================\n",
      "Hall of Fame:\n",
      "---------------------------------------------------------------------------------------------------\n",
      "Complexity  Loss       Score     Equation\n",
      "1           1.670e-08  1.594e+01  y = -0.00012638\n",
      "3           2.056e-10  2.199e+00  y = -0.0072118 * x₀\n",
      "5           1.885e-10  4.336e-02  y = (x₁ + x₀) * -0.0064027\n",
      "9           1.730e-10  2.148e-02  y = ((x₁ / 0.23469) + x₀) * (-0.5122 * 0.0091075)\n",
      "---------------------------------------------------------------------------------------------------\n",
      "====================================================================================================\n",
      "Press 'q' and then <enter> to stop execution early.\n",
      "\n",
      "Expressions evaluated per second: 1.940e+05\n",
      "Head worker occupation: 24.7%\n",
      "Progress: 1355 / 1500 total iterations (90.333%)\n",
      "====================================================================================================\n",
      "Hall of Fame:\n",
      "---------------------------------------------------------------------------------------------------\n",
      "Complexity  Loss       Score     Equation\n",
      "1           1.670e-08  1.594e+01  y = -0.00012638\n",
      "3           2.056e-10  2.199e+00  y = -0.0072118 * x₀\n",
      "5           1.885e-10  4.336e-02  y = (x₁ + x₀) * -0.0064027\n",
      "9           1.730e-10  2.148e-02  y = ((x₁ / 0.23469) + x₀) * (-0.5122 * 0.0091075)\n",
      "---------------------------------------------------------------------------------------------------\n",
      "====================================================================================================\n",
      "Press 'q' and then <enter> to stop execution early.\n"
     ]
    },
    {
     "name": "stderr",
     "output_type": "stream",
     "text": [
      "[ Info: Started!\n"
     ]
    },
    {
     "name": "stdout",
     "output_type": "stream",
     "text": [
      "\n",
      "Expressions evaluated per second: 2.190e+05\n",
      "Head worker occupation: 24.2%\n",
      "Progress: 513 / 1500 total iterations (34.200%)\n",
      "====================================================================================================\n",
      "Hall of Fame:\n",
      "---------------------------------------------------------------------------------------------------\n",
      "Complexity  Loss       Score     Equation\n",
      "1           1.395e-01  1.594e+01  y = -0.37353\n",
      "3           8.691e-11  7.969e+00  y = x₁ * -0.036972\n",
      "5           6.123e-11  1.751e-01  y = (x₀ * -0.0049316) + 7.8892e-06\n",
      "7           4.356e-11  1.703e-01  y = (x₀ * -0.0047063) + (x₃ * 0.20274)\n",
      "9           2.139e-11  3.556e-01  y = (-0.0047063 * x₀) + (x₃ * (0.57281 * x₂))\n",
      "11          1.756e-11  9.847e-02  y = (-0.0047063 * x₀) + (x₃ * ((x₂ * 0.57281) * x₂))\n",
      "13          1.391e-11  1.167e-01  y = (-0.0047063 * x₀) + ((-1.1411 * -0.40989) * ((x₂ * x₃) * 1...\n",
      "                                  .0015))\n",
      "---------------------------------------------------------------------------------------------------\n",
      "====================================================================================================\n",
      "Press 'q' and then <enter> to stop execution early.\n",
      "\n",
      "Expressions evaluated per second: 2.150e+05\n",
      "Head worker occupation: 24.3%\n",
      "Progress: 1011 / 1500 total iterations (67.400%)\n",
      "====================================================================================================\n",
      "Hall of Fame:\n",
      "---------------------------------------------------------------------------------------------------\n",
      "Complexity  Loss       Score     Equation\n",
      "1           7.516e-09  1.594e+01  y = -8.0015e-05\n",
      "3           8.691e-11  2.230e+00  y = x₁ * -0.036972\n",
      "5           6.123e-11  1.751e-01  y = (x₀ * -0.0049316) + 7.8892e-06\n",
      "7           4.356e-11  1.703e-01  y = (x₀ * -0.0047063) + (x₃ * 0.20274)\n",
      "9           2.139e-11  3.556e-01  y = (-0.0047063 * x₀) + (x₃ * (0.57281 * x₂))\n",
      "11          1.756e-11  9.847e-02  y = (-0.0047063 * x₀) + (x₃ * ((x₂ * 0.57281) * x₂))\n",
      "13          1.391e-11  1.167e-01  y = (-0.0047063 * x₀) + ((-1.1411 * -0.40989) * ((x₂ * x₃) * 1...\n",
      "                                  .0015))\n",
      "19          1.195e-11  2.532e-02  y = ((((x₃ - (x₃ - (-0.83527 - -2.1349))) * (x₂ - 0.21264)) * ...\n",
      "                                  0.50164) * x₃) + (-0.0047063 * x₀)\n",
      "---------------------------------------------------------------------------------------------------\n",
      "====================================================================================================\n",
      "Press 'q' and then <enter> to stop execution early.\n"
     ]
    },
    {
     "data": {
      "text/html": [
       "<style>#sk-container-id-3 {color: black;}#sk-container-id-3 pre{padding: 0;}#sk-container-id-3 div.sk-toggleable {background-color: white;}#sk-container-id-3 label.sk-toggleable__label {cursor: pointer;display: block;width: 100%;margin-bottom: 0;padding: 0.3em;box-sizing: border-box;text-align: center;}#sk-container-id-3 label.sk-toggleable__label-arrow:before {content: \"▸\";float: left;margin-right: 0.25em;color: #696969;}#sk-container-id-3 label.sk-toggleable__label-arrow:hover:before {color: black;}#sk-container-id-3 div.sk-estimator:hover label.sk-toggleable__label-arrow:before {color: black;}#sk-container-id-3 div.sk-toggleable__content {max-height: 0;max-width: 0;overflow: hidden;text-align: left;background-color: #f0f8ff;}#sk-container-id-3 div.sk-toggleable__content pre {margin: 0.2em;color: black;border-radius: 0.25em;background-color: #f0f8ff;}#sk-container-id-3 input.sk-toggleable__control:checked~div.sk-toggleable__content {max-height: 200px;max-width: 100%;overflow: auto;}#sk-container-id-3 input.sk-toggleable__control:checked~label.sk-toggleable__label-arrow:before {content: \"▾\";}#sk-container-id-3 div.sk-estimator input.sk-toggleable__control:checked~label.sk-toggleable__label {background-color: #d4ebff;}#sk-container-id-3 div.sk-label input.sk-toggleable__control:checked~label.sk-toggleable__label {background-color: #d4ebff;}#sk-container-id-3 input.sk-hidden--visually {border: 0;clip: rect(1px 1px 1px 1px);clip: rect(1px, 1px, 1px, 1px);height: 1px;margin: -1px;overflow: hidden;padding: 0;position: absolute;width: 1px;}#sk-container-id-3 div.sk-estimator {font-family: monospace;background-color: #f0f8ff;border: 1px dotted black;border-radius: 0.25em;box-sizing: border-box;margin-bottom: 0.5em;}#sk-container-id-3 div.sk-estimator:hover {background-color: #d4ebff;}#sk-container-id-3 div.sk-parallel-item::after {content: \"\";width: 100%;border-bottom: 1px solid gray;flex-grow: 1;}#sk-container-id-3 div.sk-label:hover label.sk-toggleable__label {background-color: #d4ebff;}#sk-container-id-3 div.sk-serial::before {content: \"\";position: absolute;border-left: 1px solid gray;box-sizing: border-box;top: 0;bottom: 0;left: 50%;z-index: 0;}#sk-container-id-3 div.sk-serial {display: flex;flex-direction: column;align-items: center;background-color: white;padding-right: 0.2em;padding-left: 0.2em;position: relative;}#sk-container-id-3 div.sk-item {position: relative;z-index: 1;}#sk-container-id-3 div.sk-parallel {display: flex;align-items: stretch;justify-content: center;background-color: white;position: relative;}#sk-container-id-3 div.sk-item::before, #sk-container-id-3 div.sk-parallel-item::before {content: \"\";position: absolute;border-left: 1px solid gray;box-sizing: border-box;top: 0;bottom: 0;left: 50%;z-index: -1;}#sk-container-id-3 div.sk-parallel-item {display: flex;flex-direction: column;z-index: 1;position: relative;background-color: white;}#sk-container-id-3 div.sk-parallel-item:first-child::after {align-self: flex-end;width: 50%;}#sk-container-id-3 div.sk-parallel-item:last-child::after {align-self: flex-start;width: 50%;}#sk-container-id-3 div.sk-parallel-item:only-child::after {width: 0;}#sk-container-id-3 div.sk-dashed-wrapped {border: 1px dashed gray;margin: 0 0.4em 0.5em 0.4em;box-sizing: border-box;padding-bottom: 0.4em;background-color: white;}#sk-container-id-3 div.sk-label label {font-family: monospace;font-weight: bold;display: inline-block;line-height: 1.2em;}#sk-container-id-3 div.sk-label-container {text-align: center;}#sk-container-id-3 div.sk-container {/* jupyter's `normalize.less` sets `[hidden] { display: none; }` but bootstrap.min.css set `[hidden] { display: none !important; }` so we also need the `!important` here to be able to override the default hidden behavior on the sphinx rendered scikit-learn.org. See: https://github.com/scikit-learn/scikit-learn/issues/21755 */display: inline-block !important;position: relative;}#sk-container-id-3 div.sk-text-repr-fallback {display: none;}</style><div id=\"sk-container-id-3\" class=\"sk-top-container\"><div class=\"sk-text-repr-fallback\"><pre>PySRRegressor.equations_ = [\n",
       "\t   pick     score                                           equation  \\\n",
       "\t0        0.000000                                       -8.001519e-5   \n",
       "\t1        2.229983                                    x1 * -0.0369719   \n",
       "\t2        0.175080                 (x0 * -0.0049315756) + 7.889175e-6   \n",
       "\t3        0.170325            (x0 * -0.004706319) + (x3 * 0.20273903)   \n",
       "\t4        0.355646      (-0.004706319 * x0) + (x3 * (0.5728057 * x2))   \n",
       "\t5        0.098468  (-0.004706319 * x0) + (x3 * ((x2 * 0.5728057) ...   \n",
       "\t6  &gt;&gt;&gt;&gt;  0.116743  (-0.004706319 * x0) + ((-1.1410744 * -0.409890...   \n",
       "\t7        0.025317  ((((x3 - (x3 - (-0.83526856 - -2.1348982))) * ...   \n",
       "\t\n",
       "\t           loss  complexity  \n",
       "\t0  7.516115e-09           1  \n",
       "\t1  8.690693e-11           3  \n",
       "\t2  6.123244e-11           5  \n",
       "\t3  4.355515e-11           7  \n",
       "\t4  2.138599e-11           9  \n",
       "\t5  1.756309e-11          11  \n",
       "\t6  1.390592e-11          13  \n",
       "\t7  1.194620e-11          19  \n",
       "]</pre><b>In a Jupyter environment, please rerun this cell to show the HTML representation or trust the notebook. <br />On GitHub, the HTML representation is unable to render, please try loading this page with nbviewer.org.</b></div><div class=\"sk-container\" hidden><div class=\"sk-item\"><div class=\"sk-estimator sk-toggleable\"><input class=\"sk-toggleable__control sk-hidden--visually\" id=\"sk-estimator-id-3\" type=\"checkbox\" checked><label for=\"sk-estimator-id-3\" class=\"sk-toggleable__label sk-toggleable__label-arrow\">PySRRegressor</label><div class=\"sk-toggleable__content\"><pre>PySRRegressor.equations_ = [\n",
       "\t   pick     score                                           equation  \\\n",
       "\t0        0.000000                                       -8.001519e-5   \n",
       "\t1        2.229983                                    x1 * -0.0369719   \n",
       "\t2        0.175080                 (x0 * -0.0049315756) + 7.889175e-6   \n",
       "\t3        0.170325            (x0 * -0.004706319) + (x3 * 0.20273903)   \n",
       "\t4        0.355646      (-0.004706319 * x0) + (x3 * (0.5728057 * x2))   \n",
       "\t5        0.098468  (-0.004706319 * x0) + (x3 * ((x2 * 0.5728057) ...   \n",
       "\t6  &gt;&gt;&gt;&gt;  0.116743  (-0.004706319 * x0) + ((-1.1410744 * -0.409890...   \n",
       "\t7        0.025317  ((((x3 - (x3 - (-0.83526856 - -2.1348982))) * ...   \n",
       "\t\n",
       "\t           loss  complexity  \n",
       "\t0  7.516115e-09           1  \n",
       "\t1  8.690693e-11           3  \n",
       "\t2  6.123244e-11           5  \n",
       "\t3  4.355515e-11           7  \n",
       "\t4  2.138599e-11           9  \n",
       "\t5  1.756309e-11          11  \n",
       "\t6  1.390592e-11          13  \n",
       "\t7  1.194620e-11          19  \n",
       "]</pre></div></div></div></div></div>"
      ],
      "text/plain": [
       "PySRRegressor.equations_ = [\n",
       "\t   pick     score                                           equation  \\\n",
       "\t0        0.000000                                       -8.001519e-5   \n",
       "\t1        2.229983                                    x1 * -0.0369719   \n",
       "\t2        0.175080                 (x0 * -0.0049315756) + 7.889175e-6   \n",
       "\t3        0.170325            (x0 * -0.004706319) + (x3 * 0.20273903)   \n",
       "\t4        0.355646      (-0.004706319 * x0) + (x3 * (0.5728057 * x2))   \n",
       "\t5        0.098468  (-0.004706319 * x0) + (x3 * ((x2 * 0.5728057) ...   \n",
       "\t6  >>>>  0.116743  (-0.004706319 * x0) + ((-1.1410744 * -0.409890...   \n",
       "\t7        0.025317  ((((x3 - (x3 - (-0.83526856 - -2.1348982))) * ...   \n",
       "\t\n",
       "\t           loss  complexity  \n",
       "\t0  7.516115e-09           1  \n",
       "\t1  8.690693e-11           3  \n",
       "\t2  6.123244e-11           5  \n",
       "\t3  4.355515e-11           7  \n",
       "\t4  2.138599e-11           9  \n",
       "\t5  1.756309e-11          11  \n",
       "\t6  1.390592e-11          13  \n",
       "\t7  1.194620e-11          19  \n",
       "]"
      ]
     },
     "execution_count": 43,
     "metadata": {},
     "output_type": "execute_result"
    }
   ],
   "source": [
    "model5.fit(X,y0)\n",
    "model6.fit(X,y1)"
   ]
  },
  {
   "cell_type": "code",
   "execution_count": 44,
   "id": "75da76c7",
   "metadata": {},
   "outputs": [
    {
     "name": "stdout",
     "output_type": "stream",
     "text": [
      "(4, 6)\n"
     ]
    },
    {
     "data": {
      "text/html": [
       "<div>\n",
       "<style scoped>\n",
       "    .dataframe tbody tr th:only-of-type {\n",
       "        vertical-align: middle;\n",
       "    }\n",
       "\n",
       "    .dataframe tbody tr th {\n",
       "        vertical-align: top;\n",
       "    }\n",
       "\n",
       "    .dataframe thead th {\n",
       "        text-align: right;\n",
       "    }\n",
       "</style>\n",
       "<table border=\"1\" class=\"dataframe\">\n",
       "  <thead>\n",
       "    <tr style=\"text-align: right;\">\n",
       "      <th></th>\n",
       "      <th>complexity</th>\n",
       "      <th>loss</th>\n",
       "      <th>score</th>\n",
       "      <th>equation</th>\n",
       "      <th>sympy_format</th>\n",
       "      <th>lambda_format</th>\n",
       "    </tr>\n",
       "  </thead>\n",
       "  <tbody>\n",
       "    <tr>\n",
       "      <th>0</th>\n",
       "      <td>1</td>\n",
       "      <td>1.669988e-08</td>\n",
       "      <td>0.000000</td>\n",
       "      <td>-0.00012638443</td>\n",
       "      <td>-0.000126384430000000</td>\n",
       "      <td>PySRFunction(X=&gt;-0.000126384430000000)</td>\n",
       "    </tr>\n",
       "    <tr>\n",
       "      <th>1</th>\n",
       "      <td>3</td>\n",
       "      <td>2.055588e-10</td>\n",
       "      <td>2.198712</td>\n",
       "      <td>-0.007211849 * x0</td>\n",
       "      <td>-0.007211849*x0</td>\n",
       "      <td>PySRFunction(X=&gt;-0.007211849*x0)</td>\n",
       "    </tr>\n",
       "    <tr>\n",
       "      <th>2</th>\n",
       "      <td>5</td>\n",
       "      <td>1.884820e-10</td>\n",
       "      <td>0.043365</td>\n",
       "      <td>(x1 + x0) * -0.006402701</td>\n",
       "      <td>-0.006402701*x0 - 0.006402701*x1</td>\n",
       "      <td>PySRFunction(X=&gt;-0.006402701*x0 - 0.006402701*x1)</td>\n",
       "    </tr>\n",
       "    <tr>\n",
       "      <th>3</th>\n",
       "      <td>9</td>\n",
       "      <td>1.729652e-10</td>\n",
       "      <td>0.021478</td>\n",
       "      <td>((x1 / 0.2346931) + x0) * (-0.5122015 * 0.0091...</td>\n",
       "      <td>-0.0046648705514365*x0 - 0.0198764708099066*x1</td>\n",
       "      <td>PySRFunction(X=&gt;-0.0046648705514365*x0 - 0.019...</td>\n",
       "    </tr>\n",
       "  </tbody>\n",
       "</table>\n",
       "</div>"
      ],
      "text/plain": [
       "   complexity          loss     score  \\\n",
       "0           1  1.669988e-08  0.000000   \n",
       "1           3  2.055588e-10  2.198712   \n",
       "2           5  1.884820e-10  0.043365   \n",
       "3           9  1.729652e-10  0.021478   \n",
       "\n",
       "                                            equation  \\\n",
       "0                                     -0.00012638443   \n",
       "1                                  -0.007211849 * x0   \n",
       "2                           (x1 + x0) * -0.006402701   \n",
       "3  ((x1 / 0.2346931) + x0) * (-0.5122015 * 0.0091...   \n",
       "\n",
       "                                     sympy_format  \\\n",
       "0                           -0.000126384430000000   \n",
       "1                                 -0.007211849*x0   \n",
       "2                -0.006402701*x0 - 0.006402701*x1   \n",
       "3  -0.0046648705514365*x0 - 0.0198764708099066*x1   \n",
       "\n",
       "                                       lambda_format  \n",
       "0             PySRFunction(X=>-0.000126384430000000)  \n",
       "1                   PySRFunction(X=>-0.007211849*x0)  \n",
       "2  PySRFunction(X=>-0.006402701*x0 - 0.006402701*x1)  \n",
       "3  PySRFunction(X=>-0.0046648705514365*x0 - 0.019...  "
      ]
     },
     "metadata": {},
     "output_type": "display_data"
    },
    {
     "name": "stdout",
     "output_type": "stream",
     "text": [
      "PySRRegressor.equations_ = [\n",
      "\t   pick     score                                           equation  \\\n",
      "\t0        0.000000                                     -0.00012638443   \n",
      "\t1  >>>>  2.198712                                  -0.007211849 * x0   \n",
      "\t2        0.043365                           (x1 + x0) * -0.006402701   \n",
      "\t3        0.021478  ((x1 / 0.2346931) + x0) * (-0.5122015 * 0.0091...   \n",
      "\t\n",
      "\t           loss  complexity  \n",
      "\t0  1.669988e-08           1  \n",
      "\t1  2.055588e-10           3  \n",
      "\t2  1.884820e-10           5  \n",
      "\t3  1.729652e-10           9  \n",
      "] Final Equation: \n"
     ]
    },
    {
     "data": {
      "text/latex": [
       "$\\displaystyle - 0.0046648705514365 x_{0} - 0.0198764708099066 x_{1}$"
      ],
      "text/plain": [
       "-0.0046648705514365*x0 - 0.0198764708099066*x1"
      ]
     },
     "metadata": {},
     "output_type": "display_data"
    },
    {
     "name": "stdout",
     "output_type": "stream",
     "text": [
      "(8, 6)\n"
     ]
    },
    {
     "data": {
      "text/html": [
       "<div>\n",
       "<style scoped>\n",
       "    .dataframe tbody tr th:only-of-type {\n",
       "        vertical-align: middle;\n",
       "    }\n",
       "\n",
       "    .dataframe tbody tr th {\n",
       "        vertical-align: top;\n",
       "    }\n",
       "\n",
       "    .dataframe thead th {\n",
       "        text-align: right;\n",
       "    }\n",
       "</style>\n",
       "<table border=\"1\" class=\"dataframe\">\n",
       "  <thead>\n",
       "    <tr style=\"text-align: right;\">\n",
       "      <th></th>\n",
       "      <th>complexity</th>\n",
       "      <th>loss</th>\n",
       "      <th>score</th>\n",
       "      <th>equation</th>\n",
       "      <th>sympy_format</th>\n",
       "      <th>lambda_format</th>\n",
       "    </tr>\n",
       "  </thead>\n",
       "  <tbody>\n",
       "    <tr>\n",
       "      <th>0</th>\n",
       "      <td>1</td>\n",
       "      <td>7.516115e-09</td>\n",
       "      <td>0.000000</td>\n",
       "      <td>-8.001519e-5</td>\n",
       "      <td>-8.00151900000000e-5</td>\n",
       "      <td>PySRFunction(X=&gt;-0.0000800151900000000)</td>\n",
       "    </tr>\n",
       "    <tr>\n",
       "      <th>1</th>\n",
       "      <td>3</td>\n",
       "      <td>8.690693e-11</td>\n",
       "      <td>2.229983</td>\n",
       "      <td>x1 * -0.0369719</td>\n",
       "      <td>-0.0369719*x1</td>\n",
       "      <td>PySRFunction(X=&gt;-0.0369719*x1)</td>\n",
       "    </tr>\n",
       "    <tr>\n",
       "      <th>2</th>\n",
       "      <td>5</td>\n",
       "      <td>6.123244e-11</td>\n",
       "      <td>0.175080</td>\n",
       "      <td>(x0 * -0.0049315756) + 7.889175e-6</td>\n",
       "      <td>7.889175e-6 - 0.0049315756*x0</td>\n",
       "      <td>PySRFunction(X=&gt;7.889175e-6 - 0.0049315756*x0)</td>\n",
       "    </tr>\n",
       "    <tr>\n",
       "      <th>3</th>\n",
       "      <td>7</td>\n",
       "      <td>4.355515e-11</td>\n",
       "      <td>0.170325</td>\n",
       "      <td>(x0 * -0.004706319) + (x3 * 0.20273903)</td>\n",
       "      <td>-0.004706319*x0 + 0.20273903*x3</td>\n",
       "      <td>PySRFunction(X=&gt;-0.004706319*x0 + 0.20273903*x3)</td>\n",
       "    </tr>\n",
       "    <tr>\n",
       "      <th>4</th>\n",
       "      <td>9</td>\n",
       "      <td>2.138599e-11</td>\n",
       "      <td>0.355646</td>\n",
       "      <td>(-0.004706319 * x0) + (x3 * (0.5728057 * x2))</td>\n",
       "      <td>-0.004706319*x0 + 0.5728057*x2*x3</td>\n",
       "      <td>PySRFunction(X=&gt;-0.004706319*x0 + 0.5728057*x2...</td>\n",
       "    </tr>\n",
       "    <tr>\n",
       "      <th>5</th>\n",
       "      <td>11</td>\n",
       "      <td>1.756309e-11</td>\n",
       "      <td>0.098468</td>\n",
       "      <td>(-0.004706319 * x0) + (x3 * ((x2 * 0.5728057) ...</td>\n",
       "      <td>-0.004706319*x0 + 0.5728057*x2**2*x3</td>\n",
       "      <td>PySRFunction(X=&gt;-0.004706319*x0 + 0.5728057*x2...</td>\n",
       "    </tr>\n",
       "    <tr>\n",
       "      <th>6</th>\n",
       "      <td>13</td>\n",
       "      <td>1.390592e-11</td>\n",
       "      <td>0.116743</td>\n",
       "      <td>(-0.004706319 * x0) + ((-1.1410744 * -0.409890...</td>\n",
       "      <td>-0.004706319*x0 + 0.468434535056765*x2*x3</td>\n",
       "      <td>PySRFunction(X=&gt;-0.004706319*x0 + 0.4684345350...</td>\n",
       "    </tr>\n",
       "    <tr>\n",
       "      <th>7</th>\n",
       "      <td>19</td>\n",
       "      <td>1.194620e-11</td>\n",
       "      <td>0.025317</td>\n",
       "      <td>((((x3 - (x3 - (-0.83526856 - -2.1348982))) * ...</td>\n",
       "      <td>-0.004706319*x0 + x3*(0.651943483387356*x2 - 0...</td>\n",
       "      <td>PySRFunction(X=&gt;-0.004706319*x0 + x3*(0.651943...</td>\n",
       "    </tr>\n",
       "  </tbody>\n",
       "</table>\n",
       "</div>"
      ],
      "text/plain": [
       "   complexity          loss     score  \\\n",
       "0           1  7.516115e-09  0.000000   \n",
       "1           3  8.690693e-11  2.229983   \n",
       "2           5  6.123244e-11  0.175080   \n",
       "3           7  4.355515e-11  0.170325   \n",
       "4           9  2.138599e-11  0.355646   \n",
       "5          11  1.756309e-11  0.098468   \n",
       "6          13  1.390592e-11  0.116743   \n",
       "7          19  1.194620e-11  0.025317   \n",
       "\n",
       "                                            equation  \\\n",
       "0                                       -8.001519e-5   \n",
       "1                                    x1 * -0.0369719   \n",
       "2                 (x0 * -0.0049315756) + 7.889175e-6   \n",
       "3            (x0 * -0.004706319) + (x3 * 0.20273903)   \n",
       "4      (-0.004706319 * x0) + (x3 * (0.5728057 * x2))   \n",
       "5  (-0.004706319 * x0) + (x3 * ((x2 * 0.5728057) ...   \n",
       "6  (-0.004706319 * x0) + ((-1.1410744 * -0.409890...   \n",
       "7  ((((x3 - (x3 - (-0.83526856 - -2.1348982))) * ...   \n",
       "\n",
       "                                        sympy_format  \\\n",
       "0                               -8.00151900000000e-5   \n",
       "1                                      -0.0369719*x1   \n",
       "2                      7.889175e-6 - 0.0049315756*x0   \n",
       "3                    -0.004706319*x0 + 0.20273903*x3   \n",
       "4                  -0.004706319*x0 + 0.5728057*x2*x3   \n",
       "5               -0.004706319*x0 + 0.5728057*x2**2*x3   \n",
       "6          -0.004706319*x0 + 0.468434535056765*x2*x3   \n",
       "7  -0.004706319*x0 + x3*(0.651943483387356*x2 - 0...   \n",
       "\n",
       "                                       lambda_format  \n",
       "0            PySRFunction(X=>-0.0000800151900000000)  \n",
       "1                     PySRFunction(X=>-0.0369719*x1)  \n",
       "2     PySRFunction(X=>7.889175e-6 - 0.0049315756*x0)  \n",
       "3   PySRFunction(X=>-0.004706319*x0 + 0.20273903*x3)  \n",
       "4  PySRFunction(X=>-0.004706319*x0 + 0.5728057*x2...  \n",
       "5  PySRFunction(X=>-0.004706319*x0 + 0.5728057*x2...  \n",
       "6  PySRFunction(X=>-0.004706319*x0 + 0.4684345350...  \n",
       "7  PySRFunction(X=>-0.004706319*x0 + x3*(0.651943...  "
      ]
     },
     "metadata": {},
     "output_type": "display_data"
    },
    {
     "name": "stdout",
     "output_type": "stream",
     "text": [
      "PySRRegressor.equations_ = [\n",
      "\t   pick     score                                           equation  \\\n",
      "\t0        0.000000                                       -8.001519e-5   \n",
      "\t1        2.229983                                    x1 * -0.0369719   \n",
      "\t2        0.175080                 (x0 * -0.0049315756) + 7.889175e-6   \n",
      "\t3        0.170325            (x0 * -0.004706319) + (x3 * 0.20273903)   \n",
      "\t4        0.355646      (-0.004706319 * x0) + (x3 * (0.5728057 * x2))   \n",
      "\t5        0.098468  (-0.004706319 * x0) + (x3 * ((x2 * 0.5728057) ...   \n",
      "\t6  >>>>  0.116743  (-0.004706319 * x0) + ((-1.1410744 * -0.409890...   \n",
      "\t7        0.025317  ((((x3 - (x3 - (-0.83526856 - -2.1348982))) * ...   \n",
      "\t\n",
      "\t           loss  complexity  \n",
      "\t0  7.516115e-09           1  \n",
      "\t1  8.690693e-11           3  \n",
      "\t2  6.123244e-11           5  \n",
      "\t3  4.355515e-11           7  \n",
      "\t4  2.138599e-11           9  \n",
      "\t5  1.756309e-11          11  \n",
      "\t6  1.390592e-11          13  \n",
      "\t7  1.194620e-11          19  \n",
      "] Final Equation: \n"
     ]
    },
    {
     "data": {
      "text/latex": [
       "$\\displaystyle - 0.004706319 x_{0} + x_{3} \\cdot \\left(0.651943483387356 x_{2} - 0.138626778402816\\right)$"
      ],
      "text/plain": [
       "-0.004706319*x0 + x3*(0.651943483387356*x2 - 0.138626778402816)"
      ]
     },
     "metadata": {},
     "output_type": "display_data"
    }
   ],
   "source": [
    "for model in (model5, model6):\n",
    "    equations = model.equations_\n",
    "    print(equations.shape)\n",
    "    display(equations)\n",
    "    print(model, \"Final Equation: \")\n",
    "    display(equations.iloc[-1, 4])"
   ]
  }
 ],
 "metadata": {
  "kernelspec": {
   "display_name": "Python 3",
   "language": "python",
   "name": "python3"
  },
  "language_info": {
   "codemirror_mode": {
    "name": "ipython",
    "version": 3
   },
   "file_extension": ".py",
   "mimetype": "text/x-python",
   "name": "python",
   "nbconvert_exporter": "python",
   "pygments_lexer": "ipython3",
   "version": "3.11.1"
  }
 },
 "nbformat": 4,
 "nbformat_minor": 5
}
