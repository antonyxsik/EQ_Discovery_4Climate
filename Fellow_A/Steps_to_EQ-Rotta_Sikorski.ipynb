{
 "cells": [
  {
   "cell_type": "markdown",
   "id": "770837a2",
   "metadata": {},
   "source": [
    "# Steps to EQ Rotta\n",
    "\n",
    "*Authors: Antony Sikorski, Sara Shamekh*\n",
    "\n",
    "My modifications to the original EQ-Rotta notebook. Significant changes: \n",
    "\n",
    "- slightly different file finding function\n",
    "- time average function now works for 1d and 2d data. \n",
    "- Using multiple files at once (this means quite a bit more work for variables, constants, etc) "
   ]
  },
  {
   "cell_type": "code",
   "execution_count": 1,
   "id": "3489d55e-59c3-4129-be0a-6c5923186507",
   "metadata": {},
   "outputs": [],
   "source": [
    "# from pdfs import *\n",
    "import os\n",
    "\n",
    "import xarray as xr\n",
    "import netCDF4 as nc\n",
    "import h5netcdf\n",
    "\n",
    "import numpy as np\n",
    "import matplotlib.pyplot as plt\n",
    "from IPython.display import display"
   ]
  },
  {
   "cell_type": "markdown",
   "id": "f9f98f68",
   "metadata": {},
   "source": [
    "Should return all files and folders that start with 'Ug', although in our case right now it should just be files: "
   ]
  },
  {
   "cell_type": "code",
   "execution_count": 2,
   "id": "ca3f5ec4-060f-46c6-8676-5553505315ba",
   "metadata": {},
   "outputs": [],
   "source": [
    "def list_directories_files(path):\n",
    "    # all items in the given path\n",
    "    items = os.listdir(path)\n",
    "    \n",
    "    # find the directories starting with 'Ug'\n",
    "    directories = [item for item in items if os.path.isdir(os.path.join(path, item)) and item.startswith('Ug')]\n",
    "    # find the files starting with 'Ug'\n",
    "    files = [item for item in items if os.path.isfile(os.path.join(path, item)) and item.startswith('Ug')]\n",
    "    \n",
    "    return directories, files\n"
   ]
  },
  {
   "cell_type": "markdown",
   "id": "964ddaf8",
   "metadata": {},
   "source": [
    "This lists all of our files. **All that needs to be changed is the path.** "
   ]
  },
  {
   "cell_type": "code",
   "execution_count": 3,
   "id": "3dd722e7",
   "metadata": {},
   "outputs": [
    {
     "name": "stdout",
     "output_type": "stream",
     "text": [
      "Directories starting with 'Ug': []\n",
      "Files starting with 'Ug': ['Ug16Q000_IV.nc', 'Ug16Q001_IV.nc', 'Ug16Q003_IV.nc', 'Ug16Q006_I.nc', 'Ug16Q006_IV.nc', 'Ug16Q010_IV.nc', 'Ug1Q01_II.nc', 'Ug2Q010_I.nc', 'Ug2Q010_IV.nc', 'Ug2Q01_III.nc', 'Ug2Q024_I.nc', 'Ug8Q003_II.nc', 'Ug8Q003_III.nc', 'Ug8Q003_IV.nc', 'Ug8Q006_IV.nc']\n"
     ]
    }
   ],
   "source": [
    "path = 'C:/Users/anton/Desktop/Career/LEAP_nyc_Summer2024/les_sim_2/'\n",
    "\n",
    "\n",
    "directories, files = list_directories_files(path)\n",
    "print(\"Directories starting with 'Ug':\", directories)\n",
    "print(\"Files starting with 'Ug':\", files)"
   ]
  },
  {
   "cell_type": "code",
   "execution_count": 4,
   "id": "f6cbcb27",
   "metadata": {},
   "outputs": [],
   "source": [
    "# nc_test1 = nc.Dataset(os.path.join('C:/Users/anton/Desktop/Career/LEAP_nyc_Summer2024/les_sim_2/', 'Ug2Q010_I.nc'), mode='r')\n",
    "\n",
    "# z_256 = nc_test1.variables['z'][:]\n",
    "# zh_257 = nc_test1.variables['zh'][:]\n",
    "# t_120 = nc_test1.variables['time'][:]\n",
    "\n",
    "# #rewrite this code but using 'Ug2Q010_IV.nc' instead\n",
    "# nc_test2 = nc.Dataset(os.path.join('C:/Users/anton/Desktop/Career/LEAP_nyc_Summer2024/les_sim_2/', 'Ug2Q010_IV.nc'), mode='r')\n",
    "\n",
    "# z_384 = nc_test2.variables['z'][:]\n",
    "# zh_385 = nc_test2.variables['zh'][:]\n",
    "# t_90 = nc_test2.variables['time'][:]\n",
    "\n",
    "# # print(len(z_256), len(zh_257), len(t_120), len(z_384), len(zh_385), len(t_90))"
   ]
  },
  {
   "cell_type": "code",
   "execution_count": 5,
   "id": "76ffc386-7bd0-4b80-a561-4a21edd093a5",
   "metadata": {},
   "outputs": [],
   "source": [
    "def time_average(data, timeavg):\n",
    "    \"\"\"\n",
    "    Averages an array over specified number of time steps. Works for both 1D and higher-dimensional arrays.\n",
    "\n",
    "    Parameters:\n",
    "    - data (numpy.ndarray): The input data array. Expected shapes are either (ntime,) or (ntime, nz).\n",
    "    - timeavg (int): The number of time steps over which to average.\n",
    "\n",
    "    Returns:\n",
    "    - numpy.ndarray: The averaged data array.\n",
    "    \"\"\"\n",
    "    ntime = data.shape[0]\n",
    "    nchunks = ntime // timeavg\n",
    "    truncated_data = data[:nchunks * timeavg]\n",
    "\n",
    "    if data.ndim == 1:\n",
    "        # for 1D arrays, reshape to (nchunks, timeavg)\n",
    "        reshaped_data = truncated_data.reshape(nchunks, timeavg)\n",
    "    else:\n",
    "        # for 2D arrays, old method with reshaping\n",
    "        nz = data.shape[1]\n",
    "        reshaped_data = truncated_data.reshape(nchunks, timeavg, nz)\n",
    "\n",
    "    # compute the mean along the new time axis \n",
    "    averaged_data = reshaped_data.mean(axis=1)\n",
    "\n",
    "    return averaged_data\n"
   ]
  },
  {
   "cell_type": "code",
   "execution_count": 6,
   "id": "7ddaec8f-52de-4632-9cfa-237ebb5ace53",
   "metadata": {},
   "outputs": [
    {
     "name": "stdout",
     "output_type": "stream",
     "text": [
      "budget is not in Ug16Q000_IV.nc\n",
      "budget is in Ug16Q001_IV.nc\n",
      "budget is in Ug16Q003_IV.nc\n",
      "budget is in Ug16Q006_I.nc\n",
      "budget is in Ug16Q006_IV.nc\n",
      "budget is in Ug16Q010_IV.nc\n",
      "budget is in Ug1Q01_II.nc\n",
      "budget is in Ug2Q010_I.nc\n",
      "budget is in Ug2Q010_IV.nc\n",
      "budget is in Ug2Q01_III.nc\n",
      "budget is in Ug2Q024_I.nc\n",
      "budget is in Ug8Q003_II.nc\n",
      "budget is in Ug8Q003_III.nc\n",
      "budget is in Ug8Q003_IV.nc\n",
      "budget is in Ug8Q006_IV.nc\n"
     ]
    }
   ],
   "source": [
    "items = files\n",
    "\n",
    "time_avg = 15\n",
    "\n",
    "for item in items:\n",
    "    ds_stat = nc.Dataset( os.path.join(path, item), mode='r')\n",
    "    if 'budget' in ds_stat.groups:\n",
    "        print (\"budget is in\", item)\n",
    "    else:\n",
    "        print (\"budget is not in\", item)\n",
    "    "
   ]
  },
  {
   "cell_type": "markdown",
   "id": "c7966436",
   "metadata": {},
   "source": [
    "It appears that we can use all files except the very first (000) file. Going to print out all of the viable files so we can see dimension sizes and groups: "
   ]
  },
  {
   "cell_type": "code",
   "execution_count": 7,
   "id": "255a09a8",
   "metadata": {},
   "outputs": [
    {
     "name": "stdout",
     "output_type": "stream",
     "text": [
      "Ug16Q001_IV.nc\n",
      "<class 'netCDF4._netCDF4.Dataset'>\n",
      "root group (NETCDF4 data model, file format HDF5):\n",
      "    dimensions(sizes): z(384), zh(385), time(120)\n",
      "    variables(dimensions): float64 time(time), float64 z(z), float64 zh(zh)\n",
      "    groups: default, thermo, budget\n",
      "Ug16Q003_IV.nc\n",
      "<class 'netCDF4._netCDF4.Dataset'>\n",
      "root group (NETCDF4 data model, file format HDF5):\n",
      "    dimensions(sizes): z(384), zh(385), time(120)\n",
      "    variables(dimensions): float64 time(time), float64 z(z), float64 zh(zh)\n",
      "    groups: default, thermo, budget\n",
      "Ug16Q006_I.nc\n",
      "<class 'netCDF4._netCDF4.Dataset'>\n",
      "root group (NETCDF4 data model, file format HDF5):\n",
      "    dimensions(sizes): z(256), zh(257), time(120)\n",
      "    variables(dimensions): float64 time(time), float64 z(z), float64 zh(zh)\n",
      "    groups: default, thermo, budget\n",
      "Ug16Q006_IV.nc\n",
      "<class 'netCDF4._netCDF4.Dataset'>\n",
      "root group (NETCDF4 data model, file format HDF5):\n",
      "    dimensions(sizes): z(384), zh(385), time(90)\n",
      "    variables(dimensions): float64 time(time), float64 z(z), float64 zh(zh)\n",
      "    groups: default, thermo, budget\n",
      "Ug16Q010_IV.nc\n",
      "<class 'netCDF4._netCDF4.Dataset'>\n",
      "root group (NETCDF4 data model, file format HDF5):\n",
      "    dimensions(sizes): z(384), zh(385), time(90)\n",
      "    variables(dimensions): float64 time(time), float64 z(z), float64 zh(zh)\n",
      "    groups: default, thermo, budget\n",
      "Ug1Q01_II.nc\n",
      "<class 'netCDF4._netCDF4.Dataset'>\n",
      "root group (NETCDF4 data model, file format HDF5):\n",
      "    dimensions(sizes): z(384), zh(385), time(120)\n",
      "    variables(dimensions): float64 time(time), float64 z(z), float64 zh(zh)\n",
      "    groups: default, thermo, budget\n",
      "Ug2Q010_I.nc\n",
      "<class 'netCDF4._netCDF4.Dataset'>\n",
      "root group (NETCDF4 data model, file format HDF5):\n",
      "    dimensions(sizes): z(256), zh(257), time(120)\n",
      "    variables(dimensions): float64 time(time), float64 z(z), float64 zh(zh)\n",
      "    groups: default, thermo, budget\n",
      "Ug2Q010_IV.nc\n",
      "<class 'netCDF4._netCDF4.Dataset'>\n",
      "root group (NETCDF4 data model, file format HDF5):\n",
      "    dimensions(sizes): z(384), zh(385), time(90)\n",
      "    variables(dimensions): float64 time(time), float64 z(z), float64 zh(zh)\n",
      "    groups: default, thermo, budget\n",
      "Ug2Q01_III.nc\n",
      "<class 'netCDF4._netCDF4.Dataset'>\n",
      "root group (NETCDF4 data model, file format HDF5):\n",
      "    dimensions(sizes): z(384), zh(385), time(120)\n",
      "    variables(dimensions): float64 time(time), float64 z(z), float64 zh(zh)\n",
      "    groups: default, thermo, budget\n",
      "Ug2Q024_I.nc\n",
      "<class 'netCDF4._netCDF4.Dataset'>\n",
      "root group (NETCDF4 data model, file format HDF5):\n",
      "    dimensions(sizes): z(256), zh(257), time(120)\n",
      "    variables(dimensions): float64 time(time), float64 z(z), float64 zh(zh)\n",
      "    groups: default, thermo, budget\n",
      "Ug8Q003_II.nc\n",
      "<class 'netCDF4._netCDF4.Dataset'>\n",
      "root group (NETCDF4 data model, file format HDF5):\n",
      "    dimensions(sizes): z(384), zh(385), time(120)\n",
      "    variables(dimensions): float64 time(time), float64 z(z), float64 zh(zh)\n",
      "    groups: default, thermo, budget\n",
      "Ug8Q003_III.nc\n",
      "<class 'netCDF4._netCDF4.Dataset'>\n",
      "root group (NETCDF4 data model, file format HDF5):\n",
      "    dimensions(sizes): z(384), zh(385), time(120)\n",
      "    variables(dimensions): float64 time(time), float64 z(z), float64 zh(zh)\n",
      "    groups: default, thermo, budget\n",
      "Ug8Q003_IV.nc\n",
      "<class 'netCDF4._netCDF4.Dataset'>\n",
      "root group (NETCDF4 data model, file format HDF5):\n",
      "    dimensions(sizes): z(384), zh(385), time(120)\n",
      "    variables(dimensions): float64 time(time), float64 z(z), float64 zh(zh)\n",
      "    groups: default, thermo, budget\n",
      "Ug8Q006_IV.nc\n",
      "<class 'netCDF4._netCDF4.Dataset'>\n",
      "root group (NETCDF4 data model, file format HDF5):\n",
      "    dimensions(sizes): z(384), zh(385), time(120)\n",
      "    variables(dimensions): float64 time(time), float64 z(z), float64 zh(zh)\n",
      "    groups: default, thermo, budget\n"
     ]
    }
   ],
   "source": [
    "for item in items[1:]:\n",
    "    print(item)\n",
    "    df = nc.Dataset(path + '/' + item, mode='r')\n",
    "    print(df)"
   ]
  },
  {
   "cell_type": "markdown",
   "id": "a8073b60",
   "metadata": {},
   "source": [
    "This function should create variables for a given list of `items`. In my case, my `selected_files` constitutes a group of similar (I think) simulations that I can append together for the sake of having more data.  "
   ]
  },
  {
   "cell_type": "code",
   "execution_count": 8,
   "id": "e6a31a11",
   "metadata": {},
   "outputs": [],
   "source": [
    "#selected_files = [items[1], items[2], items[4], items[5]]\n",
    "# selected_files = [items[1]]\n",
    "selected_files = [items[1], items[2], items[4], items[5], items[6], items[8],items[9], items[11], items[12], items[13], items[14]]"
   ]
  },
  {
   "cell_type": "code",
   "execution_count": 9,
   "id": "352d12f6",
   "metadata": {},
   "outputs": [],
   "source": [
    "def make_variables(path, items, time_avg):\n",
    "    # Initialize empty lists to accumulate results\n",
    "    sigma_th = []\n",
    "    sigma_2 = []\n",
    "    Theta = []\n",
    "    wtheta = []\n",
    "    wwtheta = []\n",
    "    rdstr = []\n",
    "    transport = []\n",
    "\n",
    "    for item in items:\n",
    "        ds_stat = nc.Dataset(os.path.join(path, item), mode='r')\n",
    "        \n",
    "        sigma_th_temp = time_average(ds_stat.groups['thermo']['th_2'][:], time_avg)  # covariance of theta\n",
    "        sigma_2_temp = time_average(ds_stat.groups['default']['w_2'][:], time_avg)   # covariance of w\n",
    "        Theta_temp = time_average(ds_stat.groups['thermo']['th'][:], time_avg)       # domain mean theta\n",
    "        wtheta_temp = time_average(ds_stat.groups['thermo']['th_flux'][:], time_avg) # heat flux\n",
    "        wwtheta_temp = time_average(ds_stat.groups['budget']['wwtheta'][:], time_avg) # third moment, covariance between wtheta and w\n",
    "        rdstr_temp = time_average(ds_stat.groups['budget']['bw_rdstr'][:], time_avg)\n",
    "        transport_temp = time_average(ds_stat.groups['budget']['bw_pres'][:], time_avg)\n",
    "\n",
    "        # Append the results to the respective lists\n",
    "        sigma_th.append(sigma_th_temp)\n",
    "        sigma_2.append(sigma_2_temp)\n",
    "        Theta.append(Theta_temp)\n",
    "        wtheta.append(wtheta_temp)\n",
    "        wwtheta.append(wwtheta_temp)\n",
    "        rdstr.append(rdstr_temp)\n",
    "        transport.append(transport_temp)\n",
    "\n",
    "    # Concatenate the results along the time axis\n",
    "    sigma_th = np.concatenate(sigma_th, axis=0)\n",
    "    sigma_2 = np.concatenate(sigma_2, axis=0)\n",
    "    Theta = np.concatenate(Theta, axis=0)\n",
    "    wtheta = np.concatenate(wtheta, axis=0)\n",
    "    wwtheta = np.concatenate(wwtheta, axis=0)\n",
    "    rdstr = np.concatenate(rdstr, axis=0)\n",
    "    transport = np.concatenate(transport, axis=0)\n",
    "\n",
    "    return sigma_th, sigma_2, Theta, wtheta, wwtheta, rdstr, transport"
   ]
  },
  {
   "cell_type": "code",
   "execution_count": 10,
   "id": "f1346672",
   "metadata": {},
   "outputs": [
    {
     "name": "stdout",
     "output_type": "stream",
     "text": [
      "(385,) (384,) (120,)\n"
     ]
    }
   ],
   "source": [
    "sigma_th, sigma_2, Theta, wtheta, wwtheta, rdstr, transport = make_variables(path, selected_files, time_avg)\n",
    "\n",
    "# z = np.arange(0, 384)\n",
    "# zh = np.arange(0, 385)\n",
    "# t = np.arange(0, 120)\n",
    "\n",
    "z = ds_stat.variables['z'][:]\n",
    "zh = ds_stat.variables['zh'][:]\n",
    "t = ds_stat.variables['time'][:]\n",
    "\n",
    "\n",
    "dTheta_dz = np.gradient(Theta, z, axis = 1)\n",
    "dwwtheta_dz = np.gradient(wwtheta, zh, axis = 1)\n",
    "\n",
    "print(zh.shape, z.shape, t.shape)"
   ]
  },
  {
   "cell_type": "markdown",
   "id": "f4c4eea2",
   "metadata": {},
   "source": [
    "Let's take a look at all of the variables (including gradients) that we create> We print their:\n",
    "\n",
    "Name, shape, mean, and standard deviation"
   ]
  },
  {
   "cell_type": "code",
   "execution_count": 11,
   "id": "15890a1b",
   "metadata": {},
   "outputs": [
    {
     "name": "stdout",
     "output_type": "stream",
     "text": [
      "dTheta_dz (82, 384) 0.003963647167860588 0.00465853542139092\n",
      "sigma_th (82, 384) 0.011884039967426343 0.01781884043464204\n",
      "sigma_2 (82, 385) 0.2143194520546861 0.2868845719924503\n",
      "Theta (82, 384) 303.9102511671008 3.6245027161767904\n",
      "wtheta (82, 385) 0.008187199174384964 0.021235457033364467\n",
      "wwtheta (82, 385) 0.008443124 0.019204466\n",
      "dwwtheta_dz (82, 385) 7.007907371582168e-08 0.0001217516532677598\n",
      "rdtsr (82, 385) -6.665098906347553e-06 2.3542480113465666e-05\n",
      "transport (82, 385) -1.1689012605362026e-06 2.196535488745957e-05\n"
     ]
    }
   ],
   "source": [
    "print(\"dTheta_dz\", dTheta_dz.shape, np.mean(dTheta_dz), np.std(dTheta_dz))\n",
    "print(\"sigma_th\", sigma_th.shape, np.mean(sigma_th), np.std(sigma_th))\n",
    "print(\"sigma_2\", sigma_2.shape, np.mean(sigma_2), np.std(sigma_2))\n",
    "print(\"Theta\", Theta.shape, np.mean(Theta), np.std(Theta))\n",
    "print(\"wtheta\", wtheta.shape, np.mean(wtheta), np.std(wtheta))\n",
    "print(\"wwtheta\", wwtheta.shape, np.mean(wwtheta), np.std(wwtheta))\n",
    "print(\"dwwtheta_dz\", dwwtheta_dz.shape, np.mean(dwwtheta_dz), np.std(dwwtheta_dz))\n",
    "print(\"rdtsr\", rdstr.shape, np.mean(rdstr), np.std(rdstr))\n",
    "print(\"transport\", transport.shape, np.mean(transport), np.std(transport))"
   ]
  },
  {
   "cell_type": "code",
   "execution_count": 12,
   "id": "a7349d69",
   "metadata": {},
   "outputs": [
    {
     "name": "stdout",
     "output_type": "stream",
     "text": [
      "[ 0.0000000e+00 -3.1880256e-05 -1.0963364e-04]\n",
      "-1.594012792338617e-05 -7.075694884406403e-05\n"
     ]
    }
   ],
   "source": [
    "print(wwtheta[1,0:3])\n",
    "print((wwtheta[1,0]+wwtheta[1,1])/2, (wwtheta[1,1]+wwtheta[1,2])/2)"
   ]
  },
  {
   "cell_type": "markdown",
   "id": "cbc1956f",
   "metadata": {},
   "source": [
    "Variables that have a second dimension of 385 are calculated at zh values of 0, 6, 12, and so on. Variables with 384 are staggered and calculated in between there, at values of 3, 9, 15, and so on. We reshape the 385's to be 384's by taking the average of each consecutive pair. \n",
    "\n",
    "We test if this works above and below with old and new values of `wwtheta` (just a sanity check)"
   ]
  },
  {
   "cell_type": "code",
   "execution_count": 13,
   "id": "17e1977f",
   "metadata": {},
   "outputs": [],
   "source": [
    "def reshape_variables(variable):\n",
    "    reshaped = (variable[:, :-1] + variable[:, 1:]) / 2.0\n",
    "    return reshaped"
   ]
  },
  {
   "cell_type": "code",
   "execution_count": 14,
   "id": "f926192e",
   "metadata": {},
   "outputs": [],
   "source": [
    "sigma_2 = reshape_variables(sigma_2)\n",
    "wtheta = reshape_variables(wtheta)\n",
    "wwtheta = reshape_variables(wwtheta)\n",
    "dwwtheta_dz = reshape_variables(dwwtheta_dz)\n",
    "rdstr = reshape_variables(rdstr)\n",
    "transport = reshape_variables(transport)"
   ]
  },
  {
   "cell_type": "code",
   "execution_count": 15,
   "id": "71224502",
   "metadata": {},
   "outputs": [
    {
     "name": "stdout",
     "output_type": "stream",
     "text": [
      "dTheta_dz (82, 384) 0.003963647167860588 0.00465853542139092\n",
      "sigma_th (82, 384) 0.011884039967426343 0.01781884043464204\n",
      "sigma_2 (82, 384) 0.2148775756277452 0.28702581891303003\n",
      "Theta (82, 384) 303.9102511671008 3.6245027161767904\n",
      "wtheta (82, 384) 0.008134205981178014 0.021152086231226993\n",
      "wwtheta (82, 384) 0.008465109801873929 0.019221094530878103\n",
      "dwwtheta_dz (82, 384) -6.146483502835338e-14 0.00012119911338346663\n"
     ]
    }
   ],
   "source": [
    "print(\"dTheta_dz\", dTheta_dz.shape, np.mean(dTheta_dz), np.std(dTheta_dz))\n",
    "print(\"sigma_th\", sigma_th.shape, np.mean(sigma_th), np.std(sigma_th))\n",
    "print(\"sigma_2\", sigma_2.shape, np.mean(sigma_2), np.std(sigma_2))\n",
    "print(\"Theta\", Theta.shape, np.mean(Theta), np.std(Theta))\n",
    "print(\"wtheta\", wtheta.shape, np.mean(wtheta), np.std(wtheta))\n",
    "print(\"wwtheta\", wwtheta.shape, np.mean(wwtheta), np.std(wwtheta))\n",
    "print(\"dwwtheta_dz\", dwwtheta_dz.shape, np.mean(dwwtheta_dz), np.std(dwwtheta_dz))"
   ]
  },
  {
   "cell_type": "code",
   "execution_count": 16,
   "id": "7c540d85",
   "metadata": {},
   "outputs": [
    {
     "name": "stdout",
     "output_type": "stream",
     "text": [
      "[-1.594012792338617e-05 -7.075694884406403e-05]\n"
     ]
    }
   ],
   "source": [
    "print(wwtheta[1,0:2])"
   ]
  },
  {
   "cell_type": "markdown",
   "id": "bd68b161",
   "metadata": {},
   "source": [
    "Plotting all variables at a given timestep just for a sanity check: "
   ]
  },
  {
   "cell_type": "code",
   "execution_count": 17,
   "id": "48b8ec3a",
   "metadata": {},
   "outputs": [
    {
     "data": {
      "text/plain": [
       "Text(0.5, 1.0, '(dwwtheta_dz)')"
      ]
     },
     "execution_count": 17,
     "metadata": {},
     "output_type": "execute_result"
    },
    {
     "data": {
      "image/png": "[encoded data removed]",
      "text/plain": [
       "<Figure size 1000x600 with 3 Axes>"
      ]
     },
     "metadata": {},
     "output_type": "display_data"
    },
    {
     "data": {
      "image/png": "[encoded data removed]",
      "text/plain": [
       "<Figure size 1200x600 with 4 Axes>"
      ]
     },
     "metadata": {},
     "output_type": "display_data"
    }
   ],
   "source": [
    "timeStep = 6\n",
    "\n",
    "plt.figure(figsize = (10, 6))\n",
    "\n",
    "# Plot potentialTemp\n",
    "plt.subplot(1, 3, 1)\n",
    "#plt.plot(Theta[timeStep], np.arange(0, len(Theta[timeStep,:])))\n",
    "plt.plot(Theta[timeStep], z)\n",
    "plt.title('Theta(th)')\n",
    "# plt.xlabel('Value')\n",
    "plt.ylabel('Depth')\n",
    "\n",
    "# Plot th_diff\n",
    "plt.subplot(1, 3, 2)\n",
    "# plt.plot(dTheta_dz[timeStep], np.arange(0, len(dTheta_dz[timeStep,:])))\n",
    "plt.plot(dTheta_dz[timeStep], z)\n",
    "plt.title('dTheta_dz')\n",
    "plt.xlabel('Value')\n",
    "# plt.ylabel('Depth')\n",
    "\n",
    "# Plot th_flux\n",
    "plt.subplot(1, 3, 3)\n",
    "# plt.plot(wtheta[timeStep], np.arange(0, len(wtheta[timeStep,:])))\n",
    "plt.plot(wtheta[timeStep], z)\n",
    "plt.title('wtheta (th_flux)')\n",
    "# plt.xlabel('Value')\n",
    "# plt.ylabel('Depth')\n",
    "\n",
    "\n",
    "plt.figure(figsize = (12, 6))\n",
    "\n",
    "# Plot potentialTemp\n",
    "plt.subplot(1, 4, 1)\n",
    "# plt.plot(sigma_th[timeStep], np.arange(0, len(sigma_th[timeStep,:])))\n",
    "plt.plot(sigma_th[timeStep], z)\n",
    "plt.title('theta2bar (sigma_th)')\n",
    "# plt.xlabel('Value')\n",
    "plt.ylabel('Depth')\n",
    "\n",
    "# Plot th_diff\n",
    "plt.subplot(1, 4, 2)\n",
    "# plt.plot(sigma_2[timeStep], np.arange(0, len(sigma_2[timeStep,:])))\n",
    "plt.plot(sigma_2[timeStep], z)\n",
    "plt.title('sigma_w^2 (sigma_2)')\n",
    "plt.xlabel('Value')\n",
    "# plt.ylabel('Depth')\n",
    "\n",
    "# Plot th_flux\n",
    "plt.subplot(1, 4, 3)\n",
    "# plt.plot(wwtheta[timeStep], np.arange(0, len(wwtheta[timeStep,:])))\n",
    "plt.plot(wwtheta[timeStep], z)\n",
    "plt.title('(wwtheta)')\n",
    "# plt.xlabel('Value')\n",
    "# plt.ylabel('Depth')\n",
    "\n",
    "plt.subplot(1, 4, 4)\n",
    "# plt.plot(dwwtheta_dz[timeStep], np.arange(0, len(dwwtheta_dz[timeStep,:])))\n",
    "plt.plot(dwwtheta_dz[timeStep], z)\n",
    "plt.title('(dwwtheta_dz)')\n",
    "# plt.xlabel('Value')\n",
    "# plt.ylabel('Depth')"
   ]
  },
  {
   "cell_type": "markdown",
   "id": "3a555b34-426c-46ef-821f-9e391137ac98",
   "metadata": {},
   "source": [
    "## Diagnosing constants: \n",
    "Often we use conventional constant to normalize profiles. Here are some of the typical ones used in the PBL. \n",
    "\n",
    "AS added note: This modified function calculates the constants once again for a list of different simulations. "
   ]
  },
  {
   "cell_type": "code",
   "execution_count": 18,
   "id": "9fddbe7d-ba9d-41ef-b3ca-bca28eb48541",
   "metadata": {},
   "outputs": [],
   "source": [
    "grr = 9.8\n",
    "T_0 = 300\n",
    "beta = grr/T_0\n",
    "\n",
    "def make_constants(path, items, time_avg):\n",
    "    wtheta_surface = []\n",
    "    pbl_height = []\n",
    "    wstar = []\n",
    "    theta_star = []\n",
    "    scaling = []\n",
    "    ustar = []\n",
    "\n",
    "    for item in items:\n",
    "        ds_stat = nc.Dataset(os.path.join(path, item), mode='r')\n",
    "\n",
    "        wtheta_surface_raw = ds_stat.groups['thermo']['th_flux'][:,0] \n",
    "        wtheta_surface_temp = time_average(wtheta_surface_raw, time_avg)\n",
    "\n",
    "        pbl_height_raw = ds_stat.groups['thermo'].variables['zi'][:] \n",
    "        pbl_height_temp = time_average(pbl_height_raw, time_avg)\n",
    "\n",
    "        wstar_raw = np.power( beta * (wtheta_surface_raw) * pbl_height_raw , 1/3) \n",
    "        wstar_temp = time_average(wstar_raw, time_avg)\n",
    "\n",
    "        theta_star_raw = wtheta_surface_raw / wstar_raw\n",
    "        theta_star_temp = time_average(theta_star_raw, time_avg)\n",
    "\n",
    "        scaling_raw = wstar_raw**2 * theta_star_raw / pbl_height_raw\n",
    "        scaling_temp = time_average(scaling_raw, time_avg)\n",
    "\n",
    "        ustar_temp = time_average(ds_stat.groups['default'].variables['ustar'][:], time_avg)\n",
    "\n",
    "        wtheta_surface.append(wtheta_surface_temp)\n",
    "        pbl_height.append(pbl_height_temp)\n",
    "        wstar.append(wstar_temp)\n",
    "        theta_star.append(theta_star_temp)\n",
    "        scaling.append(scaling_temp)\n",
    "        ustar.append(ustar_temp)\n",
    "\n",
    "    wtheta_surface = np.concatenate(wtheta_surface, axis=0)\n",
    "    pbl_height = np.concatenate(pbl_height, axis=0)\n",
    "    wstar = np.concatenate(wstar, axis=0)\n",
    "    theta_star = np.concatenate(theta_star, axis=0)\n",
    "    scaling = np.concatenate(scaling, axis=0)\n",
    "    ustar = np.concatenate(ustar, axis=0)\n",
    "\n",
    "    wtheta_surface = wtheta_surface[:,np.newaxis]\n",
    "    pbl_height = pbl_height[:,np.newaxis]\n",
    "    wstar = wstar[:,np.newaxis]\n",
    "    theta_star = theta_star[:,np.newaxis]\n",
    "    scaling = scaling[:,np.newaxis]\n",
    "    ustar = ustar[:,np.newaxis]\n",
    "\n",
    "    return wtheta_surface, pbl_height, wstar, theta_star, scaling, ustar"
   ]
  },
  {
   "cell_type": "code",
   "execution_count": 19,
   "id": "ba3710ed",
   "metadata": {},
   "outputs": [],
   "source": [
    "wtheta_surface, pbl_height, wstar, theta_star, scaling, ustar = make_constants(path, selected_files, time_avg)"
   ]
  },
  {
   "cell_type": "markdown",
   "id": "bffd90e7",
   "metadata": {},
   "source": [
    "Once again printing \n",
    "\n",
    "Name, shape, mean, and standard deviation\n",
    "\n",
    "of the constants (if they are time dependent). "
   ]
  },
  {
   "cell_type": "code",
   "execution_count": 20,
   "id": "c0f789ac",
   "metadata": {},
   "outputs": [
    {
     "name": "stdout",
     "output_type": "stream",
     "text": [
      "wtheta_surface (82, 1) 0.05707317073170729 0.03365853658536582\n",
      "pbl_height (82, 1) 1021.0731707317074 97.1732599582934\n",
      "wstar (82, 1) 1.1874402247535119 0.2901687297287799\n",
      "theta_star (82, 1) 0.0438071831979399 0.01769722969945113\n",
      "scaling (82, 1) 7.292094821455066e-05 5.185090852420291e-05\n",
      "ustar (82, 1) 0.4162597045374181 0.1812825546672867\n",
      "grr 9.8\n",
      "T_0 300\n",
      "beta 0.03266666666666667\n"
     ]
    }
   ],
   "source": [
    "print(\"wtheta_surface\", wtheta_surface.shape, np.mean(wtheta_surface), np.std(wtheta_surface))\n",
    "print(\"pbl_height\", pbl_height.shape, np.mean(pbl_height), np.std(pbl_height))\n",
    "print(\"wstar\", wstar.shape, np.mean(wstar), np.std(wstar))\n",
    "print(\"theta_star\", theta_star.shape, np.mean(theta_star), np.std(theta_star))\n",
    "print(\"scaling\", scaling.shape, np.mean(scaling), np.std(scaling))\n",
    "print(\"ustar\", ustar.shape, np.mean(ustar), np.std(ustar))\n",
    "print(\"grr\", grr)\n",
    "print(\"T_0\", T_0)\n",
    "print(\"beta\", beta)"
   ]
  },
  {
   "cell_type": "markdown",
   "id": "dc101d6b-7730-4c39-9297-721f7c7090dd",
   "metadata": {},
   "source": [
    "## Compute the P term as residual\n",
    "Equation 11 in the paper suggest that, assuming that the left hand side is smaller compared to terms on the right hnd side. \n",
    "\n",
    "AS added note: I compute the equation up to 384 as not all variables go up to 385. \n",
    "\n",
    "\n",
    "\n",
    "**Long description:** \n",
    "\n",
    "The equation in question is the heat flux budget in the convective boundary layer, which is written as: \n",
    "\n",
    "$$\n",
    "\\frac{\\partial \\overline{w \\theta}}{\\partial t}=0=\\underbrace{-\\sigma_w^2 \\frac{\\mathrm{d} \\Theta}{\\mathrm{d} z}}_M \\underbrace{-\\frac{\\mathrm{d} \\overline{w w \\theta}}{\\mathrm{d} z}}_T \\underbrace{-\\frac{1}{\\rho_0} \\theta \\frac{\\mathrm{d} p}{\\mathrm{~d} z}}_P \\underbrace{+\\beta \\overline{\\theta^2}}_B\n",
    "$$\n",
    "\n",
    "Production terms: Mean gradient production ($M$), and bouyancy production ($B$). Destruction terms: turbulent flux transport ($T$) and the the pressure gradient–potential temperature covariance ($P$). \n",
    "\n",
    "$P$ acts as a destruction/sink term for the heat flux $\\overline{w \\theta}$. The general form for the parametrization of $P$ is\n",
    "\n",
    "$$\n",
    "P=-\\frac{1}{\\rho_0} \\overline{\\theta \\frac{\\mathrm{d} p}{\\mathrm{~d} z}}=-C_1 \\frac{\\overline{w \\theta}}{\\tau_1} - C_2 \\beta \\overline{\\theta^2} + C_3 \\sigma_w^2 \\frac{\\mathrm{d} \\Theta}{\\mathrm{d} z}\n",
    "$$\n",
    "\n",
    "The first term $-C_1 \\frac{\\overline{w \\theta}}{\\tau_1}$ is the \"slow\" term. It is Rotta's return to isotropy part. Is inversely proportional to time scale $\\tau_1$. I think it may also be called the \"turbulence-turbulence\" interaction. The last two terms are the \"rapid\" part, with $C_2 \\beta \\overline{\\theta^2}$ being the bouyancy term, and $C_3 \\sigma_w^2 \\frac{\\mathrm{d} \\Theta}{\\mathrm{d} z}$ being the shear-turbulence term. "
   ]
  },
  {
   "cell_type": "code",
   "execution_count": 21,
   "id": "09df8ff7-e9c6-4eb0-a38b-1319081112d8",
   "metadata": {},
   "outputs": [
    {
     "data": {
      "text/plain": [
       "(82, 384)"
      ]
     },
     "execution_count": 21,
     "metadata": {},
     "output_type": "execute_result"
    }
   ],
   "source": [
    "M = (sigma_2 * dTheta_dz)\n",
    "T = dwwtheta_dz\n",
    "B = (beta * sigma_th)\n",
    "\n",
    "P = M + T - B\n",
    "P.shape"
   ]
  },
  {
   "cell_type": "code",
   "execution_count": 22,
   "id": "eacf3cc8",
   "metadata": {},
   "outputs": [
    {
     "name": "stdout",
     "output_type": "stream",
     "text": [
      "0.0003882, 0.0005821\n",
      "0.0001232, 0.0003159\n",
      "-0.0000000, 0.0001212\n",
      "-0.0002650, 0.0003853\n"
     ]
    }
   ],
   "source": [
    "print(f\"{np.mean(B):.7f}, {np.std(B):.7f}\")\n",
    "print(f\"{np.mean(M):.7f}, {np.std(M):.7f}\")\n",
    "print(f\"{np.mean(T):.7f}, {np.std(T):.7f}\")\n",
    "print(f\"{np.mean(P):.7f}, {np.std(P):.7f}\")"
   ]
  },
  {
   "cell_type": "code",
   "execution_count": 23,
   "id": "c0ae39a3",
   "metadata": {},
   "outputs": [
    {
     "data": {
      "text/plain": [
       "-74.19401168248785"
      ]
     },
     "execution_count": 23,
     "metadata": {},
     "output_type": "execute_result"
    }
   ],
   "source": [
    "max(P[6])\n",
    "min(P[6])\n",
    "\n",
    "min(P[6])/max(P[6])"
   ]
  },
  {
   "cell_type": "markdown",
   "id": "97f896e0-ada0-4cb1-95f4-efca73d5c968",
   "metadata": {},
   "source": [
    "## Comparing P term and original rotta model plot\n",
    "Lets reproduce plot 6 of the turbulece asymmetry paper to make sure we have all terms looking \"somewhat\" similar. \"somewhat\" because the rotta model may not be very accurate. "
   ]
  },
  {
   "cell_type": "code",
   "execution_count": 24,
   "id": "83af949e-2e3b-428e-beca-892ca458455a",
   "metadata": {},
   "outputs": [
    {
     "data": {
      "text/plain": [
       "Text(0, 0.5, 'Depth')"
      ]
     },
     "execution_count": 24,
     "metadata": {},
     "output_type": "execute_result"
    },
    {
     "data": {
      "image/png": "[encoded data removed]",
      "text/plain": [
       "<Figure size 1000x600 with 1 Axes>"
      ]
     },
     "metadata": {},
     "output_type": "display_data"
    }
   ],
   "source": [
    "plt.figure(figsize = (10, 6))\n",
    "plt.plot(P[timeStep] * pbl_height[timeStep] / (wstar[timeStep] * theta_star[timeStep]), z)\n",
    "plt.ylim(0,960)\n",
    "plt.title('P')\n",
    "plt.xlabel('Value')\n",
    "plt.ylabel('Depth')"
   ]
  },
  {
   "cell_type": "markdown",
   "id": "a8ad862d-9b08-4599-8a6f-11b5e1f9a38c",
   "metadata": {},
   "source": [
    "# Cutting out near surface part\n",
    "Some of the assumptions we make when computing P as a residual may not hold near the surface. Therefore, before preparing data for EQ, we remove the near-surface part of the profile, typically the top 7-10 layers"
   ]
  },
  {
   "cell_type": "code",
   "execution_count": 25,
   "id": "c40ffd7b-203a-4d11-b704-042df4192c28",
   "metadata": {},
   "outputs": [
    {
     "data": {
      "text/plain": [
       "Text(0, 0.5, 'Depth')"
      ]
     },
     "execution_count": 25,
     "metadata": {},
     "output_type": "execute_result"
    },
    {
     "data": {
      "image/png": "[encoded data removed]",
      "text/plain": [
       "<Figure size 1000x600 with 1 Axes>"
      ]
     },
     "metadata": {},
     "output_type": "display_data"
    }
   ],
   "source": [
    "P_trim = P[:, 8:155]\n",
    "P_trim.shape\n",
    "\n",
    "plt.figure(figsize = (10, 6))\n",
    "plt.plot(P_trim[timeStep], z[8:155])\n",
    "plt.title('P (surface removed)')\n",
    "plt.xlabel('Value')\n",
    "plt.ylabel('Depth')"
   ]
  },
  {
   "cell_type": "markdown",
   "id": "3474a340",
   "metadata": {},
   "source": [
    "## Comparing P to alternative method for calculating it\n",
    "\n",
    "Here we calculate P directly rather than as a residual, and compare the plots. "
   ]
  },
  {
   "cell_type": "code",
   "execution_count": 26,
   "id": "37ba7f9a",
   "metadata": {},
   "outputs": [
    {
     "data": {
      "text/plain": [
       "Text(0, 0.5, 'Depth')"
      ]
     },
     "execution_count": 26,
     "metadata": {},
     "output_type": "execute_result"
    },
    {
     "data": {
      "image/png": "[encoded data removed]",
      "text/plain": [
       "<Figure size 1400x600 with 3 Axes>"
      ]
     },
     "metadata": {},
     "output_type": "display_data"
    }
   ],
   "source": [
    "P_subtract = rdstr - transport\n",
    "\n",
    "tau1 = 600 #unsure about this one at the moment, huge number makes it look correct though\n",
    "\n",
    "P_direct = - (3 * wtheta/tau1) - (5/12 * beta * sigma_th) + (2/5 * sigma_2 * dTheta_dz)\n",
    "\n",
    "plt.figure(figsize = (14, 6))\n",
    "\n",
    "plt.subplot(1,3,1)\n",
    "plt.plot(P_subtract[timeStep] * pbl_height[timeStep] / (wstar[timeStep] * theta_star[timeStep]), z)\n",
    "plt.ylim(45,1000)\n",
    "plt.title('P (rdstr - transport)')\n",
    "plt.xlabel('Value')\n",
    "plt.ylabel('Depth')\n",
    "\n",
    "plt.subplot(1,3,2)\n",
    "plt.plot(P_direct[timeStep] * pbl_height[timeStep] / (wstar[timeStep] * theta_star[timeStep]), z)\n",
    "plt.title('P (using eq 12, tau = 600)')\n",
    "plt.ylim(45,1000)\n",
    "plt.xlabel('Value')\n",
    "plt.ylabel('Depth')\n",
    "\n",
    "plt.subplot(1,3,3)\n",
    "plt.plot(P[timeStep] * pbl_height[timeStep] / (wstar[timeStep] * theta_star[timeStep]), z)\n",
    "plt.title('P (residual)')\n",
    "plt.ylim(45,1000)\n",
    "plt.xlabel('Value')\n",
    "plt.ylabel('Depth')"
   ]
  },
  {
   "cell_type": "markdown",
   "id": "d2de8f82",
   "metadata": {},
   "source": [
    "Looking at `rdtsr` and `transport` alone is a good sanity check before we abandon their use entirely"
   ]
  },
  {
   "cell_type": "code",
   "execution_count": 27,
   "id": "028a69dd",
   "metadata": {},
   "outputs": [
    {
     "data": {
      "text/plain": [
       "Text(0, 0.5, 'Depth')"
      ]
     },
     "execution_count": 27,
     "metadata": {},
     "output_type": "execute_result"
    },
    {
     "data": {
      "image/png": "[encoded data removed]",
      "text/plain": [
       "<Figure size 1400x600 with 3 Axes>"
      ]
     },
     "metadata": {},
     "output_type": "display_data"
    }
   ],
   "source": [
    "plt.figure(figsize = (14, 6))\n",
    "\n",
    "plt.subplot(1,3,1)\n",
    "plt.plot(rdstr[timeStep] * pbl_height[timeStep] / (wstar[timeStep] * theta_star[timeStep]), z)\n",
    "# plt.ylim(45,1000)\n",
    "plt.title('rdstr alone')\n",
    "plt.xlabel('Value')\n",
    "plt.ylabel('Depth')\n",
    "\n",
    "plt.subplot(1,3,2)\n",
    "plt.plot(transport[timeStep] * pbl_height[timeStep] / (wstar[timeStep] * theta_star[timeStep]), z)\n",
    "plt.title('transport alone')\n",
    "# plt.ylim(45,1000)\n",
    "plt.xlabel('Value')\n",
    "plt.ylabel('Depth')\n",
    "\n",
    "plt.subplot(1,3,3)\n",
    "plt.plot(P[timeStep] * pbl_height[timeStep] / (wstar[timeStep] * theta_star[timeStep]), z)\n",
    "plt.title('P (residual)')\n",
    "# plt.ylim(45,1000)\n",
    "plt.xlabel('Value')\n",
    "plt.ylabel('Depth')"
   ]
  },
  {
   "cell_type": "markdown",
   "id": "0a0dd1b1",
   "metadata": {},
   "source": [
    "Let's put all 3 P's on the same plot: "
   ]
  },
  {
   "cell_type": "code",
   "execution_count": 28,
   "id": "783b3f7c",
   "metadata": {},
   "outputs": [
    {
     "data": {
      "image/png": "[encoded data removed]",
      "text/plain": [
       "<Figure size 1000x600 with 1 Axes>"
      ]
     },
     "metadata": {},
     "output_type": "display_data"
    }
   ],
   "source": [
    "plt.figure(figsize=(10, 6))\n",
    "\n",
    "# Plot P_subtract\n",
    "plt.plot(P_subtract[timeStep] * pbl_height[timeStep] / (wstar[timeStep] * theta_star[timeStep]), z, label='P (rdstr - transport)')\n",
    "\n",
    "# Plot P_direct\n",
    "plt.plot(P_direct[timeStep] * pbl_height[timeStep] / (wstar[timeStep] * theta_star[timeStep]), z, label='P (using eq 12, tau = 700)')\n",
    "\n",
    "# Plot P residual\n",
    "plt.plot(P[timeStep] * pbl_height[timeStep] / (wstar[timeStep] * theta_star[timeStep]), z, label='P (residual)')\n",
    "\n",
    "plt.ylim(45, 1000)\n",
    "plt.title('Comparison of P values')\n",
    "plt.xlabel('Value')\n",
    "plt.ylabel('Depth')\n",
    "plt.legend()\n",
    "plt.grid(True)\n",
    "\n",
    "plt.show()"
   ]
  },
  {
   "cell_type": "markdown",
   "id": "acd22b8d",
   "metadata": {},
   "source": [
    "## Equation Discovery\n",
    "\n",
    "We do this with the `PySR` package for symbolic regression. As stated by their github, this is \"a machine learning task where the goal is to find an interpretable symbolic expression that optimizes some objective.\"\n",
    "\n",
    "We import the library down here because sometimes it takes an annoyingly long number of seconds. "
   ]
  },
  {
   "cell_type": "code",
   "execution_count": 29,
   "id": "acef7d69",
   "metadata": {},
   "outputs": [
    {
     "name": "stdout",
     "output_type": "stream",
     "text": [
      "Detected IPython. Loading juliacall extension. See https://juliapy.github.io/PythonCall.jl/stable/compat/#IPython\n"
     ]
    }
   ],
   "source": [
    "import pysr\n",
    "from pysr import PySRRegressor"
   ]
  },
  {
   "cell_type": "markdown",
   "id": "f307fcb0",
   "metadata": {},
   "source": [
    "### Step 1: All moments in time, one layer\n",
    "\n",
    "Here we take a single layer, at perhaps the 60th index of z, like `z[60] = 363` across all 120 minutes of time. We will do this for all different versions of $P$. "
   ]
  },
  {
   "cell_type": "code",
   "execution_count": 30,
   "id": "811b50f3",
   "metadata": {},
   "outputs": [],
   "source": [
    "z[60]\n",
    "\n",
    "indices = np.s_[:, 60]"
   ]
  },
  {
   "cell_type": "code",
   "execution_count": 31,
   "id": "5d4d847e",
   "metadata": {},
   "outputs": [
    {
     "name": "stdout",
     "output_type": "stream",
     "text": [
      "(82,) (82,) (82, 4)\n"
     ]
    }
   ],
   "source": [
    "y0 = P[indices]\n",
    "y1 = P_direct[indices]\n",
    "# y2 = P_subtract[:,60]\n",
    "\n",
    "x0 = wtheta[indices]\n",
    "x1 = sigma_th[indices]\n",
    "x2 = sigma_2[indices]\n",
    "x3 = dTheta_dz[indices]\n",
    "\n",
    "X = np.column_stack([x0, x1, x2, x3])\n",
    "print(y0.shape, y1.shape, X.shape)#, y2.shape)"
   ]
  },
  {
   "cell_type": "markdown",
   "id": "e0e71aad",
   "metadata": {},
   "source": [
    "Setting up our model with just basic unitary operators "
   ]
  },
  {
   "cell_type": "code",
   "execution_count": 32,
   "id": "6867bba3",
   "metadata": {},
   "outputs": [],
   "source": [
    "model0 = PySRRegressor(\n",
    "    niterations=100,  # < Increase me for better results\n",
    "    binary_operators=[\"+\", \"*\", \"-\", \"/\"],\n",
    "    # unary_operators=[\n",
    "    #     \"cos\",\n",
    "    #     \"exp\",\n",
    "    #     \"sin\",\n",
    "    #     \"inv(x) = 1/x\",\n",
    "    #     \"square\",\n",
    "    #     \"cube\",\n",
    "    #     # ^ Custom operator (julia syntax)\n",
    "    # ],\n",
    "    extra_sympy_mappings={\"inv\": lambda x: 1 / x},\n",
    "    # ^ Define operator for SymPy as well\n",
    "    elementwise_loss=\"loss(prediction, target) = (prediction - target)^2\",\n",
    "    # ^ Custom loss function (julia syntax)\n",
    "    # batching = True,\n",
    "    # batch_size = 1000,\n",
    ")\n",
    "\n",
    "model1 = PySRRegressor(\n",
    "    niterations=100,  # < Increase me for better results\n",
    "    binary_operators=[\"+\", \"*\", \"-\", \"/\"],\n",
    "    # unary_operators=[\n",
    "    #     \"cos\",\n",
    "    #     \"exp\",\n",
    "    #     \"sin\",\n",
    "    #     \"inv(x) = 1/x\",\n",
    "    #     \"square\",\n",
    "    #     \"cube\",\n",
    "    #     # ^ Custom operator (julia syntax)\n",
    "    # ],\n",
    "    extra_sympy_mappings={\"inv\": lambda x: 1 / x},\n",
    "    # ^ Define operator for SymPy as well\n",
    "    elementwise_loss=\"loss(prediction, target) = (prediction - target)^2\",\n",
    "    # ^ Custom loss function (julia syntax)\n",
    "    # batching = True,\n",
    "    # batch_size = 1000,\n",
    ")\n",
    "\n",
    "# model2 = PySRRegressor(\n",
    "#     niterations=100,  # < Increase me for better results\n",
    "#     binary_operators=[\"+\", \"*\", \"-\", \"/\"],\n",
    "#     # unary_operators=[\n",
    "#     #     \"cos\",\n",
    "#     #     \"exp\",\n",
    "#     #     \"sin\",\n",
    "#     #     \"inv(x) = 1/x\",\n",
    "#     #     \"square\",\n",
    "#     #     \"cube\",\n",
    "#     #     # ^ Custom operator (julia syntax)\n",
    "#     # ],\n",
    "#     extra_sympy_mappings={\"inv\": lambda x: 1 / x},\n",
    "#     # ^ Define operator for SymPy as well\n",
    "#     elementwise_loss=\"loss(prediction, target) = (prediction - target)^2\",\n",
    "#     # ^ Custom loss function (julia syntax)\n",
    "#     # batching = True,\n",
    "#     # batch_size = 1000,\n",
    "# )"
   ]
  },
  {
   "cell_type": "code",
   "execution_count": 33,
   "id": "2fb34c53",
   "metadata": {},
   "outputs": [
    {
     "name": "stdout",
     "output_type": "stream",
     "text": [
      "Compiling Julia backend...\n"
     ]
    },
    {
     "name": "stderr",
     "output_type": "stream",
     "text": [
      "c:\\Python\\Python_3_11\\Lib\\site-packages\\pysr\\sr.py:1307: UserWarning: Note: it looks like you are running in Jupyter. The progress bar will be turned off.\n",
      "  warnings.warn(\n",
      "[ Info: Started!\n"
     ]
    },
    {
     "name": "stdout",
     "output_type": "stream",
     "text": [
      "\n",
      "Expressions evaluated per second: 1.730e+05\n",
      "Head worker occupation: 21.9%\n",
      "Progress: 434 / 1500 total iterations (28.933%)\n",
      "====================================================================================================\n",
      "Hall of Fame:\n",
      "---------------------------------------------------------------------------------------------------\n",
      "Complexity  Loss       Score     Equation\n",
      "1           4.531e-02  1.594e+01  y = -0.21303\n",
      "3           2.383e-10  7.950e+00  y = x₁ * -0.051863\n",
      "9           2.375e-10  5.338e-04  y = ((x₃ + 0.038458) * (x₃ - 1.3495)) * x₁\n",
      "---------------------------------------------------------------------------------------------------\n",
      "====================================================================================================\n",
      "Press 'q' and then <enter> to stop execution early.\n",
      "\n",
      "Expressions evaluated per second: 2.160e+05\n",
      "Head worker occupation: 19.3%\n",
      "Progress: 1069 / 1500 total iterations (71.267%)\n",
      "====================================================================================================\n",
      "Hall of Fame:\n",
      "---------------------------------------------------------------------------------------------------\n",
      "Complexity  Loss       Score     Equation\n",
      "1           1.647e-08  1.594e+01  y = -0.00017843\n",
      "3           2.383e-10  2.118e+00  y = x₁ * -0.051863\n",
      "7           2.286e-10  1.043e-02  y = (0.030177 * x₁) / (-0.52278 - x₀)\n",
      "9           2.141e-10  3.273e-02  y = (0.030177 * x₁) / (-0.52278 - (x₀ / x₂))\n",
      "13          1.976e-10  2.004e-02  y = (-0.053223 - ((x₂ * (x₂ * 0.011539)) + (x₀ * -0.24366))) *...\n",
      "                                   x₁\n",
      "---------------------------------------------------------------------------------------------------\n",
      "====================================================================================================\n",
      "Press 'q' and then <enter> to stop execution early.\n"
     ]
    },
    {
     "name": "stderr",
     "output_type": "stream",
     "text": [
      "c:\\Python\\Python_3_11\\Lib\\site-packages\\pysr\\sr.py:1307: UserWarning: Note: it looks like you are running in Jupyter. The progress bar will be turned off.\n",
      "  warnings.warn(\n",
      "[ Info: Started!\n"
     ]
    },
    {
     "name": "stdout",
     "output_type": "stream",
     "text": [
      "\n",
      "Expressions evaluated per second: 2.530e+05\n",
      "Head worker occupation: 25.2%\n",
      "Progress: 586 / 1500 total iterations (39.067%)\n",
      "====================================================================================================\n",
      "Hall of Fame:\n",
      "---------------------------------------------------------------------------------------------------\n",
      "Complexity  Loss       Score     Equation\n",
      "1           3.243e-01  1.594e+01  y = -0.56967\n",
      "3           7.211e-11  7.970e+00  y = -0.0068961 * x₀\n",
      "5           4.570e-11  2.280e-01  y = (x₀ * -0.0071058) + 9.0557e-06\n",
      "7           3.228e-11  1.739e-01  y = -0.079704 * ((x₁ - -0.080731) * x₀)\n",
      "9           3.188e-11  6.263e-03  y = -0.079704 * ((x₁ - (-0.080731 + x₃)) * x₀)\n",
      "---------------------------------------------------------------------------------------------------\n",
      "====================================================================================================\n",
      "Press 'q' and then <enter> to stop execution early.\n",
      "\n",
      "Expressions evaluated per second: 2.620e+05\n",
      "Head worker occupation: 25.5%\n",
      "Progress: 1208 / 1500 total iterations (80.533%)\n",
      "====================================================================================================\n",
      "Hall of Fame:\n",
      "---------------------------------------------------------------------------------------------------\n",
      "Complexity  Loss       Score     Equation\n",
      "1           3.243e-01  1.594e+01  y = -0.56967\n",
      "3           7.211e-11  7.970e+00  y = -0.0068961 * x₀\n",
      "5           4.570e-11  2.280e-01  y = (x₀ * -0.0071058) + 9.0557e-06\n",
      "7           3.228e-11  1.739e-01  y = -0.079704 * ((x₁ - -0.080731) * x₀)\n",
      "9           2.724e-11  8.495e-02  y = -0.079704 * (((x₁ - -0.080731) * x₀) - x₃)\n",
      "---------------------------------------------------------------------------------------------------\n",
      "====================================================================================================\n",
      "Press 'q' and then <enter> to stop execution early.\n"
     ]
    },
    {
     "data": {
      "text/html": [
       "<style>#sk-container-id-1 {color: black;}#sk-container-id-1 pre{padding: 0;}#sk-container-id-1 div.sk-toggleable {background-color: white;}#sk-container-id-1 label.sk-toggleable__label {cursor: pointer;display: block;width: 100%;margin-bottom: 0;padding: 0.3em;box-sizing: border-box;text-align: center;}#sk-container-id-1 label.sk-toggleable__label-arrow:before {content: \"▸\";float: left;margin-right: 0.25em;color: #696969;}#sk-container-id-1 label.sk-toggleable__label-arrow:hover:before {color: black;}#sk-container-id-1 div.sk-estimator:hover label.sk-toggleable__label-arrow:before {color: black;}#sk-container-id-1 div.sk-toggleable__content {max-height: 0;max-width: 0;overflow: hidden;text-align: left;background-color: #f0f8ff;}#sk-container-id-1 div.sk-toggleable__content pre {margin: 0.2em;color: black;border-radius: 0.25em;background-color: #f0f8ff;}#sk-container-id-1 input.sk-toggleable__control:checked~div.sk-toggleable__content {max-height: 200px;max-width: 100%;overflow: auto;}#sk-container-id-1 input.sk-toggleable__control:checked~label.sk-toggleable__label-arrow:before {content: \"▾\";}#sk-container-id-1 div.sk-estimator input.sk-toggleable__control:checked~label.sk-toggleable__label {background-color: #d4ebff;}#sk-container-id-1 div.sk-label input.sk-toggleable__control:checked~label.sk-toggleable__label {background-color: #d4ebff;}#sk-container-id-1 input.sk-hidden--visually {border: 0;clip: rect(1px 1px 1px 1px);clip: rect(1px, 1px, 1px, 1px);height: 1px;margin: -1px;overflow: hidden;padding: 0;position: absolute;width: 1px;}#sk-container-id-1 div.sk-estimator {font-family: monospace;background-color: #f0f8ff;border: 1px dotted black;border-radius: 0.25em;box-sizing: border-box;margin-bottom: 0.5em;}#sk-container-id-1 div.sk-estimator:hover {background-color: #d4ebff;}#sk-container-id-1 div.sk-parallel-item::after {content: \"\";width: 100%;border-bottom: 1px solid gray;flex-grow: 1;}#sk-container-id-1 div.sk-label:hover label.sk-toggleable__label {background-color: #d4ebff;}#sk-container-id-1 div.sk-serial::before {content: \"\";position: absolute;border-left: 1px solid gray;box-sizing: border-box;top: 0;bottom: 0;left: 50%;z-index: 0;}#sk-container-id-1 div.sk-serial {display: flex;flex-direction: column;align-items: center;background-color: white;padding-right: 0.2em;padding-left: 0.2em;position: relative;}#sk-container-id-1 div.sk-item {position: relative;z-index: 1;}#sk-container-id-1 div.sk-parallel {display: flex;align-items: stretch;justify-content: center;background-color: white;position: relative;}#sk-container-id-1 div.sk-item::before, #sk-container-id-1 div.sk-parallel-item::before {content: \"\";position: absolute;border-left: 1px solid gray;box-sizing: border-box;top: 0;bottom: 0;left: 50%;z-index: -1;}#sk-container-id-1 div.sk-parallel-item {display: flex;flex-direction: column;z-index: 1;position: relative;background-color: white;}#sk-container-id-1 div.sk-parallel-item:first-child::after {align-self: flex-end;width: 50%;}#sk-container-id-1 div.sk-parallel-item:last-child::after {align-self: flex-start;width: 50%;}#sk-container-id-1 div.sk-parallel-item:only-child::after {width: 0;}#sk-container-id-1 div.sk-dashed-wrapped {border: 1px dashed gray;margin: 0 0.4em 0.5em 0.4em;box-sizing: border-box;padding-bottom: 0.4em;background-color: white;}#sk-container-id-1 div.sk-label label {font-family: monospace;font-weight: bold;display: inline-block;line-height: 1.2em;}#sk-container-id-1 div.sk-label-container {text-align: center;}#sk-container-id-1 div.sk-container {/* jupyter's `normalize.less` sets `[hidden] { display: none; }` but bootstrap.min.css set `[hidden] { display: none !important; }` so we also need the `!important` here to be able to override the default hidden behavior on the sphinx rendered scikit-learn.org. See: https://github.com/scikit-learn/scikit-learn/issues/21755 */display: inline-block !important;position: relative;}#sk-container-id-1 div.sk-text-repr-fallback {display: none;}</style><div id=\"sk-container-id-1\" class=\"sk-top-container\"><div class=\"sk-text-repr-fallback\"><pre>PySRRegressor.equations_ = [\n",
       "\t   pick     score                                       equation  \\\n",
       "\t0        0.000000                                             x3   \n",
       "\t1        3.256798                             -0.0068960544 * x0   \n",
       "\t2        0.228025             (x0 * -0.0071057957) + 9.055664e-6   \n",
       "\t3  &gt;&gt;&gt;&gt;  0.173867         -0.079704404 * ((x1 - -0.080731) * x0)   \n",
       "\t4        0.084951  -0.079704404 * (((x1 - -0.080731) * x0) - x3)   \n",
       "\t\n",
       "\t           loss  complexity  \n",
       "\t0  4.862138e-08           1  \n",
       "\t1  7.211210e-11           3  \n",
       "\t2  4.570332e-11           5  \n",
       "\t3  3.227964e-11           7  \n",
       "\t4  2.723584e-11           9  \n",
       "]</pre><b>In a Jupyter environment, please rerun this cell to show the HTML representation or trust the notebook. <br />On GitHub, the HTML representation is unable to render, please try loading this page with nbviewer.org.</b></div><div class=\"sk-container\" hidden><div class=\"sk-item\"><div class=\"sk-estimator sk-toggleable\"><input class=\"sk-toggleable__control sk-hidden--visually\" id=\"sk-estimator-id-1\" type=\"checkbox\" checked><label for=\"sk-estimator-id-1\" class=\"sk-toggleable__label sk-toggleable__label-arrow\">PySRRegressor</label><div class=\"sk-toggleable__content\"><pre>PySRRegressor.equations_ = [\n",
       "\t   pick     score                                       equation  \\\n",
       "\t0        0.000000                                             x3   \n",
       "\t1        3.256798                             -0.0068960544 * x0   \n",
       "\t2        0.228025             (x0 * -0.0071057957) + 9.055664e-6   \n",
       "\t3  &gt;&gt;&gt;&gt;  0.173867         -0.079704404 * ((x1 - -0.080731) * x0)   \n",
       "\t4        0.084951  -0.079704404 * (((x1 - -0.080731) * x0) - x3)   \n",
       "\t\n",
       "\t           loss  complexity  \n",
       "\t0  4.862138e-08           1  \n",
       "\t1  7.211210e-11           3  \n",
       "\t2  4.570332e-11           5  \n",
       "\t3  3.227964e-11           7  \n",
       "\t4  2.723584e-11           9  \n",
       "]</pre></div></div></div></div></div>"
      ],
      "text/plain": [
       "PySRRegressor.equations_ = [\n",
       "\t   pick     score                                       equation  \\\n",
       "\t0        0.000000                                             x3   \n",
       "\t1        3.256798                             -0.0068960544 * x0   \n",
       "\t2        0.228025             (x0 * -0.0071057957) + 9.055664e-6   \n",
       "\t3  >>>>  0.173867         -0.079704404 * ((x1 - -0.080731) * x0)   \n",
       "\t4        0.084951  -0.079704404 * (((x1 - -0.080731) * x0) - x3)   \n",
       "\t\n",
       "\t           loss  complexity  \n",
       "\t0  4.862138e-08           1  \n",
       "\t1  7.211210e-11           3  \n",
       "\t2  4.570332e-11           5  \n",
       "\t3  3.227964e-11           7  \n",
       "\t4  2.723584e-11           9  \n",
       "]"
      ]
     },
     "execution_count": 33,
     "metadata": {},
     "output_type": "execute_result"
    }
   ],
   "source": [
    "model0.fit(X,y0)\n",
    "model1.fit(X,y1)\n",
    "# model2.fit(X,y2)"
   ]
  },
  {
   "cell_type": "markdown",
   "id": "2016beaa",
   "metadata": {},
   "source": [
    "Looking at last equation:"
   ]
  },
  {
   "cell_type": "code",
   "execution_count": 34,
   "id": "080dfbf5",
   "metadata": {},
   "outputs": [
    {
     "name": "stdout",
     "output_type": "stream",
     "text": [
      "(5, 6)\n"
     ]
    },
    {
     "data": {
      "text/html": [
       "<div>\n",
       "<style scoped>\n",
       "    .dataframe tbody tr th:only-of-type {\n",
       "        vertical-align: middle;\n",
       "    }\n",
       "\n",
       "    .dataframe tbody tr th {\n",
       "        vertical-align: top;\n",
       "    }\n",
       "\n",
       "    .dataframe thead th {\n",
       "        text-align: right;\n",
       "    }\n",
       "</style>\n",
       "<table border=\"1\" class=\"dataframe\">\n",
       "  <thead>\n",
       "    <tr style=\"text-align: right;\">\n",
       "      <th></th>\n",
       "      <th>complexity</th>\n",
       "      <th>loss</th>\n",
       "      <th>score</th>\n",
       "      <th>equation</th>\n",
       "      <th>sympy_format</th>\n",
       "      <th>lambda_format</th>\n",
       "    </tr>\n",
       "  </thead>\n",
       "  <tbody>\n",
       "    <tr>\n",
       "      <th>0</th>\n",
       "      <td>1</td>\n",
       "      <td>1.647373e-08</td>\n",
       "      <td>0.000000</td>\n",
       "      <td>-0.00017843349</td>\n",
       "      <td>-0.000178433490000000</td>\n",
       "      <td>PySRFunction(X=&gt;-0.000178433490000000)</td>\n",
       "    </tr>\n",
       "    <tr>\n",
       "      <th>1</th>\n",
       "      <td>3</td>\n",
       "      <td>2.383006e-10</td>\n",
       "      <td>2.117995</td>\n",
       "      <td>x1 * -0.051863074</td>\n",
       "      <td>-0.051863074*x1</td>\n",
       "      <td>PySRFunction(X=&gt;-0.051863074*x1)</td>\n",
       "    </tr>\n",
       "    <tr>\n",
       "      <th>2</th>\n",
       "      <td>7</td>\n",
       "      <td>2.285608e-10</td>\n",
       "      <td>0.010433</td>\n",
       "      <td>(0.030177182 * x1) / (-0.52277976 - x0)</td>\n",
       "      <td>0.030177182*x1/(-x0 - 0.52277976)</td>\n",
       "      <td>PySRFunction(X=&gt;0.030177182*x1/(-x0 - 0.522779...</td>\n",
       "    </tr>\n",
       "    <tr>\n",
       "      <th>3</th>\n",
       "      <td>9</td>\n",
       "      <td>2.140799e-10</td>\n",
       "      <td>0.032726</td>\n",
       "      <td>(0.030177182 * x1) / (-0.52277976 - (x0 / x2))</td>\n",
       "      <td>0.030177182*x1/(-x0/x2 - 0.52277976)</td>\n",
       "      <td>PySRFunction(X=&gt;0.030177182*x1/(-x0/x2 - 0.522...</td>\n",
       "    </tr>\n",
       "    <tr>\n",
       "      <th>4</th>\n",
       "      <td>13</td>\n",
       "      <td>1.975872e-10</td>\n",
       "      <td>0.020042</td>\n",
       "      <td>(-0.05322335 - ((x2 * (x2 * 0.011538917)) + (x...</td>\n",
       "      <td>x1*(0.24366476*x0 - 0.011538917*x2**2 - 0.0532...</td>\n",
       "      <td>PySRFunction(X=&gt;x1*(0.24366476*x0 - 0.01153891...</td>\n",
       "    </tr>\n",
       "  </tbody>\n",
       "</table>\n",
       "</div>"
      ],
      "text/plain": [
       "   complexity          loss     score  \\\n",
       "0           1  1.647373e-08  0.000000   \n",
       "1           3  2.383006e-10  2.117995   \n",
       "2           7  2.285608e-10  0.010433   \n",
       "3           9  2.140799e-10  0.032726   \n",
       "4          13  1.975872e-10  0.020042   \n",
       "\n",
       "                                            equation  \\\n",
       "0                                     -0.00017843349   \n",
       "1                                  x1 * -0.051863074   \n",
       "2            (0.030177182 * x1) / (-0.52277976 - x0)   \n",
       "3     (0.030177182 * x1) / (-0.52277976 - (x0 / x2))   \n",
       "4  (-0.05322335 - ((x2 * (x2 * 0.011538917)) + (x...   \n",
       "\n",
       "                                        sympy_format  \\\n",
       "0                              -0.000178433490000000   \n",
       "1                                    -0.051863074*x1   \n",
       "2                  0.030177182*x1/(-x0 - 0.52277976)   \n",
       "3               0.030177182*x1/(-x0/x2 - 0.52277976)   \n",
       "4  x1*(0.24366476*x0 - 0.011538917*x2**2 - 0.0532...   \n",
       "\n",
       "                                       lambda_format  \n",
       "0             PySRFunction(X=>-0.000178433490000000)  \n",
       "1                   PySRFunction(X=>-0.051863074*x1)  \n",
       "2  PySRFunction(X=>0.030177182*x1/(-x0 - 0.522779...  \n",
       "3  PySRFunction(X=>0.030177182*x1/(-x0/x2 - 0.522...  \n",
       "4  PySRFunction(X=>x1*(0.24366476*x0 - 0.01153891...  "
      ]
     },
     "metadata": {},
     "output_type": "display_data"
    },
    {
     "name": "stdout",
     "output_type": "stream",
     "text": [
      "PySRRegressor.equations_ = [\n",
      "\t   pick     score                                           equation  \\\n",
      "\t0        0.000000                                     -0.00017843349   \n",
      "\t1  >>>>  2.117995                                  x1 * -0.051863074   \n",
      "\t2        0.010433            (0.030177182 * x1) / (-0.52277976 - x0)   \n",
      "\t3        0.032726     (0.030177182 * x1) / (-0.52277976 - (x0 / x2))   \n",
      "\t4        0.020042  (-0.05322335 - ((x2 * (x2 * 0.011538917)) + (x...   \n",
      "\t\n",
      "\t           loss  complexity  \n",
      "\t0  1.647373e-08           1  \n",
      "\t1  2.383006e-10           3  \n",
      "\t2  2.285608e-10           7  \n",
      "\t3  2.140799e-10           9  \n",
      "\t4  1.975872e-10          13  \n",
      "] Final Equation: \n"
     ]
    },
    {
     "data": {
      "text/latex": [
       "$\\displaystyle x_{1} \\cdot \\left(0.24366476 x_{0} - 0.011538917 x_{2}^{2} - 0.05322335\\right)$"
      ],
      "text/plain": [
       "x1*(0.24366476*x0 - 0.011538917*x2**2 - 0.05322335)"
      ]
     },
     "metadata": {},
     "output_type": "display_data"
    },
    {
     "name": "stdout",
     "output_type": "stream",
     "text": [
      "(5, 6)\n"
     ]
    },
    {
     "data": {
      "text/html": [
       "<div>\n",
       "<style scoped>\n",
       "    .dataframe tbody tr th:only-of-type {\n",
       "        vertical-align: middle;\n",
       "    }\n",
       "\n",
       "    .dataframe tbody tr th {\n",
       "        vertical-align: top;\n",
       "    }\n",
       "\n",
       "    .dataframe thead th {\n",
       "        text-align: right;\n",
       "    }\n",
       "</style>\n",
       "<table border=\"1\" class=\"dataframe\">\n",
       "  <thead>\n",
       "    <tr style=\"text-align: right;\">\n",
       "      <th></th>\n",
       "      <th>complexity</th>\n",
       "      <th>loss</th>\n",
       "      <th>score</th>\n",
       "      <th>equation</th>\n",
       "      <th>sympy_format</th>\n",
       "      <th>lambda_format</th>\n",
       "    </tr>\n",
       "  </thead>\n",
       "  <tbody>\n",
       "    <tr>\n",
       "      <th>0</th>\n",
       "      <td>1</td>\n",
       "      <td>4.862138e-08</td>\n",
       "      <td>0.000000</td>\n",
       "      <td>x3</td>\n",
       "      <td>x3</td>\n",
       "      <td>PySRFunction(X=&gt;x3)</td>\n",
       "    </tr>\n",
       "    <tr>\n",
       "      <th>1</th>\n",
       "      <td>3</td>\n",
       "      <td>7.211210e-11</td>\n",
       "      <td>3.256798</td>\n",
       "      <td>-0.0068960544 * x0</td>\n",
       "      <td>-0.0068960544*x0</td>\n",
       "      <td>PySRFunction(X=&gt;-0.0068960544*x0)</td>\n",
       "    </tr>\n",
       "    <tr>\n",
       "      <th>2</th>\n",
       "      <td>5</td>\n",
       "      <td>4.570332e-11</td>\n",
       "      <td>0.228025</td>\n",
       "      <td>(x0 * -0.0071057957) + 9.055664e-6</td>\n",
       "      <td>9.055664e-6 - 0.0071057957*x0</td>\n",
       "      <td>PySRFunction(X=&gt;9.055664e-6 - 0.0071057957*x0)</td>\n",
       "    </tr>\n",
       "    <tr>\n",
       "      <th>3</th>\n",
       "      <td>7</td>\n",
       "      <td>3.227964e-11</td>\n",
       "      <td>0.173867</td>\n",
       "      <td>-0.079704404 * ((x1 - -0.080731) * x0)</td>\n",
       "      <td>-0.079704404*x0*(x1 + 0.080731)</td>\n",
       "      <td>PySRFunction(X=&gt;-0.079704404*x0*(x1 + 0.080731))</td>\n",
       "    </tr>\n",
       "    <tr>\n",
       "      <th>4</th>\n",
       "      <td>9</td>\n",
       "      <td>2.723584e-11</td>\n",
       "      <td>0.084951</td>\n",
       "      <td>-0.079704404 * (((x1 - -0.080731) * x0) - x3)</td>\n",
       "      <td>-0.079704404*x0*(x1 + 0.080731) + 0.079704404*x3</td>\n",
       "      <td>PySRFunction(X=&gt;-0.079704404*x0*(x1 + 0.080731...</td>\n",
       "    </tr>\n",
       "  </tbody>\n",
       "</table>\n",
       "</div>"
      ],
      "text/plain": [
       "   complexity          loss     score  \\\n",
       "0           1  4.862138e-08  0.000000   \n",
       "1           3  7.211210e-11  3.256798   \n",
       "2           5  4.570332e-11  0.228025   \n",
       "3           7  3.227964e-11  0.173867   \n",
       "4           9  2.723584e-11  0.084951   \n",
       "\n",
       "                                        equation  \\\n",
       "0                                             x3   \n",
       "1                             -0.0068960544 * x0   \n",
       "2             (x0 * -0.0071057957) + 9.055664e-6   \n",
       "3         -0.079704404 * ((x1 - -0.080731) * x0)   \n",
       "4  -0.079704404 * (((x1 - -0.080731) * x0) - x3)   \n",
       "\n",
       "                                       sympy_format  \\\n",
       "0                                                x3   \n",
       "1                                  -0.0068960544*x0   \n",
       "2                     9.055664e-6 - 0.0071057957*x0   \n",
       "3                   -0.079704404*x0*(x1 + 0.080731)   \n",
       "4  -0.079704404*x0*(x1 + 0.080731) + 0.079704404*x3   \n",
       "\n",
       "                                       lambda_format  \n",
       "0                                PySRFunction(X=>x3)  \n",
       "1                  PySRFunction(X=>-0.0068960544*x0)  \n",
       "2     PySRFunction(X=>9.055664e-6 - 0.0071057957*x0)  \n",
       "3   PySRFunction(X=>-0.079704404*x0*(x1 + 0.080731))  \n",
       "4  PySRFunction(X=>-0.079704404*x0*(x1 + 0.080731...  "
      ]
     },
     "metadata": {},
     "output_type": "display_data"
    },
    {
     "name": "stdout",
     "output_type": "stream",
     "text": [
      "PySRRegressor.equations_ = [\n",
      "\t   pick     score                                       equation  \\\n",
      "\t0        0.000000                                             x3   \n",
      "\t1        3.256798                             -0.0068960544 * x0   \n",
      "\t2        0.228025             (x0 * -0.0071057957) + 9.055664e-6   \n",
      "\t3  >>>>  0.173867         -0.079704404 * ((x1 - -0.080731) * x0)   \n",
      "\t4        0.084951  -0.079704404 * (((x1 - -0.080731) * x0) - x3)   \n",
      "\t\n",
      "\t           loss  complexity  \n",
      "\t0  4.862138e-08           1  \n",
      "\t1  7.211210e-11           3  \n",
      "\t2  4.570332e-11           5  \n",
      "\t3  3.227964e-11           7  \n",
      "\t4  2.723584e-11           9  \n",
      "] Final Equation: \n"
     ]
    },
    {
     "data": {
      "text/latex": [
       "$\\displaystyle - 0.079704404 x_{0} \\left(x_{1} + 0.080731\\right) + 0.079704404 x_{3}$"
      ],
      "text/plain": [
       "-0.079704404*x0*(x1 + 0.080731) + 0.079704404*x3"
      ]
     },
     "metadata": {},
     "output_type": "display_data"
    }
   ],
   "source": [
    "for model in (model0, model1): #, model2):\n",
    "    equations = model.equations_\n",
    "    print(equations.shape)\n",
    "    display(equations)\n",
    "    print(model, \"Final Equation: \")\n",
    "    display(equations.iloc[-1, 4])"
   ]
  },
  {
   "cell_type": "markdown",
   "id": "bbb743a6",
   "metadata": {},
   "source": [
    "### Step 2: One moment in time, a few layers\n",
    "\n",
    "This is probably too simple, but we'll see. Just going to take z from 60 to 80, at one point in time, and see what we get. "
   ]
  },
  {
   "cell_type": "code",
   "execution_count": 35,
   "id": "bd026f60",
   "metadata": {},
   "outputs": [],
   "source": [
    "wtheta[14,60:80]\n",
    "\n",
    "indices = np.s_[14, 60:80]"
   ]
  },
  {
   "cell_type": "code",
   "execution_count": 36,
   "id": "ff0a5d63",
   "metadata": {},
   "outputs": [
    {
     "name": "stdout",
     "output_type": "stream",
     "text": [
      "(20,) (20,) (20, 4)\n"
     ]
    }
   ],
   "source": [
    "y0 = P[indices]\n",
    "y1 = P_direct[indices]\n",
    "# y2 = P_subtract[:,60]\n",
    "\n",
    "x0 = wtheta[indices]\n",
    "x1 = sigma_th[indices]\n",
    "x2 = sigma_2[indices]\n",
    "x3 = dTheta_dz[indices]\n",
    "\n",
    "X = np.column_stack([x0, x1, x2, x3])\n",
    "print(y0.shape, y1.shape, X.shape)#, y2.shape)"
   ]
  },
  {
   "cell_type": "code",
   "execution_count": 37,
   "id": "86694566",
   "metadata": {},
   "outputs": [],
   "source": [
    "model3 = PySRRegressor(\n",
    "    niterations=100,  # < Increase me for better results\n",
    "    binary_operators=[\"+\", \"*\", \"-\", \"/\"],\n",
    "    # unary_operators=[\n",
    "    #     \"cos\",\n",
    "    #     \"exp\",\n",
    "    #     \"sin\",\n",
    "    #     \"inv(x) = 1/x\",\n",
    "    #     \"square\",\n",
    "    #     \"cube\",\n",
    "    #     # ^ Custom operator (julia syntax)\n",
    "    # ],\n",
    "    extra_sympy_mappings={\"inv\": lambda x: 1 / x},\n",
    "    # ^ Define operator for SymPy as well\n",
    "    elementwise_loss=\"loss(prediction, target) = (prediction - target)^2\",\n",
    "    # ^ Custom loss function (julia syntax)\n",
    "    # batching = True,\n",
    "    # batch_size = 1000,\n",
    ")\n",
    "\n",
    "model4 = PySRRegressor(\n",
    "    niterations=100,  # < Increase me for better results\n",
    "    binary_operators=[\"+\", \"*\", \"-\", \"/\"],\n",
    "    # unary_operators=[\n",
    "    #     \"cos\",\n",
    "    #     \"exp\",\n",
    "    #     \"sin\",\n",
    "    #     \"inv(x) = 1/x\",\n",
    "    #     \"square\",\n",
    "    #     \"cube\",\n",
    "    #     # ^ Custom operator (julia syntax)\n",
    "    # ],\n",
    "    extra_sympy_mappings={\"inv\": lambda x: 1 / x},\n",
    "    # ^ Define operator for SymPy as well\n",
    "    elementwise_loss=\"loss(prediction, target) = (prediction - target)^2\",\n",
    "    # ^ Custom loss function (julia syntax)\n",
    "    # batching = True,\n",
    "    # batch_size = 1000,\n",
    ")"
   ]
  },
  {
   "cell_type": "code",
   "execution_count": 38,
   "id": "2351b228",
   "metadata": {},
   "outputs": [
    {
     "name": "stderr",
     "output_type": "stream",
     "text": [
      "c:\\Python\\Python_3_11\\Lib\\site-packages\\pysr\\sr.py:1307: UserWarning: Note: it looks like you are running in Jupyter. The progress bar will be turned off.\n",
      "  warnings.warn(\n",
      "[ Info: Started!\n"
     ]
    },
    {
     "name": "stdout",
     "output_type": "stream",
     "text": [
      "\n",
      "Expressions evaluated per second: 2.360e+05\n",
      "Head worker occupation: 25.5%\n",
      "Progress: 527 / 1500 total iterations (35.133%)\n",
      "====================================================================================================\n",
      "Hall of Fame:\n",
      "---------------------------------------------------------------------------------------------------\n",
      "Complexity  Loss       Score     Equation\n",
      "3           4.235e-12  5.314e+00  y = -0.0066036 * x₀\n",
      "5           1.175e-12  6.412e-01  y = (x₁ * -0.0041839) / 0.060021\n",
      "---------------------------------------------------------------------------------------------------\n",
      "====================================================================================================\n",
      "Press 'q' and then <enter> to stop execution early.\n",
      "\n",
      "Expressions evaluated per second: 2.230e+05\n",
      "Head worker occupation: 27.2%\n",
      "Progress: 1050 / 1500 total iterations (70.000%)\n",
      "====================================================================================================\n",
      "Hall of Fame:\n",
      "---------------------------------------------------------------------------------------------------\n",
      "Complexity  Loss       Score     Equation\n",
      "3           4.235e-12  5.314e+00  y = -0.0066036 * x₀\n",
      "5           1.175e-12  6.412e-01  y = (x₁ * -0.0041839) / 0.060021\n",
      "---------------------------------------------------------------------------------------------------\n",
      "====================================================================================================\n",
      "Press 'q' and then <enter> to stop execution early.\n"
     ]
    },
    {
     "name": "stderr",
     "output_type": "stream",
     "text": [
      "c:\\Python\\Python_3_11\\Lib\\site-packages\\pysr\\sr.py:1307: UserWarning: Note: it looks like you are running in Jupyter. The progress bar will be turned off.\n",
      "  warnings.warn(\n",
      "[ Info: Started!\n"
     ]
    },
    {
     "name": "stdout",
     "output_type": "stream",
     "text": [
      "\n",
      "Expressions evaluated per second: 2.060e+05\n",
      "Head worker occupation: 31.9%\n",
      "Progress: 499 / 1500 total iterations (33.267%)\n",
      "====================================================================================================\n",
      "Hall of Fame:\n",
      "---------------------------------------------------------------------------------------------------\n",
      "Complexity  Loss       Score     Equation\n",
      "3           4.301e-12  5.314e+00  y = x₃ + -5.6565e-05\n",
      "5           2.594e-12  2.528e-01  y = x₀ * (x₃ - 0.0062958)\n",
      "---------------------------------------------------------------------------------------------------\n",
      "====================================================================================================\n",
      "Press 'q' and then <enter> to stop execution early.\n",
      "\n",
      "Expressions evaluated per second: 2.380e+05\n",
      "Head worker occupation: 27.8%\n",
      "Progress: 1091 / 1500 total iterations (72.733%)\n",
      "====================================================================================================\n",
      "Hall of Fame:\n",
      "---------------------------------------------------------------------------------------------------\n",
      "Complexity  Loss       Score     Equation\n",
      "1           1.340e-10  1.594e+01  y = -5.6565e-05\n",
      "3           4.301e-12  1.719e+00  y = x₃ + -5.6565e-05\n",
      "5           2.594e-12  2.528e-01  y = x₀ * (x₃ - 0.0062958)\n",
      "---------------------------------------------------------------------------------------------------\n",
      "====================================================================================================\n",
      "Press 'q' and then <enter> to stop execution early.\n"
     ]
    },
    {
     "data": {
      "text/html": [
       "<style>#sk-container-id-2 {color: black;}#sk-container-id-2 pre{padding: 0;}#sk-container-id-2 div.sk-toggleable {background-color: white;}#sk-container-id-2 label.sk-toggleable__label {cursor: pointer;display: block;width: 100%;margin-bottom: 0;padding: 0.3em;box-sizing: border-box;text-align: center;}#sk-container-id-2 label.sk-toggleable__label-arrow:before {content: \"▸\";float: left;margin-right: 0.25em;color: #696969;}#sk-container-id-2 label.sk-toggleable__label-arrow:hover:before {color: black;}#sk-container-id-2 div.sk-estimator:hover label.sk-toggleable__label-arrow:before {color: black;}#sk-container-id-2 div.sk-toggleable__content {max-height: 0;max-width: 0;overflow: hidden;text-align: left;background-color: #f0f8ff;}#sk-container-id-2 div.sk-toggleable__content pre {margin: 0.2em;color: black;border-radius: 0.25em;background-color: #f0f8ff;}#sk-container-id-2 input.sk-toggleable__control:checked~div.sk-toggleable__content {max-height: 200px;max-width: 100%;overflow: auto;}#sk-container-id-2 input.sk-toggleable__control:checked~label.sk-toggleable__label-arrow:before {content: \"▾\";}#sk-container-id-2 div.sk-estimator input.sk-toggleable__control:checked~label.sk-toggleable__label {background-color: #d4ebff;}#sk-container-id-2 div.sk-label input.sk-toggleable__control:checked~label.sk-toggleable__label {background-color: #d4ebff;}#sk-container-id-2 input.sk-hidden--visually {border: 0;clip: rect(1px 1px 1px 1px);clip: rect(1px, 1px, 1px, 1px);height: 1px;margin: -1px;overflow: hidden;padding: 0;position: absolute;width: 1px;}#sk-container-id-2 div.sk-estimator {font-family: monospace;background-color: #f0f8ff;border: 1px dotted black;border-radius: 0.25em;box-sizing: border-box;margin-bottom: 0.5em;}#sk-container-id-2 div.sk-estimator:hover {background-color: #d4ebff;}#sk-container-id-2 div.sk-parallel-item::after {content: \"\";width: 100%;border-bottom: 1px solid gray;flex-grow: 1;}#sk-container-id-2 div.sk-label:hover label.sk-toggleable__label {background-color: #d4ebff;}#sk-container-id-2 div.sk-serial::before {content: \"\";position: absolute;border-left: 1px solid gray;box-sizing: border-box;top: 0;bottom: 0;left: 50%;z-index: 0;}#sk-container-id-2 div.sk-serial {display: flex;flex-direction: column;align-items: center;background-color: white;padding-right: 0.2em;padding-left: 0.2em;position: relative;}#sk-container-id-2 div.sk-item {position: relative;z-index: 1;}#sk-container-id-2 div.sk-parallel {display: flex;align-items: stretch;justify-content: center;background-color: white;position: relative;}#sk-container-id-2 div.sk-item::before, #sk-container-id-2 div.sk-parallel-item::before {content: \"\";position: absolute;border-left: 1px solid gray;box-sizing: border-box;top: 0;bottom: 0;left: 50%;z-index: -1;}#sk-container-id-2 div.sk-parallel-item {display: flex;flex-direction: column;z-index: 1;position: relative;background-color: white;}#sk-container-id-2 div.sk-parallel-item:first-child::after {align-self: flex-end;width: 50%;}#sk-container-id-2 div.sk-parallel-item:last-child::after {align-self: flex-start;width: 50%;}#sk-container-id-2 div.sk-parallel-item:only-child::after {width: 0;}#sk-container-id-2 div.sk-dashed-wrapped {border: 1px dashed gray;margin: 0 0.4em 0.5em 0.4em;box-sizing: border-box;padding-bottom: 0.4em;background-color: white;}#sk-container-id-2 div.sk-label label {font-family: monospace;font-weight: bold;display: inline-block;line-height: 1.2em;}#sk-container-id-2 div.sk-label-container {text-align: center;}#sk-container-id-2 div.sk-container {/* jupyter's `normalize.less` sets `[hidden] { display: none; }` but bootstrap.min.css set `[hidden] { display: none !important; }` so we also need the `!important` here to be able to override the default hidden behavior on the sphinx rendered scikit-learn.org. See: https://github.com/scikit-learn/scikit-learn/issues/21755 */display: inline-block !important;position: relative;}#sk-container-id-2 div.sk-text-repr-fallback {display: none;}</style><div id=\"sk-container-id-2\" class=\"sk-top-container\"><div class=\"sk-text-repr-fallback\"><pre>PySRRegressor.equations_ = [\n",
       "\t   pick     score                  equation          loss  complexity\n",
       "\t0        0.000000              -5.656507e-5  1.339558e-10           1\n",
       "\t1        1.719374         x3 + -5.656507e-5  4.300632e-12           3\n",
       "\t2  &gt;&gt;&gt;&gt;  0.252765  x0 * (x3 - 0.0062958207)  2.594079e-12           5\n",
       "]</pre><b>In a Jupyter environment, please rerun this cell to show the HTML representation or trust the notebook. <br />On GitHub, the HTML representation is unable to render, please try loading this page with nbviewer.org.</b></div><div class=\"sk-container\" hidden><div class=\"sk-item\"><div class=\"sk-estimator sk-toggleable\"><input class=\"sk-toggleable__control sk-hidden--visually\" id=\"sk-estimator-id-2\" type=\"checkbox\" checked><label for=\"sk-estimator-id-2\" class=\"sk-toggleable__label sk-toggleable__label-arrow\">PySRRegressor</label><div class=\"sk-toggleable__content\"><pre>PySRRegressor.equations_ = [\n",
       "\t   pick     score                  equation          loss  complexity\n",
       "\t0        0.000000              -5.656507e-5  1.339558e-10           1\n",
       "\t1        1.719374         x3 + -5.656507e-5  4.300632e-12           3\n",
       "\t2  &gt;&gt;&gt;&gt;  0.252765  x0 * (x3 - 0.0062958207)  2.594079e-12           5\n",
       "]</pre></div></div></div></div></div>"
      ],
      "text/plain": [
       "PySRRegressor.equations_ = [\n",
       "\t   pick     score                  equation          loss  complexity\n",
       "\t0        0.000000              -5.656507e-5  1.339558e-10           1\n",
       "\t1        1.719374         x3 + -5.656507e-5  4.300632e-12           3\n",
       "\t2  >>>>  0.252765  x0 * (x3 - 0.0062958207)  2.594079e-12           5\n",
       "]"
      ]
     },
     "execution_count": 38,
     "metadata": {},
     "output_type": "execute_result"
    }
   ],
   "source": [
    "model3.fit(X,y0)\n",
    "model4.fit(X,y1)"
   ]
  },
  {
   "cell_type": "code",
   "execution_count": 39,
   "id": "d0995ba2",
   "metadata": {},
   "outputs": [
    {
     "name": "stdout",
     "output_type": "stream",
     "text": [
      "(3, 6)\n"
     ]
    },
    {
     "data": {
      "text/html": [
       "<div>\n",
       "<style scoped>\n",
       "    .dataframe tbody tr th:only-of-type {\n",
       "        vertical-align: middle;\n",
       "    }\n",
       "\n",
       "    .dataframe tbody tr th {\n",
       "        vertical-align: top;\n",
       "    }\n",
       "\n",
       "    .dataframe thead th {\n",
       "        text-align: right;\n",
       "    }\n",
       "</style>\n",
       "<table border=\"1\" class=\"dataframe\">\n",
       "  <thead>\n",
       "    <tr style=\"text-align: right;\">\n",
       "      <th></th>\n",
       "      <th>complexity</th>\n",
       "      <th>loss</th>\n",
       "      <th>score</th>\n",
       "      <th>equation</th>\n",
       "      <th>sympy_format</th>\n",
       "      <th>lambda_format</th>\n",
       "    </tr>\n",
       "  </thead>\n",
       "  <tbody>\n",
       "    <tr>\n",
       "      <th>0</th>\n",
       "      <td>1</td>\n",
       "      <td>7.169808e-11</td>\n",
       "      <td>0.000000</td>\n",
       "      <td>-5.995414e-5</td>\n",
       "      <td>-5.99541400000000e-5</td>\n",
       "      <td>PySRFunction(X=&gt;-0.0000599541400000000)</td>\n",
       "    </tr>\n",
       "    <tr>\n",
       "      <th>1</th>\n",
       "      <td>3</td>\n",
       "      <td>4.234620e-12</td>\n",
       "      <td>1.414585</td>\n",
       "      <td>-0.006603587 * x0</td>\n",
       "      <td>-0.006603587*x0</td>\n",
       "      <td>PySRFunction(X=&gt;-0.006603587*x0)</td>\n",
       "    </tr>\n",
       "    <tr>\n",
       "      <th>2</th>\n",
       "      <td>5</td>\n",
       "      <td>1.174590e-12</td>\n",
       "      <td>0.641187</td>\n",
       "      <td>(x1 * -0.004183919) / 0.060021367</td>\n",
       "      <td>-0.0697071594520665*x1</td>\n",
       "      <td>PySRFunction(X=&gt;-0.0697071594520665*x1)</td>\n",
       "    </tr>\n",
       "  </tbody>\n",
       "</table>\n",
       "</div>"
      ],
      "text/plain": [
       "   complexity          loss     score                           equation  \\\n",
       "0           1  7.169808e-11  0.000000                       -5.995414e-5   \n",
       "1           3  4.234620e-12  1.414585                  -0.006603587 * x0   \n",
       "2           5  1.174590e-12  0.641187  (x1 * -0.004183919) / 0.060021367   \n",
       "\n",
       "             sympy_format                            lambda_format  \n",
       "0    -5.99541400000000e-5  PySRFunction(X=>-0.0000599541400000000)  \n",
       "1         -0.006603587*x0         PySRFunction(X=>-0.006603587*x0)  \n",
       "2  -0.0697071594520665*x1  PySRFunction(X=>-0.0697071594520665*x1)  "
      ]
     },
     "metadata": {},
     "output_type": "display_data"
    },
    {
     "name": "stdout",
     "output_type": "stream",
     "text": [
      "PySRRegressor.equations_ = [\n",
      "\t   pick     score                           equation          loss  complexity\n",
      "\t0        0.000000                       -5.995414e-5  7.169808e-11           1\n",
      "\t1        1.414585                  -0.006603587 * x0  4.234620e-12           3\n",
      "\t2  >>>>  0.641187  (x1 * -0.004183919) / 0.060021367  1.174590e-12           5\n",
      "] Final Equation: \n"
     ]
    },
    {
     "data": {
      "text/latex": [
       "$\\displaystyle - 0.0697071594520665 x_{1}$"
      ],
      "text/plain": [
       "-0.0697071594520665*x1"
      ]
     },
     "metadata": {},
     "output_type": "display_data"
    },
    {
     "name": "stdout",
     "output_type": "stream",
     "text": [
      "(3, 6)\n"
     ]
    },
    {
     "data": {
      "text/html": [
       "<div>\n",
       "<style scoped>\n",
       "    .dataframe tbody tr th:only-of-type {\n",
       "        vertical-align: middle;\n",
       "    }\n",
       "\n",
       "    .dataframe tbody tr th {\n",
       "        vertical-align: top;\n",
       "    }\n",
       "\n",
       "    .dataframe thead th {\n",
       "        text-align: right;\n",
       "    }\n",
       "</style>\n",
       "<table border=\"1\" class=\"dataframe\">\n",
       "  <thead>\n",
       "    <tr style=\"text-align: right;\">\n",
       "      <th></th>\n",
       "      <th>complexity</th>\n",
       "      <th>loss</th>\n",
       "      <th>score</th>\n",
       "      <th>equation</th>\n",
       "      <th>sympy_format</th>\n",
       "      <th>lambda_format</th>\n",
       "    </tr>\n",
       "  </thead>\n",
       "  <tbody>\n",
       "    <tr>\n",
       "      <th>0</th>\n",
       "      <td>1</td>\n",
       "      <td>1.339558e-10</td>\n",
       "      <td>0.000000</td>\n",
       "      <td>-5.656507e-5</td>\n",
       "      <td>-5.65650700000000e-5</td>\n",
       "      <td>PySRFunction(X=&gt;-0.0000565650700000000)</td>\n",
       "    </tr>\n",
       "    <tr>\n",
       "      <th>1</th>\n",
       "      <td>3</td>\n",
       "      <td>4.300632e-12</td>\n",
       "      <td>1.719374</td>\n",
       "      <td>x3 + -5.656507e-5</td>\n",
       "      <td>x3 - 5.656507e-5</td>\n",
       "      <td>PySRFunction(X=&gt;x3 - 5.656507e-5)</td>\n",
       "    </tr>\n",
       "    <tr>\n",
       "      <th>2</th>\n",
       "      <td>5</td>\n",
       "      <td>2.594079e-12</td>\n",
       "      <td>0.252765</td>\n",
       "      <td>x0 * (x3 - 0.0062958207)</td>\n",
       "      <td>x0*(x3 - 0.0062958207)</td>\n",
       "      <td>PySRFunction(X=&gt;x0*(x3 - 0.0062958207))</td>\n",
       "    </tr>\n",
       "  </tbody>\n",
       "</table>\n",
       "</div>"
      ],
      "text/plain": [
       "   complexity          loss     score                  equation  \\\n",
       "0           1  1.339558e-10  0.000000              -5.656507e-5   \n",
       "1           3  4.300632e-12  1.719374         x3 + -5.656507e-5   \n",
       "2           5  2.594079e-12  0.252765  x0 * (x3 - 0.0062958207)   \n",
       "\n",
       "             sympy_format                            lambda_format  \n",
       "0    -5.65650700000000e-5  PySRFunction(X=>-0.0000565650700000000)  \n",
       "1        x3 - 5.656507e-5        PySRFunction(X=>x3 - 5.656507e-5)  \n",
       "2  x0*(x3 - 0.0062958207)  PySRFunction(X=>x0*(x3 - 0.0062958207))  "
      ]
     },
     "metadata": {},
     "output_type": "display_data"
    },
    {
     "name": "stdout",
     "output_type": "stream",
     "text": [
      "PySRRegressor.equations_ = [\n",
      "\t   pick     score                  equation          loss  complexity\n",
      "\t0        0.000000              -5.656507e-5  1.339558e-10           1\n",
      "\t1        1.719374         x3 + -5.656507e-5  4.300632e-12           3\n",
      "\t2  >>>>  0.252765  x0 * (x3 - 0.0062958207)  2.594079e-12           5\n",
      "] Final Equation: \n"
     ]
    },
    {
     "data": {
      "text/latex": [
       "$\\displaystyle x_{0} \\left(x_{3} - 0.0062958207\\right)$"
      ],
      "text/plain": [
       "x0*(x3 - 0.0062958207)"
      ]
     },
     "metadata": {},
     "output_type": "display_data"
    }
   ],
   "source": [
    "for model in (model3, model4):\n",
    "    equations = model.equations_\n",
    "    print(equations.shape)\n",
    "    display(equations)\n",
    "    print(model, \"Final Equation: \")\n",
    "    display(equations.iloc[-1, 4])"
   ]
  },
  {
   "cell_type": "markdown",
   "id": "c7ab4670",
   "metadata": {},
   "source": [
    "### Step 3: All moments in time, a few layers\n",
    "\n",
    "This is my current best bet. Might have to start using batching here. I think in the others we have too little data. Will take heights 60 to 80 and all instances in time"
   ]
  },
  {
   "cell_type": "code",
   "execution_count": 40,
   "id": "389ffbbb",
   "metadata": {},
   "outputs": [
    {
     "name": "stdout",
     "output_type": "stream",
     "text": [
      "(82, 20) (1640,)\n"
     ]
    }
   ],
   "source": [
    "print(dTheta_dz[:, 60:80].shape, dTheta_dz[:, 60:80].ravel().shape)\n",
    "\n",
    "indices = np.s_[:, 60:80]"
   ]
  },
  {
   "cell_type": "code",
   "execution_count": 41,
   "id": "99eabd58",
   "metadata": {},
   "outputs": [
    {
     "name": "stdout",
     "output_type": "stream",
     "text": [
      "(1640,) (1640,) (1640, 4)\n"
     ]
    }
   ],
   "source": [
    "y0 = P[indices].ravel()\n",
    "y1 = P_direct[indices].ravel()\n",
    "# y2 = P_subtract[:,60]\n",
    "\n",
    "x0 = wtheta[indices].ravel()\n",
    "x1 = sigma_th[indices].ravel()\n",
    "x2 = sigma_2[indices].ravel()\n",
    "x3 = dTheta_dz[indices].ravel()\n",
    "\n",
    "\n",
    "\n",
    "X = np.column_stack([x0, x1, x2, x3])\n",
    "print(y0.shape, y1.shape, X.shape)#, y2.shape)"
   ]
  },
  {
   "cell_type": "code",
   "execution_count": 42,
   "id": "b9370e87",
   "metadata": {},
   "outputs": [],
   "source": [
    "model5 = PySRRegressor(\n",
    "    niterations=100,  # < Increase me for better results\n",
    "    binary_operators=[\"+\", \"*\", \"-\", \"/\"],\n",
    "    # unary_operators=[\n",
    "    #     \"cos\",\n",
    "    #     \"exp\",\n",
    "    #     \"sin\",\n",
    "    #     \"inv(x) = 1/x\",\n",
    "    #     \"square\",\n",
    "    #     \"cube\",\n",
    "    #     # ^ Custom operator (julia syntax)\n",
    "    # ],\n",
    "    extra_sympy_mappings={\"inv\": lambda x: 1 / x},\n",
    "    # ^ Define operator for SymPy as well\n",
    "    elementwise_loss=\"loss(prediction, target) = (prediction - target)^2\",\n",
    "    # ^ Custom loss function (julia syntax)\n",
    "    # batching = True,\n",
    "    # batch_size = 1000,\n",
    ")\n",
    "\n",
    "model6 = PySRRegressor(\n",
    "    niterations=100,  # < Increase me for better results\n",
    "    binary_operators=[\"+\", \"*\", \"-\", \"/\"],\n",
    "    # unary_operators=[\n",
    "    #     \"cos\",\n",
    "    #     \"exp\",\n",
    "    #     \"sin\",\n",
    "    #     \"inv(x) = 1/x\",\n",
    "    #     \"square\",\n",
    "    #     \"cube\",\n",
    "    #     # ^ Custom operator (julia syntax)\n",
    "    # ],\n",
    "    extra_sympy_mappings={\"inv\": lambda x: 1 / x},\n",
    "    # ^ Define operator for SymPy as well\n",
    "    elementwise_loss=\"loss(prediction, target) = (prediction - target)^2\",\n",
    "    # ^ Custom loss function (julia syntax)\n",
    "    # batching = True,\n",
    "    # batch_size = 1000,\n",
    ")"
   ]
  },
  {
   "cell_type": "code",
   "execution_count": 43,
   "id": "cab3591b",
   "metadata": {},
   "outputs": [
    {
     "name": "stderr",
     "output_type": "stream",
     "text": [
      "c:\\Python\\Python_3_11\\Lib\\site-packages\\pysr\\sr.py:1307: UserWarning: Note: it looks like you are running in Jupyter. The progress bar will be turned off.\n",
      "  warnings.warn(\n",
      "[ Info: Started!\n"
     ]
    },
    {
     "name": "stdout",
     "output_type": "stream",
     "text": [
      "\n",
      "Expressions evaluated per second: 6.730e+04\n",
      "Head worker occupation: 16.9%\n",
      "Progress: 157 / 1500 total iterations (10.467%)\n",
      "====================================================================================================\n",
      "Hall of Fame:\n",
      "---------------------------------------------------------------------------------------------------\n",
      "Complexity  Loss       Score     Equation\n",
      "1           3.331e-08  1.594e+01  y = x₃\n",
      "3           2.314e-10  2.485e+00  y = -0.053293 * x₁\n",
      "5           2.314e-10  4.023e-06  y = (-0.81447 - -0.76117) * x₁\n",
      "9           2.314e-10  3.992e-05  y = (x₁ * ((-0.11363 + -0.9913) - x₃)) * 0.048249\n",
      "15          2.307e-10  4.948e-04  y = (x₁ * ((-0.11363 + -0.9913) - (x₁ * ((-0.11363 + -0.9913) ...\n",
      "                                  - x₃)))) * 0.048249\n",
      "---------------------------------------------------------------------------------------------------\n",
      "====================================================================================================\n",
      "Press 'q' and then <enter> to stop execution early.\n",
      "\n",
      "Expressions evaluated per second: 6.880e+04\n",
      "Head worker occupation: 18.4%\n",
      "Progress: 325 / 1500 total iterations (21.667%)\n",
      "====================================================================================================\n",
      "Hall of Fame:\n",
      "---------------------------------------------------------------------------------------------------\n",
      "Complexity  Loss       Score     Equation\n",
      "1           3.331e-08  1.594e+01  y = x₃\n",
      "3           2.314e-10  2.485e+00  y = -0.053293 * x₁\n",
      "5           2.314e-10  4.023e-06  y = (-0.81447 - -0.76117) * x₁\n",
      "9           2.314e-10  3.992e-05  y = (x₁ * ((-0.11363 + -0.9913) - x₃)) * 0.048249\n",
      "13          2.025e-10  3.338e-02  y = (x₃ + (-0.31759 + (x₀ / x₂))) * (x₁ * (0.2007 + x₃))\n",
      "---------------------------------------------------------------------------------------------------\n",
      "====================================================================================================\n",
      "Press 'q' and then <enter> to stop execution early.\n",
      "\n",
      "Expressions evaluated per second: 8.060e+04\n",
      "Head worker occupation: 20.4%\n",
      "Progress: 575 / 1500 total iterations (38.333%)\n",
      "====================================================================================================\n",
      "Hall of Fame:\n",
      "---------------------------------------------------------------------------------------------------\n",
      "Complexity  Loss       Score     Equation\n",
      "1           1.259e-08  1.594e+01  y = -0.00014948\n",
      "3           2.314e-10  1.998e+00  y = -0.053293 * x₁\n",
      "5           2.314e-10  4.023e-06  y = (-0.81447 - -0.76117) * x₁\n",
      "9           2.314e-10  3.992e-05  y = (x₁ * ((-0.11363 + -0.9913) - x₃)) * 0.048249\n",
      "13          2.025e-10  3.338e-02  y = (x₃ + (-0.31759 + (x₀ / x₂))) * (x₁ * (0.2007 + x₃))\n",
      "17          1.928e-10  1.226e-02  y = (x₁ + ((-0.31759 + (-0.34729 * x₃)) + (x₀ / x₂))) * (x₁ * ...\n",
      "                                  (0.2007 + x₃))\n",
      "---------------------------------------------------------------------------------------------------\n",
      "====================================================================================================\n",
      "Press 'q' and then <enter> to stop execution early.\n",
      "\n",
      "Expressions evaluated per second: 9.080e+04\n",
      "Head worker occupation: 21.8%\n",
      "Progress: 852 / 1500 total iterations (56.800%)\n",
      "====================================================================================================\n",
      "Hall of Fame:\n",
      "---------------------------------------------------------------------------------------------------\n",
      "Complexity  Loss       Score     Equation\n",
      "1           1.259e-08  1.594e+01  y = -0.00014948\n",
      "3           2.314e-10  1.998e+00  y = -0.053293 * x₁\n",
      "5           2.314e-10  4.023e-06  y = (-0.81447 - -0.76117) * x₁\n",
      "9           2.314e-10  3.992e-05  y = (x₁ * ((-0.11363 + -0.9913) - x₃)) * 0.048249\n",
      "13          2.025e-10  3.338e-02  y = (x₃ + (-0.31759 + (x₀ / x₂))) * (x₁ * (0.2007 + x₃))\n",
      "17          1.928e-10  1.226e-02  y = (x₁ + ((-0.31759 + (-0.34729 * x₃)) + (x₀ / x₂))) * (x₁ * ...\n",
      "                                  (0.2007 + x₃))\n",
      "---------------------------------------------------------------------------------------------------\n",
      "====================================================================================================\n",
      "Press 'q' and then <enter> to stop execution early.\n",
      "\n",
      "Expressions evaluated per second: 9.380e+04\n",
      "Head worker occupation: 22.7%\n",
      "Progress: 1077 / 1500 total iterations (71.800%)\n",
      "====================================================================================================\n",
      "Hall of Fame:\n",
      "---------------------------------------------------------------------------------------------------\n",
      "Complexity  Loss       Score     Equation\n",
      "1           1.259e-08  1.594e+01  y = -0.00014948\n",
      "3           2.314e-10  1.998e+00  y = -0.053293 * x₁\n",
      "5           2.314e-10  4.023e-06  y = (-0.81447 - -0.76117) * x₁\n",
      "9           2.314e-10  3.992e-05  y = (x₁ * ((-0.11363 + -0.9913) - x₃)) * 0.048249\n",
      "13          2.025e-10  3.338e-02  y = (x₃ + (-0.31759 + (x₀ / x₂))) * (x₁ * (0.2007 + x₃))\n",
      "17          1.928e-10  1.226e-02  y = (x₁ + ((-0.31759 + (-0.34729 * x₃)) + (x₀ / x₂))) * (x₁ * ...\n",
      "                                  (0.2007 + x₃))\n",
      "---------------------------------------------------------------------------------------------------\n",
      "====================================================================================================\n",
      "Press 'q' and then <enter> to stop execution early.\n",
      "\n",
      "Expressions evaluated per second: 1.070e+05\n",
      "Head worker occupation: 24.9%\n",
      "Progress: 1335 / 1500 total iterations (89.000%)\n",
      "====================================================================================================\n",
      "Hall of Fame:\n",
      "---------------------------------------------------------------------------------------------------\n",
      "Complexity  Loss       Score     Equation\n",
      "1           1.259e-08  1.594e+01  y = -0.00014948\n",
      "3           2.314e-10  1.998e+00  y = -0.053293 * x₁\n",
      "5           2.314e-10  4.023e-06  y = (-0.81447 - -0.76117) * x₁\n",
      "9           2.025e-10  3.340e-02  y = (-0.31759 + (x₀ / x₂)) * (x₁ * 0.2007)\n",
      "11          2.024e-10  2.129e-04  y = (-0.31759 + (x₀ / x₂)) * (x₁ * (0.2007 + x₃))\n",
      "17          1.928e-10  8.117e-03  y = (x₁ + ((-0.31759 + (-0.34729 * x₃)) + (x₀ / x₂))) * (x₁ * ...\n",
      "                                  (0.2007 + x₃))\n",
      "---------------------------------------------------------------------------------------------------\n",
      "====================================================================================================\n",
      "Press 'q' and then <enter> to stop execution early.\n"
     ]
    },
    {
     "name": "stderr",
     "output_type": "stream",
     "text": [
      "c:\\Python\\Python_3_11\\Lib\\site-packages\\pysr\\sr.py:1307: UserWarning: Note: it looks like you are running in Jupyter. The progress bar will be turned off.\n",
      "  warnings.warn(\n",
      "[ Info: Started!\n"
     ]
    },
    {
     "name": "stdout",
     "output_type": "stream",
     "text": [
      "\n",
      "Expressions evaluated per second: 7.610e+04\n",
      "Head worker occupation: 30.1%\n",
      "Progress: 190 / 1500 total iterations (12.667%)\n",
      "====================================================================================================\n",
      "Hall of Fame:\n",
      "---------------------------------------------------------------------------------------------------\n",
      "Complexity  Loss       Score     Equation\n",
      "3           7.328e-11  5.314e+00  y = x₀ * -0.0066515\n",
      "5           6.293e-11  7.615e-02  y = (-0.0066515 + x₃) * x₀\n",
      "---------------------------------------------------------------------------------------------------\n",
      "====================================================================================================\n",
      "Press 'q' and then <enter> to stop execution early.\n",
      "\n",
      "Expressions evaluated per second: 8.030e+04\n",
      "Head worker occupation: 31.8%\n",
      "Progress: 373 / 1500 total iterations (24.867%)\n",
      "====================================================================================================\n",
      "Hall of Fame:\n",
      "---------------------------------------------------------------------------------------------------\n",
      "Complexity  Loss       Score     Equation\n",
      "3           7.328e-11  5.314e+00  y = x₀ * -0.0066515\n",
      "5           6.293e-11  7.615e-02  y = (-0.0066515 + x₃) * x₀\n",
      "7           3.553e-11  2.858e-01  y = (x₀ - -0.29568) * (-0.01954 * x₀)\n",
      "---------------------------------------------------------------------------------------------------\n",
      "====================================================================================================\n",
      "Press 'q' and then <enter> to stop execution early.\n",
      "\n",
      "Expressions evaluated per second: 7.720e+04\n",
      "Head worker occupation: 33.7%\n",
      "Progress: 540 / 1500 total iterations (36.000%)\n",
      "====================================================================================================\n",
      "Hall of Fame:\n",
      "---------------------------------------------------------------------------------------------------\n",
      "Complexity  Loss       Score     Equation\n",
      "1           4.001e-08  1.594e+01  y = x₃\n",
      "3           7.328e-11  3.151e+00  y = x₀ * -0.0066515\n",
      "5           6.293e-11  7.615e-02  y = (-0.0066515 + x₃) * x₀\n",
      "7           3.553e-11  2.858e-01  y = (x₀ - -0.29568) * (-0.01954 * x₀)\n",
      "---------------------------------------------------------------------------------------------------\n",
      "====================================================================================================\n",
      "Press 'q' and then <enter> to stop execution early.\n",
      "\n",
      "Expressions evaluated per second: 7.790e+04\n",
      "Head worker occupation: 33.2%\n",
      "Progress: 718 / 1500 total iterations (47.867%)\n",
      "====================================================================================================\n",
      "Hall of Fame:\n",
      "---------------------------------------------------------------------------------------------------\n",
      "Complexity  Loss       Score     Equation\n",
      "1           1.594e-08  1.594e+01  y = -0.00016305\n",
      "3           7.328e-11  2.691e+00  y = x₀ * -0.0066515\n",
      "5           6.293e-11  7.615e-02  y = (-0.0066515 + x₃) * x₀\n",
      "7           3.553e-11  2.858e-01  y = (x₀ - -0.29568) * (-0.01954 * x₀)\n",
      "---------------------------------------------------------------------------------------------------\n",
      "====================================================================================================\n",
      "Press 'q' and then <enter> to stop execution early.\n",
      "\n",
      "Expressions evaluated per second: 8.230e+04\n",
      "Head worker occupation: 32.8%\n",
      "Progress: 947 / 1500 total iterations (63.133%)\n",
      "====================================================================================================\n",
      "Hall of Fame:\n",
      "---------------------------------------------------------------------------------------------------\n",
      "Complexity  Loss       Score     Equation\n",
      "1           1.594e-08  1.594e+01  y = -0.00016305\n",
      "3           7.328e-11  2.691e+00  y = x₀ * -0.0066515\n",
      "5           6.293e-11  7.615e-02  y = (-0.0066515 + x₃) * x₀\n",
      "7           3.553e-11  2.858e-01  y = (x₀ - -0.29568) * (-0.01954 * x₀)\n",
      "---------------------------------------------------------------------------------------------------\n",
      "====================================================================================================\n",
      "Press 'q' and then <enter> to stop execution early.\n",
      "\n",
      "Expressions evaluated per second: 8.730e+04\n",
      "Head worker occupation: 32.1%\n",
      "Progress: 1164 / 1500 total iterations (77.600%)\n",
      "====================================================================================================\n",
      "Hall of Fame:\n",
      "---------------------------------------------------------------------------------------------------\n",
      "Complexity  Loss       Score     Equation\n",
      "1           1.594e-08  1.594e+01  y = -0.00016305\n",
      "3           7.328e-11  2.691e+00  y = x₀ * -0.0066515\n",
      "5           6.293e-11  7.615e-02  y = (-0.0066515 + x₃) * x₀\n",
      "7           3.553e-11  2.858e-01  y = (x₀ - -0.29568) * (-0.01954 * x₀)\n",
      "---------------------------------------------------------------------------------------------------\n",
      "====================================================================================================\n",
      "Press 'q' and then <enter> to stop execution early.\n",
      "\n",
      "Expressions evaluated per second: 9.080e+04\n",
      "Head worker occupation: 31.4%\n",
      "Progress: 1385 / 1500 total iterations (92.333%)\n",
      "====================================================================================================\n",
      "Hall of Fame:\n",
      "---------------------------------------------------------------------------------------------------\n",
      "Complexity  Loss       Score     Equation\n",
      "1           1.594e-08  1.594e+01  y = -0.00016305\n",
      "3           7.328e-11  2.691e+00  y = x₀ * -0.0066515\n",
      "5           6.293e-11  7.615e-02  y = (-0.0066515 + x₃) * x₀\n",
      "7           3.553e-11  2.858e-01  y = (x₀ - -0.29568) * (-0.01954 * x₀)\n",
      "---------------------------------------------------------------------------------------------------\n",
      "====================================================================================================\n",
      "Press 'q' and then <enter> to stop execution early.\n"
     ]
    },
    {
     "data": {
      "text/html": [
       "<style>#sk-container-id-3 {color: black;}#sk-container-id-3 pre{padding: 0;}#sk-container-id-3 div.sk-toggleable {background-color: white;}#sk-container-id-3 label.sk-toggleable__label {cursor: pointer;display: block;width: 100%;margin-bottom: 0;padding: 0.3em;box-sizing: border-box;text-align: center;}#sk-container-id-3 label.sk-toggleable__label-arrow:before {content: \"▸\";float: left;margin-right: 0.25em;color: #696969;}#sk-container-id-3 label.sk-toggleable__label-arrow:hover:before {color: black;}#sk-container-id-3 div.sk-estimator:hover label.sk-toggleable__label-arrow:before {color: black;}#sk-container-id-3 div.sk-toggleable__content {max-height: 0;max-width: 0;overflow: hidden;text-align: left;background-color: #f0f8ff;}#sk-container-id-3 div.sk-toggleable__content pre {margin: 0.2em;color: black;border-radius: 0.25em;background-color: #f0f8ff;}#sk-container-id-3 input.sk-toggleable__control:checked~div.sk-toggleable__content {max-height: 200px;max-width: 100%;overflow: auto;}#sk-container-id-3 input.sk-toggleable__control:checked~label.sk-toggleable__label-arrow:before {content: \"▾\";}#sk-container-id-3 div.sk-estimator input.sk-toggleable__control:checked~label.sk-toggleable__label {background-color: #d4ebff;}#sk-container-id-3 div.sk-label input.sk-toggleable__control:checked~label.sk-toggleable__label {background-color: #d4ebff;}#sk-container-id-3 input.sk-hidden--visually {border: 0;clip: rect(1px 1px 1px 1px);clip: rect(1px, 1px, 1px, 1px);height: 1px;margin: -1px;overflow: hidden;padding: 0;position: absolute;width: 1px;}#sk-container-id-3 div.sk-estimator {font-family: monospace;background-color: #f0f8ff;border: 1px dotted black;border-radius: 0.25em;box-sizing: border-box;margin-bottom: 0.5em;}#sk-container-id-3 div.sk-estimator:hover {background-color: #d4ebff;}#sk-container-id-3 div.sk-parallel-item::after {content: \"\";width: 100%;border-bottom: 1px solid gray;flex-grow: 1;}#sk-container-id-3 div.sk-label:hover label.sk-toggleable__label {background-color: #d4ebff;}#sk-container-id-3 div.sk-serial::before {content: \"\";position: absolute;border-left: 1px solid gray;box-sizing: border-box;top: 0;bottom: 0;left: 50%;z-index: 0;}#sk-container-id-3 div.sk-serial {display: flex;flex-direction: column;align-items: center;background-color: white;padding-right: 0.2em;padding-left: 0.2em;position: relative;}#sk-container-id-3 div.sk-item {position: relative;z-index: 1;}#sk-container-id-3 div.sk-parallel {display: flex;align-items: stretch;justify-content: center;background-color: white;position: relative;}#sk-container-id-3 div.sk-item::before, #sk-container-id-3 div.sk-parallel-item::before {content: \"\";position: absolute;border-left: 1px solid gray;box-sizing: border-box;top: 0;bottom: 0;left: 50%;z-index: -1;}#sk-container-id-3 div.sk-parallel-item {display: flex;flex-direction: column;z-index: 1;position: relative;background-color: white;}#sk-container-id-3 div.sk-parallel-item:first-child::after {align-self: flex-end;width: 50%;}#sk-container-id-3 div.sk-parallel-item:last-child::after {align-self: flex-start;width: 50%;}#sk-container-id-3 div.sk-parallel-item:only-child::after {width: 0;}#sk-container-id-3 div.sk-dashed-wrapped {border: 1px dashed gray;margin: 0 0.4em 0.5em 0.4em;box-sizing: border-box;padding-bottom: 0.4em;background-color: white;}#sk-container-id-3 div.sk-label label {font-family: monospace;font-weight: bold;display: inline-block;line-height: 1.2em;}#sk-container-id-3 div.sk-label-container {text-align: center;}#sk-container-id-3 div.sk-container {/* jupyter's `normalize.less` sets `[hidden] { display: none; }` but bootstrap.min.css set `[hidden] { display: none !important; }` so we also need the `!important` here to be able to override the default hidden behavior on the sphinx rendered scikit-learn.org. See: https://github.com/scikit-learn/scikit-learn/issues/21755 */display: inline-block !important;position: relative;}#sk-container-id-3 div.sk-text-repr-fallback {display: none;}</style><div id=\"sk-container-id-3\" class=\"sk-top-container\"><div class=\"sk-text-repr-fallback\"><pre>PySRRegressor.equations_ = [\n",
       "\t   pick     score                                       equation  \\\n",
       "\t0        0.000000                                  -0.0001630499   \n",
       "\t1        2.691260                              x0 * -0.006651545   \n",
       "\t2        0.076150                       (-0.006651545 + x3) * x0   \n",
       "\t3  &gt;&gt;&gt;&gt;  0.285765       (x0 - -0.29567993) * (-0.019539606 * x0)   \n",
       "\t4        0.161969  x0 * (((x1 - 0.15871401) * x1) - 0.005879295)   \n",
       "\t\n",
       "\t           loss  complexity  \n",
       "\t0  1.594433e-08           1  \n",
       "\t1  7.328364e-11           3  \n",
       "\t2  6.293089e-11           5  \n",
       "\t3  3.553463e-11           7  \n",
       "\t4  2.570203e-11           9  \n",
       "]</pre><b>In a Jupyter environment, please rerun this cell to show the HTML representation or trust the notebook. <br />On GitHub, the HTML representation is unable to render, please try loading this page with nbviewer.org.</b></div><div class=\"sk-container\" hidden><div class=\"sk-item\"><div class=\"sk-estimator sk-toggleable\"><input class=\"sk-toggleable__control sk-hidden--visually\" id=\"sk-estimator-id-3\" type=\"checkbox\" checked><label for=\"sk-estimator-id-3\" class=\"sk-toggleable__label sk-toggleable__label-arrow\">PySRRegressor</label><div class=\"sk-toggleable__content\"><pre>PySRRegressor.equations_ = [\n",
       "\t   pick     score                                       equation  \\\n",
       "\t0        0.000000                                  -0.0001630499   \n",
       "\t1        2.691260                              x0 * -0.006651545   \n",
       "\t2        0.076150                       (-0.006651545 + x3) * x0   \n",
       "\t3  &gt;&gt;&gt;&gt;  0.285765       (x0 - -0.29567993) * (-0.019539606 * x0)   \n",
       "\t4        0.161969  x0 * (((x1 - 0.15871401) * x1) - 0.005879295)   \n",
       "\t\n",
       "\t           loss  complexity  \n",
       "\t0  1.594433e-08           1  \n",
       "\t1  7.328364e-11           3  \n",
       "\t2  6.293089e-11           5  \n",
       "\t3  3.553463e-11           7  \n",
       "\t4  2.570203e-11           9  \n",
       "]</pre></div></div></div></div></div>"
      ],
      "text/plain": [
       "PySRRegressor.equations_ = [\n",
       "\t   pick     score                                       equation  \\\n",
       "\t0        0.000000                                  -0.0001630499   \n",
       "\t1        2.691260                              x0 * -0.006651545   \n",
       "\t2        0.076150                       (-0.006651545 + x3) * x0   \n",
       "\t3  >>>>  0.285765       (x0 - -0.29567993) * (-0.019539606 * x0)   \n",
       "\t4        0.161969  x0 * (((x1 - 0.15871401) * x1) - 0.005879295)   \n",
       "\t\n",
       "\t           loss  complexity  \n",
       "\t0  1.594433e-08           1  \n",
       "\t1  7.328364e-11           3  \n",
       "\t2  6.293089e-11           5  \n",
       "\t3  3.553463e-11           7  \n",
       "\t4  2.570203e-11           9  \n",
       "]"
      ]
     },
     "execution_count": 43,
     "metadata": {},
     "output_type": "execute_result"
    }
   ],
   "source": [
    "model5.fit(X,y0)\n",
    "model6.fit(X,y1)"
   ]
  },
  {
   "cell_type": "code",
   "execution_count": 44,
   "id": "75da76c7",
   "metadata": {},
   "outputs": [
    {
     "name": "stdout",
     "output_type": "stream",
     "text": [
      "(6, 6)\n"
     ]
    },
    {
     "data": {
      "text/html": [
       "<div>\n",
       "<style scoped>\n",
       "    .dataframe tbody tr th:only-of-type {\n",
       "        vertical-align: middle;\n",
       "    }\n",
       "\n",
       "    .dataframe tbody tr th {\n",
       "        vertical-align: top;\n",
       "    }\n",
       "\n",
       "    .dataframe thead th {\n",
       "        text-align: right;\n",
       "    }\n",
       "</style>\n",
       "<table border=\"1\" class=\"dataframe\">\n",
       "  <thead>\n",
       "    <tr style=\"text-align: right;\">\n",
       "      <th></th>\n",
       "      <th>complexity</th>\n",
       "      <th>loss</th>\n",
       "      <th>score</th>\n",
       "      <th>equation</th>\n",
       "      <th>sympy_format</th>\n",
       "      <th>lambda_format</th>\n",
       "    </tr>\n",
       "  </thead>\n",
       "  <tbody>\n",
       "    <tr>\n",
       "      <th>0</th>\n",
       "      <td>1</td>\n",
       "      <td>1.258771e-08</td>\n",
       "      <td>0.000000</td>\n",
       "      <td>-0.00014947575</td>\n",
       "      <td>-0.000149475750000000</td>\n",
       "      <td>PySRFunction(X=&gt;-0.000149475750000000)</td>\n",
       "    </tr>\n",
       "    <tr>\n",
       "      <th>1</th>\n",
       "      <td>3</td>\n",
       "      <td>2.314426e-10</td>\n",
       "      <td>1.998072</td>\n",
       "      <td>-0.05329305 * x1</td>\n",
       "      <td>-0.05329305*x1</td>\n",
       "      <td>PySRFunction(X=&gt;-0.05329305*x1)</td>\n",
       "    </tr>\n",
       "    <tr>\n",
       "      <th>2</th>\n",
       "      <td>5</td>\n",
       "      <td>2.314407e-10</td>\n",
       "      <td>0.000004</td>\n",
       "      <td>(-0.8144721 - -0.76116663) * x1</td>\n",
       "      <td>-0.0533054700000001*x1</td>\n",
       "      <td>PySRFunction(X=&gt;-0.0533054700000001*x1)</td>\n",
       "    </tr>\n",
       "    <tr>\n",
       "      <th>3</th>\n",
       "      <td>9</td>\n",
       "      <td>2.024946e-10</td>\n",
       "      <td>0.033403</td>\n",
       "      <td>(-0.3175894 + (x0 / x2)) * (x1 * 0.20069921)</td>\n",
       "      <td>0.20069921*x1*(x0/x2 - 0.3175894)</td>\n",
       "      <td>PySRFunction(X=&gt;0.20069921*x1*(x0/x2 - 0.31758...</td>\n",
       "    </tr>\n",
       "    <tr>\n",
       "      <th>4</th>\n",
       "      <td>11</td>\n",
       "      <td>2.024084e-10</td>\n",
       "      <td>0.000213</td>\n",
       "      <td>(-0.3175894 + (x0 / x2)) * (x1 * (0.20069921 +...</td>\n",
       "      <td>x1*(x3 + 0.20069921)*(x0/x2 - 0.3175894)</td>\n",
       "      <td>PySRFunction(X=&gt;x1*(x3 + 0.20069921)*(x0/x2 - ...</td>\n",
       "    </tr>\n",
       "    <tr>\n",
       "      <th>5</th>\n",
       "      <td>17</td>\n",
       "      <td>1.927867e-10</td>\n",
       "      <td>0.008117</td>\n",
       "      <td>(x1 + ((-0.3175894 + (-0.3472934 * x3)) + (x0 ...</td>\n",
       "      <td>x1*(x3 + 0.20069921)*(x0/x2 + x1 - 0.3472934*x...</td>\n",
       "      <td>PySRFunction(X=&gt;x1*(x3 + 0.20069921)*(x0/x2 + ...</td>\n",
       "    </tr>\n",
       "  </tbody>\n",
       "</table>\n",
       "</div>"
      ],
      "text/plain": [
       "   complexity          loss     score  \\\n",
       "0           1  1.258771e-08  0.000000   \n",
       "1           3  2.314426e-10  1.998072   \n",
       "2           5  2.314407e-10  0.000004   \n",
       "3           9  2.024946e-10  0.033403   \n",
       "4          11  2.024084e-10  0.000213   \n",
       "5          17  1.927867e-10  0.008117   \n",
       "\n",
       "                                            equation  \\\n",
       "0                                     -0.00014947575   \n",
       "1                                   -0.05329305 * x1   \n",
       "2                    (-0.8144721 - -0.76116663) * x1   \n",
       "3       (-0.3175894 + (x0 / x2)) * (x1 * 0.20069921)   \n",
       "4  (-0.3175894 + (x0 / x2)) * (x1 * (0.20069921 +...   \n",
       "5  (x1 + ((-0.3175894 + (-0.3472934 * x3)) + (x0 ...   \n",
       "\n",
       "                                        sympy_format  \\\n",
       "0                              -0.000149475750000000   \n",
       "1                                     -0.05329305*x1   \n",
       "2                             -0.0533054700000001*x1   \n",
       "3                  0.20069921*x1*(x0/x2 - 0.3175894)   \n",
       "4           x1*(x3 + 0.20069921)*(x0/x2 - 0.3175894)   \n",
       "5  x1*(x3 + 0.20069921)*(x0/x2 + x1 - 0.3472934*x...   \n",
       "\n",
       "                                       lambda_format  \n",
       "0             PySRFunction(X=>-0.000149475750000000)  \n",
       "1                    PySRFunction(X=>-0.05329305*x1)  \n",
       "2            PySRFunction(X=>-0.0533054700000001*x1)  \n",
       "3  PySRFunction(X=>0.20069921*x1*(x0/x2 - 0.31758...  \n",
       "4  PySRFunction(X=>x1*(x3 + 0.20069921)*(x0/x2 - ...  \n",
       "5  PySRFunction(X=>x1*(x3 + 0.20069921)*(x0/x2 + ...  "
      ]
     },
     "metadata": {},
     "output_type": "display_data"
    },
    {
     "name": "stdout",
     "output_type": "stream",
     "text": [
      "PySRRegressor.equations_ = [\n",
      "\t   pick     score                                           equation  \\\n",
      "\t0        0.000000                                     -0.00014947575   \n",
      "\t1  >>>>  1.998072                                   -0.05329305 * x1   \n",
      "\t2        0.000004                    (-0.8144721 - -0.76116663) * x1   \n",
      "\t3        0.033403       (-0.3175894 + (x0 / x2)) * (x1 * 0.20069921)   \n",
      "\t4        0.000213  (-0.3175894 + (x0 / x2)) * (x1 * (0.20069921 +...   \n",
      "\t5        0.008117  (x1 + ((-0.3175894 + (-0.3472934 * x3)) + (x0 ...   \n",
      "\t\n",
      "\t           loss  complexity  \n",
      "\t0  1.258771e-08           1  \n",
      "\t1  2.314426e-10           3  \n",
      "\t2  2.314407e-10           5  \n",
      "\t3  2.024946e-10           9  \n",
      "\t4  2.024084e-10          11  \n",
      "\t5  1.927867e-10          17  \n",
      "] Final Equation: \n"
     ]
    },
    {
     "data": {
      "text/latex": [
       "$\\displaystyle x_{1} \\left(x_{3} + 0.20069921\\right) \\left(\\frac{x_{0}}{x_{2}} + x_{1} - 0.3472934 x_{3} - 0.3175894\\right)$"
      ],
      "text/plain": [
       "x1*(x3 + 0.20069921)*(x0/x2 + x1 - 0.3472934*x3 - 0.3175894)"
      ]
     },
     "metadata": {},
     "output_type": "display_data"
    },
    {
     "name": "stdout",
     "output_type": "stream",
     "text": [
      "(5, 6)\n"
     ]
    },
    {
     "data": {
      "text/html": [
       "<div>\n",
       "<style scoped>\n",
       "    .dataframe tbody tr th:only-of-type {\n",
       "        vertical-align: middle;\n",
       "    }\n",
       "\n",
       "    .dataframe tbody tr th {\n",
       "        vertical-align: top;\n",
       "    }\n",
       "\n",
       "    .dataframe thead th {\n",
       "        text-align: right;\n",
       "    }\n",
       "</style>\n",
       "<table border=\"1\" class=\"dataframe\">\n",
       "  <thead>\n",
       "    <tr style=\"text-align: right;\">\n",
       "      <th></th>\n",
       "      <th>complexity</th>\n",
       "      <th>loss</th>\n",
       "      <th>score</th>\n",
       "      <th>equation</th>\n",
       "      <th>sympy_format</th>\n",
       "      <th>lambda_format</th>\n",
       "    </tr>\n",
       "  </thead>\n",
       "  <tbody>\n",
       "    <tr>\n",
       "      <th>0</th>\n",
       "      <td>1</td>\n",
       "      <td>1.594433e-08</td>\n",
       "      <td>0.000000</td>\n",
       "      <td>-0.0001630499</td>\n",
       "      <td>-0.000163049900000000</td>\n",
       "      <td>PySRFunction(X=&gt;-0.000163049900000000)</td>\n",
       "    </tr>\n",
       "    <tr>\n",
       "      <th>1</th>\n",
       "      <td>3</td>\n",
       "      <td>7.328364e-11</td>\n",
       "      <td>2.691260</td>\n",
       "      <td>x0 * -0.006651545</td>\n",
       "      <td>-0.006651545*x0</td>\n",
       "      <td>PySRFunction(X=&gt;-0.006651545*x0)</td>\n",
       "    </tr>\n",
       "    <tr>\n",
       "      <th>2</th>\n",
       "      <td>5</td>\n",
       "      <td>6.293089e-11</td>\n",
       "      <td>0.076150</td>\n",
       "      <td>(-0.006651545 + x3) * x0</td>\n",
       "      <td>x0*(x3 - 0.006651545)</td>\n",
       "      <td>PySRFunction(X=&gt;x0*(x3 - 0.006651545))</td>\n",
       "    </tr>\n",
       "    <tr>\n",
       "      <th>3</th>\n",
       "      <td>7</td>\n",
       "      <td>3.553463e-11</td>\n",
       "      <td>0.285765</td>\n",
       "      <td>(x0 - -0.29567993) * (-0.019539606 * x0)</td>\n",
       "      <td>-0.019539606*x0*(x0 + 0.29567993)</td>\n",
       "      <td>PySRFunction(X=&gt;-0.019539606*x0*(x0 + 0.295679...</td>\n",
       "    </tr>\n",
       "    <tr>\n",
       "      <th>4</th>\n",
       "      <td>9</td>\n",
       "      <td>2.570203e-11</td>\n",
       "      <td>0.161969</td>\n",
       "      <td>x0 * (((x1 - 0.15871401) * x1) - 0.005879295)</td>\n",
       "      <td>x0*(x1*(x1 - 0.15871401) - 0.005879295)</td>\n",
       "      <td>PySRFunction(X=&gt;x0*(x1*(x1 - 0.15871401) - 0.0...</td>\n",
       "    </tr>\n",
       "  </tbody>\n",
       "</table>\n",
       "</div>"
      ],
      "text/plain": [
       "   complexity          loss     score  \\\n",
       "0           1  1.594433e-08  0.000000   \n",
       "1           3  7.328364e-11  2.691260   \n",
       "2           5  6.293089e-11  0.076150   \n",
       "3           7  3.553463e-11  0.285765   \n",
       "4           9  2.570203e-11  0.161969   \n",
       "\n",
       "                                        equation  \\\n",
       "0                                  -0.0001630499   \n",
       "1                              x0 * -0.006651545   \n",
       "2                       (-0.006651545 + x3) * x0   \n",
       "3       (x0 - -0.29567993) * (-0.019539606 * x0)   \n",
       "4  x0 * (((x1 - 0.15871401) * x1) - 0.005879295)   \n",
       "\n",
       "                              sympy_format  \\\n",
       "0                    -0.000163049900000000   \n",
       "1                          -0.006651545*x0   \n",
       "2                    x0*(x3 - 0.006651545)   \n",
       "3        -0.019539606*x0*(x0 + 0.29567993)   \n",
       "4  x0*(x1*(x1 - 0.15871401) - 0.005879295)   \n",
       "\n",
       "                                       lambda_format  \n",
       "0             PySRFunction(X=>-0.000163049900000000)  \n",
       "1                   PySRFunction(X=>-0.006651545*x0)  \n",
       "2             PySRFunction(X=>x0*(x3 - 0.006651545))  \n",
       "3  PySRFunction(X=>-0.019539606*x0*(x0 + 0.295679...  \n",
       "4  PySRFunction(X=>x0*(x1*(x1 - 0.15871401) - 0.0...  "
      ]
     },
     "metadata": {},
     "output_type": "display_data"
    },
    {
     "name": "stdout",
     "output_type": "stream",
     "text": [
      "PySRRegressor.equations_ = [\n",
      "\t   pick     score                                       equation  \\\n",
      "\t0        0.000000                                  -0.0001630499   \n",
      "\t1        2.691260                              x0 * -0.006651545   \n",
      "\t2        0.076150                       (-0.006651545 + x3) * x0   \n",
      "\t3  >>>>  0.285765       (x0 - -0.29567993) * (-0.019539606 * x0)   \n",
      "\t4        0.161969  x0 * (((x1 - 0.15871401) * x1) - 0.005879295)   \n",
      "\t\n",
      "\t           loss  complexity  \n",
      "\t0  1.594433e-08           1  \n",
      "\t1  7.328364e-11           3  \n",
      "\t2  6.293089e-11           5  \n",
      "\t3  3.553463e-11           7  \n",
      "\t4  2.570203e-11           9  \n",
      "] Final Equation: \n"
     ]
    },
    {
     "data": {
      "text/latex": [
       "$\\displaystyle x_{0} \\left(x_{1} \\left(x_{1} - 0.15871401\\right) - 0.005879295\\right)$"
      ],
      "text/plain": [
       "x0*(x1*(x1 - 0.15871401) - 0.005879295)"
      ]
     },
     "metadata": {},
     "output_type": "display_data"
    }
   ],
   "source": [
    "for model in (model5, model6):\n",
    "    equations = model.equations_\n",
    "    print(equations.shape)\n",
    "    display(equations)\n",
    "    print(model, \"Final Equation: \")\n",
    "    display(equations.iloc[-1, 4])"
   ]
  },
  {
   "cell_type": "markdown",
   "id": "65211cab",
   "metadata": {},
   "source": [
    "In general: all sims + few layers + all timesteps\n",
    "\n",
    "pick a diverse choice of layers -- more variability (not necessarily neighbors)\n",
    "\n",
    "include wstar, large scale forcings, wind, heating, height, ustar (find Laura code how she included large scale forcings)\n",
    "\n",
    "plot resulting equation along with other P terms, see if profile is being captured successfully.\n",
    "\n",
    "enter inputs and outputs as pd dataframes with names, that way the software will output names!\n",
    "\n",
    "timescale is in seconds so 600 or more is reasonable, on the order of 10 min or so. also $\\frac{\\text{h}}{\\text{wstar}} = \\tau$. $\\tau$ is the timescale of circulation. h is `pbl_height`, and is the \"length scale\", while wstar is `wstar` which is the \"velocity scale\"\n",
    "\n",
    "play with different symbolic regression parameters/settings (complexity, etc)"
   ]
  }
 ],
 "metadata": {
  "kernelspec": {
   "display_name": "Python 3",
   "language": "python",
   "name": "python3"
  },
  "language_info": {
   "codemirror_mode": {
    "name": "ipython",
    "version": 3
   },
   "file_extension": ".py",
   "mimetype": "text/x-python",
   "name": "python",
   "nbconvert_exporter": "python",
   "pygments_lexer": "ipython3",
   "version": "3.11.1"
  }
 },
 "nbformat": 4,
 "nbformat_minor": 5
}
