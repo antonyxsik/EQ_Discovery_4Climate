{
 "cells": [
  {
   "cell_type": "code",
   "execution_count": 3,
   "metadata": {},
   "outputs": [
    {
     "name": "stdout",
     "output_type": "stream",
     "text": [
      "Detected IPython. Loading juliacall extension. See https://juliapy.github.io/PythonCall.jl/stable/compat/#IPython\n"
     ]
    }
   ],
   "source": [
    "import pysr"
   ]
  },
  {
   "cell_type": "markdown",
   "metadata": {},
   "source": [
    "# Git Hub notes\n",
    "\n",
    "- git status→ use constantly, shows if your missing files\n",
    "- git add “” or git add . → queues up files to commit\n",
    "- git commit → makes changes\n",
    "- git push→ sends up to github.com\n",
    "\n",
    "\n",
    "- git commit -m “performative commit” → message, and commits the file, do not commit unless you are happy with it\n",
    "\n",
    "- git push → and uploads it onto the repo, sends up to github\n",
    "\n",
    "**always pull before you push**\n",
    "\n"
   ]
  },
  {
   "cell_type": "code",
   "execution_count": 2,
   "metadata": {},
   "outputs": [
    {
     "data": {
      "text/plain": [
       "'hello world'"
      ]
     },
     "execution_count": 2,
     "metadata": {},
     "output_type": "execute_result"
    }
   ],
   "source": [
    "\"hello world\""
   ]
  }
 ],
 "metadata": {
  "kernelspec": {
   "display_name": "pnw_env",
   "language": "python",
   "name": "python3"
  },
  "language_info": {
   "codemirror_mode": {
    "name": "ipython",
    "version": 3
   },
   "file_extension": ".py",
   "mimetype": "text/x-python",
   "name": "python",
   "nbconvert_exporter": "python",
   "pygments_lexer": "ipython3",
   "version": "3.12.0"
  }
 },
 "nbformat": 4,
 "nbformat_minor": 2
}
