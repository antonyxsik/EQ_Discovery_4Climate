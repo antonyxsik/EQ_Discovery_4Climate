{
 "cells": [
  {
   "cell_type": "markdown",
   "metadata": {},
   "source": [
    "## Equation Discovery (first attempt + guide notebook)\n",
    "\n",
    "Author: Antony Sikorski \n",
    "\n",
    "My attempt at rediscovering the parameterization equation for pressure redistribution using high resolution, Large Eddy Simulation (LES) data. \n",
    "\n",
    "First, importing necessary libraries: \n",
    "- xarray, netcdf, and h5 are all for the data\n",
    "- PySR is for symbolic regression (equation discovery). Github: https://github.com/MilesCranmer/PySR"
   ]
  },
  {
   "cell_type": "code",
   "execution_count": 15,
   "metadata": {},
   "outputs": [],
   "source": [
    "import pysr\n",
    "from pysr import PySRRegressor\n",
    "\n",
    "import xarray as xr\n",
    "import netCDF4 as nc\n",
    "import h5netcdf\n",
    "\n",
    "import numpy as np\n",
    "import matplotlib.pyplot as plt\n",
    "from IPython.display import display"
   ]
  },
  {
   "cell_type": "markdown",
   "metadata": {},
   "source": [
    "---\n",
    "### Part 1: Data Exploration\n"
   ]
  },
  {
   "cell_type": "markdown",
   "metadata": {},
   "source": [
    "Data is in netcdf file format. Files are named according to certain initial conditions that are set: \n",
    "\n",
    "- Ug: Imposed wind (large scale wind, geostrophic)\n",
    "- Q: Surface heating (how much heat you're putting into your domain, initially affects the surface level)\n",
    "- SI/WI: Strong/Weak Inversion (talking about the temperature inversion that occurs at the top of the ABL, will be visible when looking at the gradient of $\\Theta$)\n",
    "\n",
    "In this notebook, we will open two similar files: "
   ]
  },
  {
   "cell_type": "code",
   "execution_count": 16,
   "metadata": {},
   "outputs": [
    {
     "data": {
      "text/plain": [
       "<class 'netCDF4._netCDF4.Dataset'>\n",
       "root group (NETCDF4 data model, file format HDF5):\n",
       "    dimensions(sizes): z(256), zh(257), time(120)\n",
       "    variables(dimensions): float64 time(time), float64 z(z), float64 zh(zh)\n",
       "    groups: default, thermo, budget"
      ]
     },
     "execution_count": 16,
     "metadata": {},
     "output_type": "execute_result"
    }
   ],
   "source": [
    "# all of my LES files are currently stored here\n",
    "folder_path = 'C:/Users/anton/Desktop/Career/LEAP_nyc_Summer2024/les_sim'\n",
    "\n",
    "file_path_1 = 'Ug2Q024_WI.nc'\n",
    "file_path_2 = 'Ug2Q024_SI.nc' # strong inversion\n",
    "\n",
    "df_1 = nc.Dataset(folder_path + '/' + file_path_1, mode='r')\n",
    "df_2 = nc.Dataset(folder_path + '/' + file_path_2, mode='r')\n",
    "\n",
    "df_1\n",
    "\n",
    "# #closing netCDF files since we extracted the data \n",
    "# df_1.close()\n",
    "# df_2.close()"
   ]
  },
  {
   "cell_type": "markdown",
   "metadata": {},
   "source": [
    "There are three groups which contain different variables: `default`, `thermo`, and `budget`. Typically the temperature terms are found in `thermo` etc. Variables in these groups will have values across two dimensions. \n",
    "\n",
    "One of the dimensions is always `time`. Depending on the variables, the other dimensions (height), will either be `z` or `zh`, because some variables are calculated at the center of a cell, other variables are calculate on the surfaces\n",
    "This is due to the nature of \"MicroHH\", which is the CFD model we used for simulation. MicroHH is discretized on a staggered Arakawa C-grid, where the scalars are located in the center of a grid cell and the three velocity components are at the faces. Source code for this CFD model: https://github.com/microhh/microhh/tree/main/src\n",
    "\n",
    "For this dataset, `time` has length 120 (minutes) because there are 2 hours of data. The LES is actually run for 4 hours, but the first two are chopped off. \n",
    "\n",
    "The resolution of our LES is $24 \\times 24 \\times 6$ $ m^3$. I think the variables we get are a result of averaging in the horizontal plane, thus we only retain a height (`z` or `zh`) variable. Let's take a look at all of the variables: "
   ]
  },
  {
   "cell_type": "code",
   "execution_count": 17,
   "metadata": {},
   "outputs": [
    {
     "name": "stdout",
     "output_type": "stream",
     "text": [
      "Group: default\n",
      "  Variable: iter,  Long Name: Iteration number,  Dimensions: ('time',)\n",
      "  Variable: area,  Long Name: Fractional area contained in mask,  Dimensions: ('time', 'z')\n",
      "  Variable: areah,  Long Name: Fractional area contained in mask,  Dimensions: ('time', 'zh')\n",
      "  Variable: eft,  Long Name: eft,  Dimensions: ('time', 'z')\n",
      "  Variable: eft_3,  Long Name: Moment 3 of the eft,  Dimensions: ('time', 'z')\n",
      "  Variable: eft_4,  Long Name: Moment 4 of the eft,  Dimensions: ('time', 'z')\n",
      "  Variable: eft_diff,  Long Name: Diffusive flux of the eft,  Dimensions: ('time', 'zh')\n",
      "  Variable: eft_w,  Long Name: Turbulent flux of the eft,  Dimensions: ('time', 'zh')\n",
      "  Variable: eft_grad,  Long Name: Gradient of the eft,  Dimensions: ('time', 'zh')\n",
      "  Variable: eft_2,  Long Name: Moment 2 of the eft,  Dimensions: ('time', 'z')\n",
      "  Variable: eft_path,  Long Name: eft path,  Dimensions: ('time',)\n",
      "  Variable: eft_flux,  Long Name: Total flux of the eft,  Dimensions: ('time', 'zh')\n",
      "  Variable: sft,  Long Name: sft,  Dimensions: ('time', 'z')\n",
      "  Variable: sft_3,  Long Name: Moment 3 of the sft,  Dimensions: ('time', 'z')\n",
      "  Variable: sft_4,  Long Name: Moment 4 of the sft,  Dimensions: ('time', 'z')\n",
      "  Variable: sft_diff,  Long Name: Diffusive flux of the sft,  Dimensions: ('time', 'zh')\n",
      "  Variable: sft_w,  Long Name: Turbulent flux of the sft,  Dimensions: ('time', 'zh')\n",
      "  Variable: sft_grad,  Long Name: Gradient of the sft,  Dimensions: ('time', 'zh')\n",
      "  Variable: sft_2,  Long Name: Moment 2 of the sft,  Dimensions: ('time', 'z')\n",
      "  Variable: sft_path,  Long Name: sft path,  Dimensions: ('time',)\n",
      "  Variable: sft_flux,  Long Name: Total flux of the sft,  Dimensions: ('time', 'zh')\n",
      "  Variable: u,  Long Name: U velocity,  Dimensions: ('time', 'z')\n",
      "  Variable: u_3,  Long Name: Moment 3 of the U velocity,  Dimensions: ('time', 'z')\n",
      "  Variable: u_4,  Long Name: Moment 4 of the U velocity,  Dimensions: ('time', 'z')\n",
      "  Variable: u_diff,  Long Name: Diffusive flux of the U velocity,  Dimensions: ('time', 'zh')\n",
      "  Variable: u_w,  Long Name: Turbulent flux of the U velocity,  Dimensions: ('time', 'zh')\n",
      "  Variable: u_grad,  Long Name: Gradient of the U velocity,  Dimensions: ('time', 'zh')\n",
      "  Variable: u_2,  Long Name: Moment 2 of the U velocity,  Dimensions: ('time', 'z')\n",
      "  Variable: u_path,  Long Name: U velocity path,  Dimensions: ('time',)\n",
      "  Variable: u_flux,  Long Name: Total flux of the U velocity,  Dimensions: ('time', 'zh')\n",
      "  Variable: v,  Long Name: V velocity,  Dimensions: ('time', 'z')\n",
      "  Variable: v_3,  Long Name: Moment 3 of the V velocity,  Dimensions: ('time', 'z')\n",
      "  Variable: v_4,  Long Name: Moment 4 of the V velocity,  Dimensions: ('time', 'z')\n",
      "  Variable: v_diff,  Long Name: Diffusive flux of the V velocity,  Dimensions: ('time', 'zh')\n",
      "  Variable: v_w,  Long Name: Turbulent flux of the V velocity,  Dimensions: ('time', 'zh')\n",
      "  Variable: v_grad,  Long Name: Gradient of the V velocity,  Dimensions: ('time', 'zh')\n",
      "  Variable: v_2,  Long Name: Moment 2 of the V velocity,  Dimensions: ('time', 'z')\n",
      "  Variable: v_path,  Long Name: V velocity path,  Dimensions: ('time',)\n",
      "  Variable: v_flux,  Long Name: Total flux of the V velocity,  Dimensions: ('time', 'zh')\n",
      "  Variable: w,  Long Name: Vertical velocity,  Dimensions: ('time', 'zh')\n",
      "  Variable: w_3,  Long Name: Moment 3 of the Vertical velocity,  Dimensions: ('time', 'zh')\n",
      "  Variable: w_4,  Long Name: Moment 4 of the Vertical velocity,  Dimensions: ('time', 'zh')\n",
      "  Variable: w_2,  Long Name: Moment 2 of the Vertical velocity,  Dimensions: ('time', 'zh')\n",
      "  Variable: p,  Long Name: Pressure,  Dimensions: ('time', 'z')\n",
      "  Variable: p_grad,  Long Name: Gradient of the Pressure,  Dimensions: ('time', 'zh')\n",
      "  Variable: p_2,  Long Name: Moment 2 of the Pressure,  Dimensions: ('time', 'z')\n",
      "  Variable: p_w,  Long Name: Turbulent flux of the Pressure,  Dimensions: ('time', 'zh')\n",
      "  Variable: eft_bot,  Long Name: Surface eft,  Dimensions: ('time',)\n",
      "  Variable: sft_bot,  Long Name: Surface sft,  Dimensions: ('time',)\n",
      "  Variable: ustar,  Long Name: Surface friction velocity,  Dimensions: ('time',)\n",
      "  Variable: obuk,  Long Name: Obukhov length,  Dimensions: ('time',)\n",
      "  Variable: evisc,  Long Name: Eddy viscosity,  Dimensions: ('time', 'z')\n",
      "  Variable: evisc_2,  Long Name: Moment 2 of the Eddy viscosity,  Dimensions: ('time', 'z')\n",
      "Group: thermo\n",
      "  Variable: th,  Long Name: Potential Temperature,  Dimensions: ('time', 'z')\n",
      "  Variable: th_3,  Long Name: Moment 3 of the Potential Temperature,  Dimensions: ('time', 'z')\n",
      "  Variable: th_4,  Long Name: Moment 4 of the Potential Temperature,  Dimensions: ('time', 'z')\n",
      "  Variable: th_diff,  Long Name: Diffusive flux of the Potential Temperature,  Dimensions: ('time', 'zh')\n",
      "  Variable: th_w,  Long Name: Turbulent flux of the Potential Temperature,  Dimensions: ('time', 'zh')\n",
      "  Variable: th_grad,  Long Name: Gradient of the Potential Temperature,  Dimensions: ('time', 'zh')\n",
      "  Variable: th_2,  Long Name: Moment 2 of the Potential Temperature,  Dimensions: ('time', 'z')\n",
      "  Variable: th_path,  Long Name: Potential Temperature path,  Dimensions: ('time',)\n",
      "  Variable: th_flux,  Long Name: Total flux of the Potential Temperature,  Dimensions: ('time', 'zh')\n",
      "  Variable: th_bot,  Long Name: Surface Potential Temperature,  Dimensions: ('time',)\n",
      "  Variable: rhoref,  Long Name: Full level basic state density,  Dimensions: ('z',)\n",
      "  Variable: rhorefh,  Long Name: Half level basic state density,  Dimensions: ('zh',)\n",
      "  Variable: thref,  Long Name: Full level basic state potential temperature,  Dimensions: ('z',)\n",
      "  Variable: threfh,  Long Name: Half level basic state potential temperature,  Dimensions: ('zh',)\n",
      "  Variable: b,  Long Name: Buoyancy,  Dimensions: ('time', 'z')\n",
      "  Variable: b_3,  Long Name: Moment 3 of the Buoyancy,  Dimensions: ('time', 'z')\n",
      "  Variable: b_4,  Long Name: Moment 4 of the Buoyancy,  Dimensions: ('time', 'z')\n",
      "  Variable: b_diff,  Long Name: Diffusive flux of the Buoyancy,  Dimensions: ('time', 'zh')\n",
      "  Variable: b_w,  Long Name: Turbulent flux of the Buoyancy,  Dimensions: ('time', 'zh')\n",
      "  Variable: b_grad,  Long Name: Gradient of the Buoyancy,  Dimensions: ('time', 'zh')\n",
      "  Variable: b_2,  Long Name: Moment 2 of the Buoyancy,  Dimensions: ('time', 'z')\n",
      "  Variable: b_flux,  Long Name: Total flux of the Buoyancy,  Dimensions: ('time', 'zh')\n",
      "  Variable: zi,  Long Name: Boundary Layer Depth,  Dimensions: ('time',)\n",
      "Group: budget\n",
      "  Variable: ke,  Long Name: Kinetic energy,  Dimensions: ('time', 'z')\n",
      "  Variable: tke,  Long Name: Turbulent kinetic energy,  Dimensions: ('time', 'z')\n",
      "  Variable: u2_shear,  Long Name: Shear production term in U2 budget,  Dimensions: ('time', 'z')\n",
      "  Variable: v2_shear,  Long Name: Shear production term in V2 budget,  Dimensions: ('time', 'z')\n",
      "  Variable: tke_shear,  Long Name: Shear production term in TKE budget,  Dimensions: ('time', 'z')\n",
      "  Variable: uw_shear,  Long Name: Shear production term in UW budget,  Dimensions: ('time', 'zh')\n",
      "  Variable: vw_shear,  Long Name: Shear production term in VW budget,  Dimensions: ('time', 'zh')\n",
      "  Variable: u2_turb,  Long Name: Turbulent transport term in U2 budget,  Dimensions: ('time', 'z')\n",
      "  Variable: v2_turb,  Long Name: Turbulent transport term in V2 budget,  Dimensions: ('time', 'z')\n",
      "  Variable: w2_turb,  Long Name: Turbulent transport term in W2 budget,  Dimensions: ('time', 'zh')\n",
      "  Variable: tke_turb,  Long Name: Turbulent transport term in TKE budget,  Dimensions: ('time', 'z')\n",
      "  Variable: uw_turb,  Long Name: Turbulent transport term in UW budget,  Dimensions: ('time', 'zh')\n",
      "  Variable: vw_turb,  Long Name: Turbulent transport term in VW budget,  Dimensions: ('time', 'zh')\n",
      "  Variable: w2_pres,  Long Name: Pressure transport term in W2 budget,  Dimensions: ('time', 'zh')\n",
      "  Variable: tke_pres,  Long Name: Pressure transport term in TKE budget,  Dimensions: ('time', 'z')\n",
      "  Variable: uw_pres,  Long Name: Pressure transport term in UW budget,  Dimensions: ('time', 'zh')\n",
      "  Variable: vw_pres,  Long Name: Pressure transport term in VW budget,  Dimensions: ('time', 'zh')\n",
      "  Variable: u2_rdstr,  Long Name: Pressure redistribution term in U2 budget,  Dimensions: ('time', 'z')\n",
      "  Variable: v2_rdstr,  Long Name: Pressure redistribution term in V2 budget,  Dimensions: ('time', 'z')\n",
      "  Variable: w2_rdstr,  Long Name: Pressure redistribution term in W2 budget,  Dimensions: ('time', 'zh')\n",
      "  Variable: uw_rdstr,  Long Name: Pressure redistribution term in UW budget,  Dimensions: ('time', 'zh')\n",
      "  Variable: vw_rdstr,  Long Name: Pressure redistribution term in VW budget,  Dimensions: ('time', 'zh')\n",
      "  Variable: u2_cor,  Long Name: Coriolis term in U2 budget,  Dimensions: ('time', 'z')\n",
      "  Variable: v2_cor,  Long Name: Coriolis term in V2 budget,  Dimensions: ('time', 'z')\n",
      "  Variable: uw_cor,  Long Name: Coriolis term in UW budget,  Dimensions: ('time', 'zh')\n",
      "  Variable: vw_cor,  Long Name: Coriolis term in VW budget,  Dimensions: ('time', 'zh')\n",
      "  Variable: u2_diff,  Long Name: Total diffusive term in U2 budget,  Dimensions: ('time', 'z')\n",
      "  Variable: v2_diff,  Long Name: Total diffusive term in V2 budget,  Dimensions: ('time', 'z')\n",
      "  Variable: w2_diff,  Long Name: Total diffusive term in W2 budget,  Dimensions: ('time', 'zh')\n",
      "  Variable: tke_diff,  Long Name: Total diffusive term in TKE budget,  Dimensions: ('time', 'z')\n",
      "  Variable: uw_diff,  Long Name: Total diffusive term in UW budget,  Dimensions: ('time', 'zh')\n",
      "  Variable: vw_diff,  Long Name: Total diffusive term in VW budget,  Dimensions: ('time', 'zh')\n",
      "  Variable: w2_buoy,  Long Name: Buoyancy production/destruction term in W2 budget,  Dimensions: ('time', 'zh')\n",
      "  Variable: tke_buoy,  Long Name: Buoyancy production/destruction term in TKE budget,  Dimensions: ('time', 'z')\n",
      "  Variable: uw_buoy,  Long Name: Buoyancy production/destruction term in UW budget,  Dimensions: ('time', 'zh')\n",
      "  Variable: vw_buoy,  Long Name: Buoyancy production/destruction term in VW budget,  Dimensions: ('time', 'zh')\n",
      "  Variable: b2_shear,  Long Name: Shear production term in B2 budget,  Dimensions: ('time', 'z')\n",
      "  Variable: b2_turb,  Long Name: Turbulent transport term in B2 budget,  Dimensions: ('time', 'z')\n",
      "  Variable: bw_shear,  Long Name: Shear production term in B2 budget,  Dimensions: ('time', 'zh')\n",
      "  Variable: bw_turb,  Long Name: Turbulent transport term in B2 budget,  Dimensions: ('time', 'zh')\n",
      "  Variable: b2_visc,  Long Name: Viscous transport term in B2 budget,  Dimensions: ('time', 'z')\n",
      "  Variable: b2_diss,  Long Name: Dissipation term in B2 budget,  Dimensions: ('time', 'z')\n",
      "  Variable: bw_visc,  Long Name: Viscous transport term in BW budget,  Dimensions: ('time', 'zh')\n",
      "  Variable: bw_diss,  Long Name: Dissipation term in BW budget,  Dimensions: ('time', 'zh')\n",
      "  Variable: bw_rdstr,  Long Name: Redistribution term in BW budget,  Dimensions: ('time', 'zh')\n",
      "  Variable: bw_buoy,  Long Name: Buoyancy term in BW budget,  Dimensions: ('time', 'zh')\n",
      "  Variable: bw_pres,  Long Name: Pressure transport term in BW budget,  Dimensions: ('time', 'zh')\n"
     ]
    }
   ],
   "source": [
    "for group_name, group in df_2.groups.items():\n",
    "    print(f\"Group: {group_name}\")\n",
    "    for var_name, var in group.variables.items():\n",
    "        long_name = var.getncattr('long_name') if 'long_name' in var.ncattrs() else 'No long_name attribute'\n",
    "        dimensions = var.dimensions if hasattr(var, 'dimensions') else 'No dimensions attribute'\n",
    "        print(f\"  Variable: {var_name},  Long Name: {long_name},  Dimensions: {dimensions}\")"
   ]
  },
  {
   "cell_type": "markdown",
   "metadata": {},
   "source": [
    "Let's take a look at some key variables, and try to recreate the figures in *\"The non-local character of turbulence asymmetry in the convective atmospheric boundary layer\" by Ghannam et al*. Link: https://rmets.onlinelibrary.wiley.com/doi/full/10.1002/qj.2937\n",
    "\n",
    "We will initially focus on $\\Theta$, $\\frac{\\mathrm{d}\\Theta}{\\mathrm{d}z}$, and $\\overline{w' \\theta'}$, which are mean potential temperature, its vertical gradient, and then turbulent heat flux, respectively. "
   ]
  },
  {
   "cell_type": "code",
   "execution_count": 18,
   "metadata": {},
   "outputs": [],
   "source": [
    "#extract variables from both df, name accordingly\n",
    "Theta_WI = df_1.groups['thermo'].variables['th']\n",
    "dTheta_dz_WI = df_1.groups['thermo'].variables['th_grad']\n",
    "w_theta_WI = df_1.groups['thermo'].variables['th_flux']\n",
    "\n",
    "Theta_SI = df_2.groups['thermo'].variables['th']\n",
    "dTheta_dz_SI = df_2.groups['thermo'].variables['th_grad']\n",
    "w_theta_SI = df_2.groups['thermo'].variables['th_flux']\n",
    "\n",
    "# couldn't think of how to extract z, zh, t any better so I just did this. \n",
    "# someone please do this better \n",
    "z = xr.DataArray(Theta_WI, dims=Theta_WI.dimensions)['z'].values\n",
    "assert(len(z) == 256)\n",
    "zh = xr.DataArray(w_theta_WI, dims=w_theta_WI.dimensions)['zh'].values\n",
    "assert(len(zh) == 257)\n",
    "t = xr.DataArray(Theta_WI, dims=Theta_WI.dimensions)['time'].values\n",
    "assert(len(t) == 120)"
   ]
  },
  {
   "cell_type": "markdown",
   "metadata": {},
   "source": [
    "First we look at the unnormalized weak inversion plots of these three key variables:"
   ]
  },
  {
   "cell_type": "code",
   "execution_count": 19,
   "metadata": {},
   "outputs": [
    {
     "data": {
      "image/png": "[encoded data removed]",
      "text/plain": [
       "<Figure size 1000x600 with 3 Axes>"
      ]
     },
     "metadata": {},
     "output_type": "display_data"
    }
   ],
   "source": [
    "#pick a time at which to plot\n",
    "timeStep = 60\n",
    "\n",
    "#pick 'strong' or 'weak' inversion\n",
    "inversion = 'weak' \n",
    "\n",
    "if inversion == 'strong':\n",
    "    Theta = Theta_SI\n",
    "    dTheta_dz = dTheta_dz_SI\n",
    "    w_theta = w_theta_SI\n",
    "if inversion == 'weak':\n",
    "    Theta = Theta_WI\n",
    "    dTheta_dz = dTheta_dz_WI\n",
    "    w_theta = w_theta_WI\n",
    "\n",
    "plt.figure(figsize = (10, 6))\n",
    "\n",
    "# Plot potentialTemp\n",
    "plt.subplot(1, 3, 1)\n",
    "plt.plot(Theta[timeStep], np.arange(0, 256))\n",
    "plt.ylim(0, 200)\n",
    "plt.title('Mean Potential Temp (th)')\n",
    "plt.xlabel('Value')\n",
    "plt.ylabel('Depth')\n",
    "\n",
    "# Plot th_diff\n",
    "plt.subplot(1, 3, 2)\n",
    "plt.plot(dTheta_dz[timeStep], np.arange(0, 257))\n",
    "plt.ylim(0, 200)\n",
    "plt.title('Gradient of Potential Temp (th_grad)')\n",
    "plt.xlabel('Value')\n",
    "plt.ylabel('Depth')\n",
    "\n",
    "# Plot th_flux\n",
    "plt.subplot(1, 3, 3)\n",
    "plt.plot(w_theta[timeStep], np.arange(0, 257))\n",
    "plt.ylim(0, 200)\n",
    "plt.title('Turbulent heat flux (th_flux)')\n",
    "plt.xlabel('Value')\n",
    "plt.ylabel('Depth')\n",
    "\n",
    "# Show the plot\n",
    "plt.tight_layout()\n",
    "plt.show()"
   ]
  },
  {
   "cell_type": "markdown",
   "metadata": {},
   "source": [
    "Normalizing the variables following the paper mentioned above in order to get more similar plots. We will use the weak inversion data. This normalization is definitely wrong at the moment. "
   ]
  },
  {
   "cell_type": "code",
   "execution_count": 20,
   "metadata": {},
   "outputs": [
    {
     "data": {
      "image/png": "[encoded data removed]",
      "text/plain": [
       "<Figure size 1000x600 with 3 Axes>"
      ]
     },
     "metadata": {},
     "output_type": "display_data"
    }
   ],
   "source": [
    "# not quite sure how to get this, setting to one for now\n",
    "beta = 1\n",
    "\n",
    "#boundary layer height (changes with time??)\n",
    "h = df_1.groups['thermo'].variables['zi'][:]\n",
    "h = h[timeStep]\n",
    "h\n",
    "\n",
    "#surface heat flux (i think)?\n",
    "w_theta_0 = df_1.groups['thermo'].variables['th_flux'][timeStep][0]\n",
    "\n",
    "plt.figure(figsize = (10, 6))\n",
    "\n",
    "# Plot potentialTemp\n",
    "plt.subplot(1, 3, 1)\n",
    "plt.plot(Theta[timeStep], np.arange(0, 256))\n",
    "plt.ylim(0, 200)\n",
    "plt.title('Mean Potential Temp (th)')\n",
    "plt.xlabel('Value')\n",
    "plt.ylabel('Depth')\n",
    "\n",
    "# Plot th_diff\n",
    "plt.subplot(1, 3, 2)\n",
    "plt.plot((dTheta_dz[timeStep] * h * np.cbrt(beta * w_theta_0 * h))/w_theta_0,\n",
    "         np.arange(0, 257))\n",
    "plt.ylim(0,200)\n",
    "# plt.ylim(2, 200)\n",
    "# plt.xlim(-2000, 2000)\n",
    "plt.title('Gradient of Potential Temp (th_grad)')\n",
    "plt.xlabel('Value')\n",
    "plt.ylabel('Depth')\n",
    "\n",
    "# Plot th_flux\n",
    "plt.subplot(1, 3, 3)\n",
    "plt.plot(w_theta[timeStep]/w_theta_0,\n",
    "         np.arange(0, 257))\n",
    "plt.ylim(0, 200)\n",
    "plt.title('Turbulent heat flux (th_flux)')\n",
    "plt.xlabel('Value')\n",
    "plt.ylabel('Depth')\n",
    "\n",
    "# Show the plot\n",
    "plt.tight_layout()\n",
    "plt.show()"
   ]
  },
  {
   "cell_type": "markdown",
   "metadata": {},
   "source": [
    "The gradient looks a little funky. Let's manually calculate the gradient and compare: "
   ]
  },
  {
   "cell_type": "code",
   "execution_count": 21,
   "metadata": {},
   "outputs": [
    {
     "data": {
      "text/plain": [
       "Text(0, 0.5, 'Depth')"
      ]
     },
     "execution_count": 21,
     "metadata": {},
     "output_type": "execute_result"
    },
    {
     "data": {
      "image/png": "[encoded data removed]",
      "text/plain": [
       "<Figure size 800x600 with 2 Axes>"
      ]
     },
     "metadata": {},
     "output_type": "display_data"
    }
   ],
   "source": [
    "manualGrad = np.gradient(Theta[timeStep], z)\n",
    "\n",
    "# #finite difference by hand\n",
    "# manualGrad = np.zeros_like(poTemp)\n",
    "# poTemp = Theta[timeStep]\n",
    "# for i in range(1, len(poTemp)-1):\n",
    "#     manualGrad[i] = (poTemp[i+1] - poTemp[i-1]) / (z[i+1] - z[i-1])\n",
    "\n",
    "# # Handle the boundaries with forward and backward differences\n",
    "# manualGrad[0] = (poTemp[1] - poTemp[0]) / (z[1] - z[0])\n",
    "# manualGrad[-1] = (poTemp[-1] - poTemp[-2]) / (z[-1] - z[-2])\n",
    "\n",
    "plt.figure(figsize = (8, 6))\n",
    "plt.subplot(1, 2, 1)\n",
    "plt.xlim(-0.6, 0.5)\n",
    "plt.ylim(1, 200)\n",
    "plt.plot(dTheta_dz[timeStep], np.arange(0, 257))\n",
    "plt.title('th_grad (from file)')\n",
    "plt.xlabel('Value')\n",
    "plt.ylabel('Depth')\n",
    "\n",
    "plt.subplot(1, 2, 2)\n",
    "plt.plot(manualGrad, z)\n",
    "plt.xlim(-0.6, 0.5)\n",
    "plt.ylim(1, 200)\n",
    "plt.title('th_grad (manually calculated)')\n",
    "plt.xlabel('Value')\n",
    "plt.ylabel('Depth')"
   ]
  },
  {
   "cell_type": "markdown",
   "metadata": {},
   "source": [
    "The gradients appear pretty different. Could be due to finite differencing. Ask about this later !"
   ]
  },
  {
   "cell_type": "markdown",
   "metadata": {},
   "source": [
    "---\n",
    "### Part 2: Symbolic Regression\n",
    "\n",
    "Let's try some symbolic regression. In this experiment, we will take a slice of the atmosphere at some height value, and will feed in all of the time steps (120) data points. We will do this for both the SI and WI, and combine their vectors to give us a total of $240$ instances."
   ]
  },
  {
   "cell_type": "code",
   "execution_count": 22,
   "metadata": {},
   "outputs": [
    {
     "name": "stdout",
     "output_type": "stream",
     "text": [
      "[0.05169276 0.04250197 0.03315227 0.02485832 0.01805246 0.01317526\n",
      " 0.00968971 0.00728376 0.00576774 0.00479018 0.00413746 0.00366434\n",
      " 0.0033939 ]\n",
      "[-0.02517356 -0.02194457 -0.01819676 -0.01482775 -0.01175328 -0.00888376\n",
      " -0.00611063 -0.00377189 -0.0022914  -0.00159467 -0.00118603 -0.00087939\n",
      " -0.00067289]\n",
      "[307.49128255 307.74629436 307.945208   308.09435793 308.20267268\n",
      " 308.28172424 308.33986251 308.38356507 308.41817153 308.44691261\n",
      " 308.47173737 308.49372338 308.51408678]\n"
     ]
    }
   ],
   "source": [
    "#just looking at the values of the variables\n",
    "\n",
    "print(dTheta_dz[60, 162:175])\n",
    "print(w_theta[60, 162:175])\n",
    "print(Theta[60, 162:175])"
   ]
  },
  {
   "cell_type": "markdown",
   "metadata": {},
   "source": [
    "We want to find an equation for the $P$ term using equation discovery. We think that we can use equation discovery to recover something more exciting for the coefficients $C_i$, where $i \\in 1,2,3$. \n",
    "\n",
    "$P=-\\frac{1}{\\rho_0} \\overline{\\theta \\frac{\\mathrm{d} p}{\\mathrm{~d} z}}=-C_1 \\frac{\\overline{w \\theta}}{\\tau_1}-C_2 \\beta \\overline{\\theta^2}+C_3 \\sigma_w^2 \\frac{\\mathrm{d} \\Theta}{\\mathrm{d} z}$\n",
    "\n",
    "Term breakdown: \n",
    "\n",
    "- $P$: Potential temperature covariance, representing the covariance between potential temperature fluctuations and another variable (often vertical velocity or buoyancy). Might be difference between bw_pres and bw_rdstr (look in source code and Stull pg 123 and Rotta model), but for now assuming it is bw_rdstr.  \n",
    "- $\\rho_0$: Reference density, a constant representing the mean density of the fluid (often air in atmospheric studies).\n",
    "- $θ$: Potential temperature, which is the temperature a parcel of air would have if it were expanded or compressed adiabatically to a standard pressure.\n",
    "- $\\overline{\\frac{\\mathrm{d} p}{\\mathrm{d} z}}$: Mean vertical gradient of pressure, indicating how the pressure changes with height.\n",
    "- $C_1, C_2, C_3$: Empirical constants determined through observations or theoretical considerations.\n",
    "- $\\overline{w θ}$: Covariance of vertical velocity (w) and potential temperature (θ), representing the turbulent heat flux.\n",
    "- $τ₁$: A timescale associated with the turbulence.\n",
    "- $β$: Buoyancy parameter, often related to the stratification of the atmosphere.\n",
    "- $\\overline{θ^2}$: Variance of potential temperature fluctuations.\n",
    "- $\\sigma_w^2$: Variance of vertical velocity fluctuations.\n",
    "- $\\frac{\\mathrm{d} \\Theta}{\\mathrm{d} z}$: Vertical gradient of the mean potential temperature.\n",
    "\n",
    "Converting to code:\n",
    "\n",
    "We don't need to worry about $\\rho_0$, $\\beta$ cuz they are constants. In code, the terms and variables are: \n",
    "\n",
    "- $P$: `bw_rdstr` \n",
    "- $\\overline{w θ}$: `th_flux`\n",
    "- $\\tau_1$: Unsure (timescale)\n",
    "- $\\overline{θ^2}$: `th_2`\n",
    "- $\\sigma_w^2$: `w_2`\n",
    "- $\\mathrm{\\Theta}$: `th` (we can get the derivative with finite differencing)\n",
    "\n",
    "For the purposes of initial equation re-discovery, \n",
    "\n",
    "$$P=-C_1 \\frac{\\overline{w \\theta}}{\\tau_1}-C_2 \\beta \\overline{\\theta^2}+C_3 \\sigma_w^2 \\frac{\\mathrm{d} \\Theta}{\\mathrm{d} z}$$ \n",
    "is equivalent to `bw_pres` = $ a * $`th_flux` $ + b * $`th_2` $ + c * $ `w_2` $*$ `th_grad`\n",
    ", where $a,b,c$ are constants. \n"
   ]
  },
  {
   "cell_type": "code",
   "execution_count": 23,
   "metadata": {},
   "outputs": [],
   "source": [
    "#the ones that go from zh have the last value trimmed\n",
    "#this is because zh goes from 0 to 256, but z goes from 0 to 255\n",
    "#ravel them along the first dim (time) to be able to put them into an array for pysr\n",
    "\n",
    "layer = 162\n",
    "\n",
    "P_WI = df_1.groups['budget'].variables['bw_rdstr'][:, layer].ravel()\n",
    "w_theta_WI = df_1.groups['thermo'].variables['th_flux'][:, layer].ravel()\n",
    "theta_2_WI = df_1.groups['thermo'].variables['th_2'][:, layer].ravel()\n",
    "sigma_w_2_WI = df_1.groups['default'].variables['w_2'][:, layer].ravel()\n",
    "dTheta_dz_WI = df_1.groups['thermo'].variables['th_grad'][:, layer].ravel()\n",
    "\n",
    "P_SI = df_2.groups['budget'].variables['bw_rdstr'][:, layer].ravel()\n",
    "w_theta_SI = df_2.groups['thermo'].variables['th_flux'][:, layer].ravel()\n",
    "theta_2_SI = df_2.groups['thermo'].variables['th_2'][:, layer].ravel()\n",
    "sigma_w_2_SI = df_2.groups['default'].variables['w_2'][:, layer].ravel()\n",
    "dTheta_dz_SI = df_2.groups['thermo'].variables['th_grad'][:, layer].ravel()\n",
    "\n",
    "#combine P_WI and P_SI to make P, and so on\n",
    "P = np.concatenate((P_WI, P_SI))\n",
    "w_theta = np.concatenate((w_theta_WI, w_theta_SI))\n",
    "theta_2 = np.concatenate((theta_2_WI, theta_2_SI))\n",
    "sigma_w_2 = np.concatenate((sigma_w_2_WI, sigma_w_2_SI))\n",
    "dTheta_dz = np.concatenate((dTheta_dz_WI, dTheta_dz_SI))\n",
    "\n",
    "assert(len(P) == len(w_theta) == len(theta_2) == len(sigma_w_2) == len(dTheta_dz) == 240)"
   ]
  },
  {
   "cell_type": "markdown",
   "metadata": {},
   "source": [
    "Stacking the data into input `X` and output `y` to make life nice and simple: "
   ]
  },
  {
   "cell_type": "code",
   "execution_count": 24,
   "metadata": {},
   "outputs": [],
   "source": [
    "X = np.column_stack([w_theta, theta_2, sigma_w_2, dTheta_dz])\n",
    "y = np.array(P)"
   ]
  },
  {
   "cell_type": "markdown",
   "metadata": {},
   "source": [
    "Setting up our model with just basic unitary operators "
   ]
  },
  {
   "cell_type": "code",
   "execution_count": 25,
   "metadata": {},
   "outputs": [],
   "source": [
    "model = PySRRegressor(\n",
    "    niterations=100,  # < Increase me for better results\n",
    "    binary_operators=[\"+\", \"*\", \"-\", \"/\"],\n",
    "    # unary_operators=[\n",
    "    #     \"cos\",\n",
    "    #     \"exp\",\n",
    "    #     \"sin\",\n",
    "    #     \"inv(x) = 1/x\",\n",
    "    #     \"square\",\n",
    "    #     \"cube\",\n",
    "    #     # ^ Custom operator (julia syntax)\n",
    "    # ],\n",
    "    extra_sympy_mappings={\"inv\": lambda x: 1 / x},\n",
    "    # ^ Define operator for SymPy as well\n",
    "    elementwise_loss=\"loss(prediction, target) = (prediction - target)^2\",\n",
    "    # ^ Custom loss function (julia syntax)\n",
    ")"
   ]
  },
  {
   "cell_type": "markdown",
   "metadata": {},
   "source": [
    "Fitting the model: "
   ]
  },
  {
   "cell_type": "code",
   "execution_count": 26,
   "metadata": {},
   "outputs": [
    {
     "name": "stderr",
     "output_type": "stream",
     "text": [
      "c:\\Python\\Python_3_11\\Lib\\site-packages\\pysr\\sr.py:1307: UserWarning: Note: it looks like you are running in Jupyter. The progress bar will be turned off.\n",
      "  warnings.warn(\n"
     ]
    },
    {
     "name": "stdout",
     "output_type": "stream",
     "text": [
      "\n",
      "Expressions evaluated per second: 1.610e+05\n",
      "Head worker occupation: 24.9%\n",
      "Progress: 396 / 1500 total iterations (26.400%)\n",
      "====================================================================================================\n",
      "Hall of Fame:\n",
      "---------------------------------------------------------------------------------------------------\n",
      "Complexity  Loss       Score     Equation\n",
      "1           2.532e-02  1.594e+01  y = x₂\n",
      "3           1.128e-08  7.193e+00  y = x₃ * -0.0093299\n",
      "5           6.388e-09  2.845e-01  y = (-0.0060359 * x₃) - 0.0001356\n",
      "7           2.837e-09  4.058e-01  y = (0.14524 * x₃) * (x₃ - 0.11089)\n",
      "9           1.608e-09  2.839e-01  y = x₃ * ((x₃ + -0.017918) - (0.80998 * x₃))\n",
      "---------------------------------------------------------------------------------------------------\n",
      "====================================================================================================\n",
      "Press 'q' and then <enter> to stop execution early.\n",
      "\n",
      "Expressions evaluated per second: 1.760e+05\n",
      "Head worker occupation: 28.3%\n",
      "Progress: 817 / 1500 total iterations (54.467%)\n",
      "====================================================================================================\n",
      "Hall of Fame:\n",
      "---------------------------------------------------------------------------------------------------\n",
      "Complexity  Loss       Score     Equation\n",
      "1           2.532e-02  1.594e+01  y = x₂\n",
      "3           1.128e-08  7.193e+00  y = x₃ * -0.0093299\n",
      "5           6.388e-09  2.845e-01  y = (-0.0060359 * x₃) - 0.0001356\n",
      "7           2.837e-09  4.058e-01  y = (0.14524 * x₃) * (x₃ - 0.11089)\n",
      "9           1.608e-09  2.839e-01  y = x₃ * ((x₃ + -0.017918) - (0.80998 * x₃))\n",
      "13          7.951e-10  1.760e-01  y = (((0.93803 * x₃) - 0.078374) * x₃) * ((1.2487 * -0.55996) ...\n",
      "                                  * -0.38262)\n",
      "---------------------------------------------------------------------------------------------------\n",
      "====================================================================================================\n",
      "Press 'q' and then <enter> to stop execution early.\n",
      "\n",
      "Expressions evaluated per second: 1.810e+05\n",
      "Head worker occupation: 31.1%\n",
      "Progress: 1261 / 1500 total iterations (84.067%)\n",
      "====================================================================================================\n",
      "Hall of Fame:\n",
      "---------------------------------------------------------------------------------------------------\n",
      "Complexity  Loss       Score     Equation\n",
      "1           2.532e-02  1.594e+01  y = x₂\n",
      "3           1.128e-08  7.193e+00  y = x₃ * -0.0093299\n",
      "5           6.388e-09  2.845e-01  y = (-0.0060359 * x₃) - 0.0001356\n",
      "7           1.597e-09  6.931e-01  y = (-0.074398 + x₃) * (x₃ * 0.3329)\n",
      "11          1.499e-09  1.584e-02  y = x₃ * (((x₃ + -0.017918) - (0.80998 * x₃)) / 0.98579)\n",
      "13          7.951e-10  3.171e-01  y = (((0.93803 * x₃) - 0.078374) * x₃) * ((1.2487 * -0.55996) ...\n",
      "                                  * -0.38262)\n",
      "17          7.951e-10  2.980e-08  y = (((0.93803 * x₃) - 0.078374) * x₃) * (((1.2487 / x₀) * (-0...\n",
      "                                  .55996 * x₀)) * -0.38262)\n",
      "---------------------------------------------------------------------------------------------------\n",
      "====================================================================================================\n",
      "Press 'q' and then <enter> to stop execution early.\n"
     ]
    },
    {
     "name": "stderr",
     "output_type": "stream",
     "text": [
      "[ Info: Started!\n"
     ]
    },
    {
     "data": {
      "text/html": [
       "<style>#sk-container-id-2 {color: black;}#sk-container-id-2 pre{padding: 0;}#sk-container-id-2 div.sk-toggleable {background-color: white;}#sk-container-id-2 label.sk-toggleable__label {cursor: pointer;display: block;width: 100%;margin-bottom: 0;padding: 0.3em;box-sizing: border-box;text-align: center;}#sk-container-id-2 label.sk-toggleable__label-arrow:before {content: \"▸\";float: left;margin-right: 0.25em;color: #696969;}#sk-container-id-2 label.sk-toggleable__label-arrow:hover:before {color: black;}#sk-container-id-2 div.sk-estimator:hover label.sk-toggleable__label-arrow:before {color: black;}#sk-container-id-2 div.sk-toggleable__content {max-height: 0;max-width: 0;overflow: hidden;text-align: left;background-color: #f0f8ff;}#sk-container-id-2 div.sk-toggleable__content pre {margin: 0.2em;color: black;border-radius: 0.25em;background-color: #f0f8ff;}#sk-container-id-2 input.sk-toggleable__control:checked~div.sk-toggleable__content {max-height: 200px;max-width: 100%;overflow: auto;}#sk-container-id-2 input.sk-toggleable__control:checked~label.sk-toggleable__label-arrow:before {content: \"▾\";}#sk-container-id-2 div.sk-estimator input.sk-toggleable__control:checked~label.sk-toggleable__label {background-color: #d4ebff;}#sk-container-id-2 div.sk-label input.sk-toggleable__control:checked~label.sk-toggleable__label {background-color: #d4ebff;}#sk-container-id-2 input.sk-hidden--visually {border: 0;clip: rect(1px 1px 1px 1px);clip: rect(1px, 1px, 1px, 1px);height: 1px;margin: -1px;overflow: hidden;padding: 0;position: absolute;width: 1px;}#sk-container-id-2 div.sk-estimator {font-family: monospace;background-color: #f0f8ff;border: 1px dotted black;border-radius: 0.25em;box-sizing: border-box;margin-bottom: 0.5em;}#sk-container-id-2 div.sk-estimator:hover {background-color: #d4ebff;}#sk-container-id-2 div.sk-parallel-item::after {content: \"\";width: 100%;border-bottom: 1px solid gray;flex-grow: 1;}#sk-container-id-2 div.sk-label:hover label.sk-toggleable__label {background-color: #d4ebff;}#sk-container-id-2 div.sk-serial::before {content: \"\";position: absolute;border-left: 1px solid gray;box-sizing: border-box;top: 0;bottom: 0;left: 50%;z-index: 0;}#sk-container-id-2 div.sk-serial {display: flex;flex-direction: column;align-items: center;background-color: white;padding-right: 0.2em;padding-left: 0.2em;position: relative;}#sk-container-id-2 div.sk-item {position: relative;z-index: 1;}#sk-container-id-2 div.sk-parallel {display: flex;align-items: stretch;justify-content: center;background-color: white;position: relative;}#sk-container-id-2 div.sk-item::before, #sk-container-id-2 div.sk-parallel-item::before {content: \"\";position: absolute;border-left: 1px solid gray;box-sizing: border-box;top: 0;bottom: 0;left: 50%;z-index: -1;}#sk-container-id-2 div.sk-parallel-item {display: flex;flex-direction: column;z-index: 1;position: relative;background-color: white;}#sk-container-id-2 div.sk-parallel-item:first-child::after {align-self: flex-end;width: 50%;}#sk-container-id-2 div.sk-parallel-item:last-child::after {align-self: flex-start;width: 50%;}#sk-container-id-2 div.sk-parallel-item:only-child::after {width: 0;}#sk-container-id-2 div.sk-dashed-wrapped {border: 1px dashed gray;margin: 0 0.4em 0.5em 0.4em;box-sizing: border-box;padding-bottom: 0.4em;background-color: white;}#sk-container-id-2 div.sk-label label {font-family: monospace;font-weight: bold;display: inline-block;line-height: 1.2em;}#sk-container-id-2 div.sk-label-container {text-align: center;}#sk-container-id-2 div.sk-container {/* jupyter's `normalize.less` sets `[hidden] { display: none; }` but bootstrap.min.css set `[hidden] { display: none !important; }` so we also need the `!important` here to be able to override the default hidden behavior on the sphinx rendered scikit-learn.org. See: https://github.com/scikit-learn/scikit-learn/issues/21755 */display: inline-block !important;position: relative;}#sk-container-id-2 div.sk-text-repr-fallback {display: none;}</style><div id=\"sk-container-id-2\" class=\"sk-top-container\"><div class=\"sk-text-repr-fallback\"><pre>PySRRegressor.equations_ = [\n",
       "\t   pick     score                                           equation  \\\n",
       "\t0        0.000000                                                 x2   \n",
       "\t1        7.311801                                  x3 * -0.009329908   \n",
       "\t2        0.284484                (-0.006035894 * x3) - 0.00013560409   \n",
       "\t3        0.693085             (-0.07439781 + x3) * (x3 * 0.33290458)   \n",
       "\t4        0.028497  (-0.07439781 + x3) * ((x3 * 0.9844086) * 0.332...   \n",
       "\t5  &gt;&gt;&gt;&gt;  0.328909  x3 * (-0.021398954 - ((0.2789253 - (0.47934002...   \n",
       "\t\n",
       "\t           loss  complexity  \n",
       "\t0  2.531624e-02           1  \n",
       "\t1  1.128365e-08           3  \n",
       "\t2  6.387777e-09           5  \n",
       "\t3  1.597142e-09           7  \n",
       "\t4  1.508659e-09           9  \n",
       "\t5  7.814563e-10          11  \n",
       "]</pre><b>In a Jupyter environment, please rerun this cell to show the HTML representation or trust the notebook. <br />On GitHub, the HTML representation is unable to render, please try loading this page with nbviewer.org.</b></div><div class=\"sk-container\" hidden><div class=\"sk-item\"><div class=\"sk-estimator sk-toggleable\"><input class=\"sk-toggleable__control sk-hidden--visually\" id=\"sk-estimator-id-2\" type=\"checkbox\" checked><label for=\"sk-estimator-id-2\" class=\"sk-toggleable__label sk-toggleable__label-arrow\">PySRRegressor</label><div class=\"sk-toggleable__content\"><pre>PySRRegressor.equations_ = [\n",
       "\t   pick     score                                           equation  \\\n",
       "\t0        0.000000                                                 x2   \n",
       "\t1        7.311801                                  x3 * -0.009329908   \n",
       "\t2        0.284484                (-0.006035894 * x3) - 0.00013560409   \n",
       "\t3        0.693085             (-0.07439781 + x3) * (x3 * 0.33290458)   \n",
       "\t4        0.028497  (-0.07439781 + x3) * ((x3 * 0.9844086) * 0.332...   \n",
       "\t5  &gt;&gt;&gt;&gt;  0.328909  x3 * (-0.021398954 - ((0.2789253 - (0.47934002...   \n",
       "\t\n",
       "\t           loss  complexity  \n",
       "\t0  2.531624e-02           1  \n",
       "\t1  1.128365e-08           3  \n",
       "\t2  6.387777e-09           5  \n",
       "\t3  1.597142e-09           7  \n",
       "\t4  1.508659e-09           9  \n",
       "\t5  7.814563e-10          11  \n",
       "]</pre></div></div></div></div></div>"
      ],
      "text/plain": [
       "PySRRegressor.equations_ = [\n",
       "\t   pick     score                                           equation  \\\n",
       "\t0        0.000000                                                 x2   \n",
       "\t1        7.311801                                  x3 * -0.009329908   \n",
       "\t2        0.284484                (-0.006035894 * x3) - 0.00013560409   \n",
       "\t3        0.693085             (-0.07439781 + x3) * (x3 * 0.33290458)   \n",
       "\t4        0.028497  (-0.07439781 + x3) * ((x3 * 0.9844086) * 0.332...   \n",
       "\t5  >>>>  0.328909  x3 * (-0.021398954 - ((0.2789253 - (0.47934002...   \n",
       "\t\n",
       "\t           loss  complexity  \n",
       "\t0  2.531624e-02           1  \n",
       "\t1  1.128365e-08           3  \n",
       "\t2  6.387777e-09           5  \n",
       "\t3  1.597142e-09           7  \n",
       "\t4  1.508659e-09           9  \n",
       "\t5  7.814563e-10          11  \n",
       "]"
      ]
     },
     "execution_count": 26,
     "metadata": {},
     "output_type": "execute_result"
    }
   ],
   "source": [
    "model.fit(X,y)"
   ]
  },
  {
   "cell_type": "markdown",
   "metadata": {},
   "source": [
    "Taking a look at general results:"
   ]
  },
  {
   "cell_type": "code",
   "execution_count": 27,
   "metadata": {},
   "outputs": [
    {
     "name": "stdout",
     "output_type": "stream",
     "text": [
      "PySRRegressor.equations_ = [\n",
      "\t   pick     score                                           equation  \\\n",
      "\t0        0.000000                                                 x2   \n",
      "\t1        7.311801                                  x3 * -0.009329908   \n",
      "\t2        0.284484                (-0.006035894 * x3) - 0.00013560409   \n",
      "\t3        0.693085             (-0.07439781 + x3) * (x3 * 0.33290458)   \n",
      "\t4        0.028497  (-0.07439781 + x3) * ((x3 * 0.9844086) * 0.332...   \n",
      "\t5  >>>>  0.328909  x3 * (-0.021398954 - ((0.2789253 - (0.47934002...   \n",
      "\t\n",
      "\t           loss  complexity  \n",
      "\t0  2.531624e-02           1  \n",
      "\t1  1.128365e-08           3  \n",
      "\t2  6.387777e-09           5  \n",
      "\t3  1.597142e-09           7  \n",
      "\t4  1.508659e-09           9  \n",
      "\t5  7.814563e-10          11  \n",
      "]\n"
     ]
    }
   ],
   "source": [
    "print(model)"
   ]
  },
  {
   "cell_type": "markdown",
   "metadata": {},
   "source": [
    "Isolating the last (best) equation"
   ]
  },
  {
   "cell_type": "code",
   "execution_count": 28,
   "metadata": {},
   "outputs": [
    {
     "name": "stdout",
     "output_type": "stream",
     "text": [
      "(6, 6)\n"
     ]
    },
    {
     "data": {
      "text/html": [
       "<div>\n",
       "<style scoped>\n",
       "    .dataframe tbody tr th:only-of-type {\n",
       "        vertical-align: middle;\n",
       "    }\n",
       "\n",
       "    .dataframe tbody tr th {\n",
       "        vertical-align: top;\n",
       "    }\n",
       "\n",
       "    .dataframe thead th {\n",
       "        text-align: right;\n",
       "    }\n",
       "</style>\n",
       "<table border=\"1\" class=\"dataframe\">\n",
       "  <thead>\n",
       "    <tr style=\"text-align: right;\">\n",
       "      <th></th>\n",
       "      <th>complexity</th>\n",
       "      <th>loss</th>\n",
       "      <th>score</th>\n",
       "      <th>equation</th>\n",
       "      <th>sympy_format</th>\n",
       "      <th>lambda_format</th>\n",
       "    </tr>\n",
       "  </thead>\n",
       "  <tbody>\n",
       "    <tr>\n",
       "      <th>0</th>\n",
       "      <td>1</td>\n",
       "      <td>2.531624e-02</td>\n",
       "      <td>0.000000</td>\n",
       "      <td>x2</td>\n",
       "      <td>x2</td>\n",
       "      <td>PySRFunction(X=&gt;x2)</td>\n",
       "    </tr>\n",
       "    <tr>\n",
       "      <th>1</th>\n",
       "      <td>3</td>\n",
       "      <td>1.128365e-08</td>\n",
       "      <td>7.311801</td>\n",
       "      <td>x3 * -0.009329908</td>\n",
       "      <td>-0.009329908*x3</td>\n",
       "      <td>PySRFunction(X=&gt;-0.009329908*x3)</td>\n",
       "    </tr>\n",
       "    <tr>\n",
       "      <th>2</th>\n",
       "      <td>5</td>\n",
       "      <td>6.387777e-09</td>\n",
       "      <td>0.284484</td>\n",
       "      <td>(-0.006035894 * x3) - 0.00013560409</td>\n",
       "      <td>-0.006035894*x3 - 0.00013560409</td>\n",
       "      <td>PySRFunction(X=&gt;-0.006035894*x3 - 0.00013560409)</td>\n",
       "    </tr>\n",
       "    <tr>\n",
       "      <th>3</th>\n",
       "      <td>7</td>\n",
       "      <td>1.597142e-09</td>\n",
       "      <td>0.693085</td>\n",
       "      <td>(-0.07439781 + x3) * (x3 * 0.33290458)</td>\n",
       "      <td>0.33290458*x3*(x3 - 0.07439781)</td>\n",
       "      <td>PySRFunction(X=&gt;0.33290458*x3*(x3 - 0.07439781))</td>\n",
       "    </tr>\n",
       "    <tr>\n",
       "      <th>4</th>\n",
       "      <td>9</td>\n",
       "      <td>1.508659e-09</td>\n",
       "      <td>0.028497</td>\n",
       "      <td>(-0.07439781 + x3) * ((x3 * 0.9844086) * 0.332...</td>\n",
       "      <td>0.327714131531388*x3*(x3 - 0.07439781)</td>\n",
       "      <td>PySRFunction(X=&gt;0.327714131531388*x3*(x3 - 0.0...</td>\n",
       "    </tr>\n",
       "    <tr>\n",
       "      <th>5</th>\n",
       "      <td>11</td>\n",
       "      <td>7.814563e-10</td>\n",
       "      <td>0.328909</td>\n",
       "      <td>x3 * (-0.021398954 - ((0.2789253 - (0.47934002...</td>\n",
       "      <td>x3*(0.260342966*x3 - 0.021398954)</td>\n",
       "      <td>PySRFunction(X=&gt;x3*(0.260342966*x3 - 0.0213989...</td>\n",
       "    </tr>\n",
       "  </tbody>\n",
       "</table>\n",
       "</div>"
      ],
      "text/plain": [
       "   complexity          loss     score  \\\n",
       "0           1  2.531624e-02  0.000000   \n",
       "1           3  1.128365e-08  7.311801   \n",
       "2           5  6.387777e-09  0.284484   \n",
       "3           7  1.597142e-09  0.693085   \n",
       "4           9  1.508659e-09  0.028497   \n",
       "5          11  7.814563e-10  0.328909   \n",
       "\n",
       "                                            equation  \\\n",
       "0                                                 x2   \n",
       "1                                  x3 * -0.009329908   \n",
       "2                (-0.006035894 * x3) - 0.00013560409   \n",
       "3             (-0.07439781 + x3) * (x3 * 0.33290458)   \n",
       "4  (-0.07439781 + x3) * ((x3 * 0.9844086) * 0.332...   \n",
       "5  x3 * (-0.021398954 - ((0.2789253 - (0.47934002...   \n",
       "\n",
       "                             sympy_format  \\\n",
       "0                                      x2   \n",
       "1                         -0.009329908*x3   \n",
       "2         -0.006035894*x3 - 0.00013560409   \n",
       "3         0.33290458*x3*(x3 - 0.07439781)   \n",
       "4  0.327714131531388*x3*(x3 - 0.07439781)   \n",
       "5       x3*(0.260342966*x3 - 0.021398954)   \n",
       "\n",
       "                                       lambda_format  \n",
       "0                                PySRFunction(X=>x2)  \n",
       "1                   PySRFunction(X=>-0.009329908*x3)  \n",
       "2   PySRFunction(X=>-0.006035894*x3 - 0.00013560409)  \n",
       "3   PySRFunction(X=>0.33290458*x3*(x3 - 0.07439781))  \n",
       "4  PySRFunction(X=>0.327714131531388*x3*(x3 - 0.0...  \n",
       "5  PySRFunction(X=>x3*(0.260342966*x3 - 0.0213989...  "
      ]
     },
     "metadata": {},
     "output_type": "display_data"
    },
    {
     "name": "stdout",
     "output_type": "stream",
     "text": [
      "Final Equation:  x3*(0.260342966*x3 - 0.021398954)\n"
     ]
    }
   ],
   "source": [
    "equations = model.equations_\n",
    "\n",
    "print(equations.shape)\n",
    "\n",
    "display(equations)\n",
    "print(\"Final Equation: \", equations.iloc[-1,4])"
   ]
  },
  {
   "cell_type": "markdown",
   "metadata": {},
   "source": [
    "we are making sure that github works and everybody understands what's going on"
   ]
  },
  {
   "cell_type": "code",
   "execution_count": 1,
   "metadata": {},
   "outputs": [
    {
     "name": "stdout",
     "output_type": "stream",
     "text": [
      "Github is a pain but we figured it out\n"
     ]
    }
   ],
   "source": [
    "print(\"Github is a pain but we figured it out\")"
   ]
  }
 ],
 "metadata": {
  "kernelspec": {
   "display_name": "Python 3",
   "language": "python",
   "name": "python3"
  },
  "language_info": {
   "codemirror_mode": {
    "name": "ipython",
    "version": 3
   },
   "file_extension": ".py",
   "mimetype": "text/x-python",
   "name": "python",
   "nbconvert_exporter": "python",
   "pygments_lexer": "ipython3",
   "version": "3.11.1"
  }
 },
 "nbformat": 4,
 "nbformat_minor": 2
}
